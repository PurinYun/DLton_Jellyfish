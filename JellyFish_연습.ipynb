{
 "cells": [
  {
   "cell_type": "markdown",
   "id": "3234214b",
   "metadata": {},
   "source": [
    "# Jellyfish Classification"
   ]
  },
  {
   "cell_type": "code",
   "execution_count": 1,
   "id": "50edd375",
   "metadata": {},
   "outputs": [
    {
     "name": "stdout",
     "output_type": "stream",
     "text": [
      "Collecting kaggle\n",
      "  Downloading kaggle-1.6.2.tar.gz (84 kB)\n",
      "     |████████████████████████████████| 84 kB 1.4 MB/s             \n",
      "\u001b[?25h  Preparing metadata (setup.py) ... \u001b[?25ldone\n",
      "\u001b[?25hRequirement already satisfied: six>=1.10 in /opt/conda/lib/python3.9/site-packages (from kaggle) (1.16.0)\n",
      "Requirement already satisfied: certifi in /opt/conda/lib/python3.9/site-packages (from kaggle) (2021.10.8)\n",
      "Requirement already satisfied: python-dateutil in /opt/conda/lib/python3.9/site-packages (from kaggle) (2.8.2)\n",
      "Requirement already satisfied: requests in /opt/conda/lib/python3.9/site-packages (from kaggle) (2.26.0)\n",
      "Requirement already satisfied: tqdm in /opt/conda/lib/python3.9/site-packages (from kaggle) (4.62.3)\n",
      "Collecting python-slugify\n",
      "  Downloading python_slugify-8.0.1-py2.py3-none-any.whl (9.7 kB)\n",
      "Requirement already satisfied: urllib3 in /opt/conda/lib/python3.9/site-packages (from kaggle) (1.26.7)\n",
      "Requirement already satisfied: bleach in /opt/conda/lib/python3.9/site-packages (from kaggle) (4.1.0)\n",
      "Requirement already satisfied: webencodings in /opt/conda/lib/python3.9/site-packages (from bleach->kaggle) (0.5.1)\n",
      "Requirement already satisfied: packaging in /opt/conda/lib/python3.9/site-packages (from bleach->kaggle) (21.3)\n",
      "Collecting text-unidecode>=1.3\n",
      "  Downloading text_unidecode-1.3-py2.py3-none-any.whl (78 kB)\n",
      "     |████████████████████████████████| 78 kB 8.9 MB/s             \n",
      "\u001b[?25hRequirement already satisfied: charset-normalizer~=2.0.0 in /opt/conda/lib/python3.9/site-packages (from requests->kaggle) (2.0.8)\n",
      "Requirement already satisfied: idna<4,>=2.5 in /opt/conda/lib/python3.9/site-packages (from requests->kaggle) (2.10)\n",
      "Requirement already satisfied: pyparsing!=3.0.5,>=2.0.2 in /opt/conda/lib/python3.9/site-packages (from packaging->bleach->kaggle) (3.0.6)\n",
      "Building wheels for collected packages: kaggle\n",
      "  Building wheel for kaggle (setup.py) ... \u001b[?25ldone\n",
      "\u001b[?25h  Created wheel for kaggle: filename=kaggle-1.6.2-py3-none-any.whl size=111929 sha256=994d18d2ae1e767b30efbc21364d61a526097a3e32f732f8eabe6c1d9eeada69\n",
      "  Stored in directory: /aiffel/.cache/pip/wheels/e6/91/4d/88933638d5eea41e54c466ace38e34f79ce8d9709e05f8e7e8\n",
      "Successfully built kaggle\n",
      "Installing collected packages: text-unidecode, python-slugify, kaggle\n",
      "Successfully installed kaggle-1.6.2 python-slugify-8.0.1 text-unidecode-1.3\n",
      "\u001b[33mWARNING: Running pip as the 'root' user can result in broken permissions and conflicting behaviour with the system package manager. It is recommended to use a virtual environment instead: https://pip.pypa.io/warnings/venv\u001b[0m\n"
     ]
    }
   ],
   "source": [
    "! mkdir ~/aiffel/jellyfish\n",
    "! pip install kaggle"
   ]
  },
  {
   "cell_type": "code",
   "execution_count": 3,
   "id": "7bdf7b79",
   "metadata": {},
   "outputs": [
    {
     "name": "stdout",
     "output_type": "stream",
     "text": [
      "mkdir: cannot create directory ‘/aiffel/.kaggle’: File exists\n",
      "Warning: Your Kaggle API key is readable by other users on this system! To fix this, you can run 'chmod 600 /aiffel/.kaggle/kaggle.json'\n",
      "Downloading jellyfish-types.zip to /aiffel/aiffel\n",
      " 90%|██████████████████████████████████▏   | 23.0M/25.5M [00:00<00:00, 56.5MB/s]\n",
      "100%|██████████████████████████████████████| 25.5M/25.5M [00:00<00:00, 64.4MB/s]\n",
      "Archive:  jellyfish-types.zip\n",
      "  inflating: Moon_jellyfish/01.jpg   \n",
      "  inflating: Moon_jellyfish/02.jpg   \n",
      "  inflating: Moon_jellyfish/03.jpg   \n",
      "  inflating: Moon_jellyfish/04.jpg   \n",
      "  inflating: Moon_jellyfish/05.jpg   \n",
      "  inflating: Moon_jellyfish/06.jpg   \n",
      "  inflating: Moon_jellyfish/08.jpg   \n",
      "  inflating: Moon_jellyfish/10.jpg   \n",
      "  inflating: Moon_jellyfish/12.jpg   \n",
      "  inflating: Moon_jellyfish/13.jpg   \n",
      "  inflating: Moon_jellyfish/14.jpg   \n",
      "  inflating: Moon_jellyfish/16.jpg   \n",
      "  inflating: Moon_jellyfish/17.jpg   \n",
      "  inflating: Moon_jellyfish/18.jpg   \n",
      "  inflating: Moon_jellyfish/21.jpg   \n",
      "  inflating: Moon_jellyfish/22.jpg   \n",
      "  inflating: Moon_jellyfish/24.jpg   \n",
      "  inflating: Moon_jellyfish/25.jpg   \n",
      "  inflating: Moon_jellyfish/26.jpg   \n",
      "  inflating: Moon_jellyfish/28.jpg   \n",
      "  inflating: Moon_jellyfish/29.JPG   \n",
      "  inflating: Moon_jellyfish/30.jpg   \n",
      "  inflating: Moon_jellyfish/31.jpg   \n",
      "  inflating: Moon_jellyfish/32.jpg   \n",
      "  inflating: Moon_jellyfish/34.jpg   \n",
      "  inflating: Moon_jellyfish/35.jpg   \n",
      "  inflating: Moon_jellyfish/36.jpg   \n",
      "  inflating: Moon_jellyfish/37.jpg   \n",
      "  inflating: Moon_jellyfish/38.jpg   \n",
      "  inflating: Moon_jellyfish/40.jpg   \n",
      "  inflating: Moon_jellyfish/41.jpg   \n",
      "  inflating: Moon_jellyfish/42.jpg   \n",
      "  inflating: Moon_jellyfish/43.jpg   \n",
      "  inflating: Moon_jellyfish/45.jpg   \n",
      "  inflating: Moon_jellyfish/46.jpg   \n",
      "  inflating: Moon_jellyfish/47.jpg   \n",
      "  inflating: Moon_jellyfish/49.jpg   \n",
      "  inflating: Moon_jellyfish/50.jpg   \n",
      "  inflating: Moon_jellyfish/51.jpg   \n",
      "  inflating: Moon_jellyfish/52.JPG   \n",
      "  inflating: Moon_jellyfish/53.jpg   \n",
      "  inflating: Moon_jellyfish/54.jpg   \n",
      "  inflating: Moon_jellyfish/55.jpg   \n",
      "  inflating: Moon_jellyfish/56.jpg   \n",
      "  inflating: Moon_jellyfish/57.jpg   \n",
      "  inflating: Moon_jellyfish/58.jpg   \n",
      "  inflating: Moon_jellyfish/61.jpg   \n",
      "  inflating: Moon_jellyfish/aug-0-01.jpg  \n",
      "  inflating: Moon_jellyfish/aug-1-02.jpg  \n",
      "  inflating: Moon_jellyfish/aug-10-14.jpg  \n",
      "  inflating: Moon_jellyfish/aug-100-08.jpg  \n",
      "  inflating: Moon_jellyfish/aug-101-10.jpg  \n",
      "  inflating: Moon_jellyfish/aug-102-12.jpg  \n",
      "  inflating: Moon_jellyfish/aug-11-16.jpg  \n",
      "  inflating: Moon_jellyfish/aug-12-17.jpg  \n",
      "  inflating: Moon_jellyfish/aug-13-18.jpg  \n",
      "  inflating: Moon_jellyfish/aug-14-21.jpg  \n",
      "  inflating: Moon_jellyfish/aug-15-22.jpg  \n",
      "  inflating: Moon_jellyfish/aug-16-24.jpg  \n",
      "  inflating: Moon_jellyfish/aug-17-25.jpg  \n",
      "  inflating: Moon_jellyfish/aug-18-26.jpg  \n",
      "  inflating: Moon_jellyfish/aug-19-28.jpg  \n",
      "  inflating: Moon_jellyfish/aug-2-03.jpg  \n",
      "  inflating: Moon_jellyfish/aug-20-29.JPG  \n",
      "  inflating: Moon_jellyfish/aug-21-30.jpg  \n",
      "  inflating: Moon_jellyfish/aug-22-31.jpg  \n",
      "  inflating: Moon_jellyfish/aug-23-32.jpg  \n",
      "  inflating: Moon_jellyfish/aug-24-34.jpg  \n",
      "  inflating: Moon_jellyfish/aug-25-35.jpg  \n",
      "  inflating: Moon_jellyfish/aug-26-36.jpg  \n",
      "  inflating: Moon_jellyfish/aug-27-37.jpg  \n",
      "  inflating: Moon_jellyfish/aug-28-38.jpg  \n",
      "  inflating: Moon_jellyfish/aug-29-40.jpg  \n",
      "  inflating: Moon_jellyfish/aug-3-04.jpg  \n",
      "  inflating: Moon_jellyfish/aug-30-41.jpg  \n",
      "  inflating: Moon_jellyfish/aug-31-42.jpg  \n",
      "  inflating: Moon_jellyfish/aug-32-43.jpg  \n",
      "  inflating: Moon_jellyfish/aug-33-45.jpg  \n",
      "  inflating: Moon_jellyfish/aug-34-46.jpg  \n",
      "  inflating: Moon_jellyfish/aug-35-47.jpg  \n",
      "  inflating: Moon_jellyfish/aug-36-49.jpg  \n",
      "  inflating: Moon_jellyfish/aug-37-50.jpg  \n",
      "  inflating: Moon_jellyfish/aug-38-51.jpg  \n",
      "  inflating: Moon_jellyfish/aug-39-52.JPG  \n",
      "  inflating: Moon_jellyfish/aug-4-05.jpg  \n",
      "  inflating: Moon_jellyfish/aug-40-53.jpg  \n",
      "  inflating: Moon_jellyfish/aug-41-54.jpg  \n",
      "  inflating: Moon_jellyfish/aug-42-55.jpg  \n",
      "  inflating: Moon_jellyfish/aug-43-56.jpg  \n",
      "  inflating: Moon_jellyfish/aug-44-57.jpg  \n",
      "  inflating: Moon_jellyfish/aug-45-58.jpg  \n",
      "  inflating: Moon_jellyfish/aug-46-61.jpg  \n",
      "  inflating: Moon_jellyfish/aug-47-01.jpg  \n",
      "  inflating: Moon_jellyfish/aug-48-02.jpg  \n",
      "  inflating: Moon_jellyfish/aug-49-03.jpg  \n",
      "  inflating: Moon_jellyfish/aug-5-06.jpg  \n",
      "  inflating: Moon_jellyfish/aug-50-04.jpg  \n",
      "  inflating: Moon_jellyfish/aug-51-05.jpg  \n",
      "  inflating: Moon_jellyfish/aug-52-06.jpg  \n",
      "  inflating: Moon_jellyfish/aug-53-08.jpg  \n",
      "  inflating: Moon_jellyfish/aug-54-10.jpg  \n",
      "  inflating: Moon_jellyfish/aug-55-12.jpg  \n",
      "  inflating: Moon_jellyfish/aug-56-13.jpg  \n",
      "  inflating: Moon_jellyfish/aug-57-14.jpg  \n",
      "  inflating: Moon_jellyfish/aug-58-16.jpg  \n",
      "  inflating: Moon_jellyfish/aug-59-17.jpg  \n",
      "  inflating: Moon_jellyfish/aug-6-08.jpg  \n",
      "  inflating: Moon_jellyfish/aug-60-18.jpg  \n",
      "  inflating: Moon_jellyfish/aug-61-21.jpg  \n",
      "  inflating: Moon_jellyfish/aug-62-22.jpg  \n",
      "  inflating: Moon_jellyfish/aug-63-24.jpg  \n",
      "  inflating: Moon_jellyfish/aug-64-25.jpg  \n",
      "  inflating: Moon_jellyfish/aug-65-26.jpg  \n",
      "  inflating: Moon_jellyfish/aug-66-28.jpg  \n",
      "  inflating: Moon_jellyfish/aug-67-29.JPG  \n",
      "  inflating: Moon_jellyfish/aug-68-30.jpg  \n",
      "  inflating: Moon_jellyfish/aug-69-31.jpg  \n",
      "  inflating: Moon_jellyfish/aug-7-10.jpg  \n",
      "  inflating: Moon_jellyfish/aug-70-32.jpg  \n",
      "  inflating: Moon_jellyfish/aug-71-34.jpg  \n",
      "  inflating: Moon_jellyfish/aug-72-35.jpg  \n",
      "  inflating: Moon_jellyfish/aug-73-36.jpg  \n",
      "  inflating: Moon_jellyfish/aug-74-37.jpg  \n",
      "  inflating: Moon_jellyfish/aug-75-38.jpg  \n",
      "  inflating: Moon_jellyfish/aug-76-40.jpg  \n",
      "  inflating: Moon_jellyfish/aug-77-41.jpg  \n",
      "  inflating: Moon_jellyfish/aug-78-42.jpg  \n",
      "  inflating: Moon_jellyfish/aug-79-43.jpg  \n",
      "  inflating: Moon_jellyfish/aug-8-12.jpg  \n",
      "  inflating: Moon_jellyfish/aug-80-45.jpg  \n",
      "  inflating: Moon_jellyfish/aug-81-46.jpg  \n",
      "  inflating: Moon_jellyfish/aug-82-47.jpg  \n",
      "  inflating: Moon_jellyfish/aug-83-49.jpg  \n",
      "  inflating: Moon_jellyfish/aug-84-50.jpg  \n",
      "  inflating: Moon_jellyfish/aug-85-51.jpg  \n",
      "  inflating: Moon_jellyfish/aug-86-52.JPG  \n",
      "  inflating: Moon_jellyfish/aug-87-53.jpg  \n",
      "  inflating: Moon_jellyfish/aug-88-54.jpg  \n",
      "  inflating: Moon_jellyfish/aug-89-55.jpg  \n",
      "  inflating: Moon_jellyfish/aug-9-13.jpg  \n",
      "  inflating: Moon_jellyfish/aug-90-56.jpg  \n",
      "  inflating: Moon_jellyfish/aug-91-57.jpg  \n",
      "  inflating: Moon_jellyfish/aug-92-58.jpg  \n",
      "  inflating: Moon_jellyfish/aug-93-61.jpg  \n",
      "  inflating: Moon_jellyfish/aug-94-01.jpg  \n",
      "  inflating: Moon_jellyfish/aug-95-02.jpg  \n",
      "  inflating: Moon_jellyfish/aug-96-03.jpg  \n",
      "  inflating: Moon_jellyfish/aug-97-04.jpg  \n",
      "  inflating: Moon_jellyfish/aug-98-05.jpg  \n",
      "  inflating: Moon_jellyfish/aug-99-06.jpg  \n",
      "  inflating: Train_Test_Valid/Train/Moon_jellyfish/01.jpg  \n",
      "  inflating: Train_Test_Valid/Train/Moon_jellyfish/02.jpg  \n",
      "  inflating: Train_Test_Valid/Train/Moon_jellyfish/03.jpg  \n",
      "  inflating: Train_Test_Valid/Train/Moon_jellyfish/04.jpg  \n",
      "  inflating: Train_Test_Valid/Train/Moon_jellyfish/05.jpg  \n",
      "  inflating: Train_Test_Valid/Train/Moon_jellyfish/06.jpg  \n",
      "  inflating: Train_Test_Valid/Train/Moon_jellyfish/08.jpg  \n",
      "  inflating: Train_Test_Valid/Train/Moon_jellyfish/10.jpg  \n",
      "  inflating: Train_Test_Valid/Train/Moon_jellyfish/12.jpg  \n",
      "  inflating: Train_Test_Valid/Train/Moon_jellyfish/13.jpg  \n",
      "  inflating: Train_Test_Valid/Train/Moon_jellyfish/14.jpg  \n",
      "  inflating: Train_Test_Valid/Train/Moon_jellyfish/16.jpg  \n",
      "  inflating: Train_Test_Valid/Train/Moon_jellyfish/17.jpg  \n",
      "  inflating: Train_Test_Valid/Train/Moon_jellyfish/18.jpg  \n",
      "  inflating: Train_Test_Valid/Train/Moon_jellyfish/21.jpg  \n",
      "  inflating: Train_Test_Valid/Train/Moon_jellyfish/22.jpg  \n",
      "  inflating: Train_Test_Valid/Train/Moon_jellyfish/24.jpg  \n",
      "  inflating: Train_Test_Valid/Train/Moon_jellyfish/25.jpg  \n",
      "  inflating: Train_Test_Valid/Train/Moon_jellyfish/26.jpg  \n",
      "  inflating: Train_Test_Valid/Train/Moon_jellyfish/28.jpg  \n",
      "  inflating: Train_Test_Valid/Train/Moon_jellyfish/29.JPG  \n",
      "  inflating: Train_Test_Valid/Train/Moon_jellyfish/30.jpg  \n",
      "  inflating: Train_Test_Valid/Train/Moon_jellyfish/31.jpg  \n",
      "  inflating: Train_Test_Valid/Train/Moon_jellyfish/32.jpg  \n",
      "  inflating: Train_Test_Valid/Train/Moon_jellyfish/34.jpg  \n",
      "  inflating: Train_Test_Valid/Train/Moon_jellyfish/35.jpg  \n",
      "  inflating: Train_Test_Valid/Train/Moon_jellyfish/36.jpg  \n",
      "  inflating: Train_Test_Valid/Train/Moon_jellyfish/37.jpg  \n",
      "  inflating: Train_Test_Valid/Train/Moon_jellyfish/38.jpg  \n",
      "  inflating: Train_Test_Valid/Train/Moon_jellyfish/40.jpg  \n",
      "  inflating: Train_Test_Valid/Train/Moon_jellyfish/41.jpg  \n",
      "  inflating: Train_Test_Valid/Train/Moon_jellyfish/42.jpg  \n",
      "  inflating: Train_Test_Valid/Train/Moon_jellyfish/43.jpg  \n",
      "  inflating: Train_Test_Valid/Train/Moon_jellyfish/45.jpg  \n",
      "  inflating: Train_Test_Valid/Train/Moon_jellyfish/46.jpg  \n",
      "  inflating: Train_Test_Valid/Train/Moon_jellyfish/47.jpg  \n",
      "  inflating: Train_Test_Valid/Train/Moon_jellyfish/49.jpg  \n",
      "  inflating: Train_Test_Valid/Train/Moon_jellyfish/50.jpg  \n",
      "  inflating: Train_Test_Valid/Train/Moon_jellyfish/51.jpg  \n",
      "  inflating: Train_Test_Valid/Train/Moon_jellyfish/52.JPG  \n",
      "  inflating: Train_Test_Valid/Train/Moon_jellyfish/53.jpg  \n",
      "  inflating: Train_Test_Valid/Train/Moon_jellyfish/54.jpg  \n",
      "  inflating: Train_Test_Valid/Train/Moon_jellyfish/55.jpg  \n",
      "  inflating: Train_Test_Valid/Train/Moon_jellyfish/56.jpg  \n",
      "  inflating: Train_Test_Valid/Train/Moon_jellyfish/57.jpg  \n",
      "  inflating: Train_Test_Valid/Train/Moon_jellyfish/58.jpg  \n",
      "  inflating: Train_Test_Valid/Train/Moon_jellyfish/61.jpg  \n",
      "  inflating: Train_Test_Valid/Train/Moon_jellyfish/aug-0-01.jpg  \n",
      "  inflating: Train_Test_Valid/Train/Moon_jellyfish/aug-1-02.jpg  \n",
      "  inflating: Train_Test_Valid/Train/Moon_jellyfish/aug-10-14.jpg  \n",
      "  inflating: Train_Test_Valid/Train/Moon_jellyfish/aug-100-08.jpg  \n",
      "  inflating: Train_Test_Valid/Train/Moon_jellyfish/aug-101-10.jpg  \n",
      "  inflating: Train_Test_Valid/Train/Moon_jellyfish/aug-102-12.jpg  \n",
      "  inflating: Train_Test_Valid/Train/Moon_jellyfish/aug-11-16.jpg  \n",
      "  inflating: Train_Test_Valid/Train/Moon_jellyfish/aug-12-17.jpg  \n",
      "  inflating: Train_Test_Valid/Train/Moon_jellyfish/aug-13-18.jpg  \n",
      "  inflating: Train_Test_Valid/Train/Moon_jellyfish/aug-14-21.jpg  \n",
      "  inflating: Train_Test_Valid/Train/Moon_jellyfish/aug-15-22.jpg  \n",
      "  inflating: Train_Test_Valid/Train/Moon_jellyfish/aug-16-24.jpg  \n",
      "  inflating: Train_Test_Valid/Train/Moon_jellyfish/aug-17-25.jpg  \n",
      "  inflating: Train_Test_Valid/Train/Moon_jellyfish/aug-18-26.jpg  \n",
      "  inflating: Train_Test_Valid/Train/Moon_jellyfish/aug-19-28.jpg  \n",
      "  inflating: Train_Test_Valid/Train/Moon_jellyfish/aug-2-03.jpg  \n",
      "  inflating: Train_Test_Valid/Train/Moon_jellyfish/aug-20-29.JPG  \n",
      "  inflating: Train_Test_Valid/Train/Moon_jellyfish/aug-21-30.jpg  \n",
      "  inflating: Train_Test_Valid/Train/Moon_jellyfish/aug-22-31.jpg  \n",
      "  inflating: Train_Test_Valid/Train/Moon_jellyfish/aug-23-32.jpg  \n",
      "  inflating: Train_Test_Valid/Train/Moon_jellyfish/aug-24-34.jpg  \n",
      "  inflating: Train_Test_Valid/Train/Moon_jellyfish/aug-25-35.jpg  \n",
      "  inflating: Train_Test_Valid/Train/Moon_jellyfish/aug-26-36.jpg  \n",
      "  inflating: Train_Test_Valid/Train/Moon_jellyfish/aug-27-37.jpg  \n",
      "  inflating: Train_Test_Valid/Train/Moon_jellyfish/aug-28-38.jpg  \n",
      "  inflating: Train_Test_Valid/Train/Moon_jellyfish/aug-29-40.jpg  \n",
      "  inflating: Train_Test_Valid/Train/Moon_jellyfish/aug-3-04.jpg  \n",
      "  inflating: Train_Test_Valid/Train/Moon_jellyfish/aug-30-41.jpg  \n",
      "  inflating: Train_Test_Valid/Train/Moon_jellyfish/aug-31-42.jpg  \n",
      "  inflating: Train_Test_Valid/Train/Moon_jellyfish/aug-32-43.jpg  \n",
      "  inflating: Train_Test_Valid/Train/Moon_jellyfish/aug-33-45.jpg  \n",
      "  inflating: Train_Test_Valid/Train/Moon_jellyfish/aug-34-46.jpg  \n",
      "  inflating: Train_Test_Valid/Train/Moon_jellyfish/aug-35-47.jpg  \n",
      "  inflating: Train_Test_Valid/Train/Moon_jellyfish/aug-36-49.jpg  \n",
      "  inflating: Train_Test_Valid/Train/Moon_jellyfish/aug-37-50.jpg  \n",
      "  inflating: Train_Test_Valid/Train/Moon_jellyfish/aug-38-51.jpg  \n",
      "  inflating: Train_Test_Valid/Train/Moon_jellyfish/aug-39-52.JPG  \n",
      "  inflating: Train_Test_Valid/Train/Moon_jellyfish/aug-4-05.jpg  \n",
      "  inflating: Train_Test_Valid/Train/Moon_jellyfish/aug-40-53.jpg  \n",
      "  inflating: Train_Test_Valid/Train/Moon_jellyfish/aug-41-54.jpg  \n",
      "  inflating: Train_Test_Valid/Train/Moon_jellyfish/aug-42-55.jpg  \n",
      "  inflating: Train_Test_Valid/Train/Moon_jellyfish/aug-43-56.jpg  \n",
      "  inflating: Train_Test_Valid/Train/Moon_jellyfish/aug-44-57.jpg  \n",
      "  inflating: Train_Test_Valid/Train/Moon_jellyfish/aug-45-58.jpg  \n",
      "  inflating: Train_Test_Valid/Train/Moon_jellyfish/aug-46-61.jpg  \n",
      "  inflating: Train_Test_Valid/Train/Moon_jellyfish/aug-47-01.jpg  \n",
      "  inflating: Train_Test_Valid/Train/Moon_jellyfish/aug-48-02.jpg  \n",
      "  inflating: Train_Test_Valid/Train/Moon_jellyfish/aug-49-03.jpg  \n",
      "  inflating: Train_Test_Valid/Train/Moon_jellyfish/aug-5-06.jpg  \n",
      "  inflating: Train_Test_Valid/Train/Moon_jellyfish/aug-50-04.jpg  \n",
      "  inflating: Train_Test_Valid/Train/Moon_jellyfish/aug-51-05.jpg  \n",
      "  inflating: Train_Test_Valid/Train/Moon_jellyfish/aug-52-06.jpg  \n",
      "  inflating: Train_Test_Valid/Train/Moon_jellyfish/aug-53-08.jpg  \n",
      "  inflating: Train_Test_Valid/Train/Moon_jellyfish/aug-54-10.jpg  \n",
      "  inflating: Train_Test_Valid/Train/Moon_jellyfish/aug-55-12.jpg  \n",
      "  inflating: Train_Test_Valid/Train/Moon_jellyfish/aug-56-13.jpg  \n",
      "  inflating: Train_Test_Valid/Train/Moon_jellyfish/aug-57-14.jpg  \n",
      "  inflating: Train_Test_Valid/Train/Moon_jellyfish/aug-58-16.jpg  \n",
      "  inflating: Train_Test_Valid/Train/Moon_jellyfish/aug-59-17.jpg  \n",
      "  inflating: Train_Test_Valid/Train/Moon_jellyfish/aug-6-08.jpg  \n",
      "  inflating: Train_Test_Valid/Train/Moon_jellyfish/aug-60-18.jpg  \n",
      "  inflating: Train_Test_Valid/Train/Moon_jellyfish/aug-61-21.jpg  \n",
      "  inflating: Train_Test_Valid/Train/Moon_jellyfish/aug-62-22.jpg  \n",
      "  inflating: Train_Test_Valid/Train/Moon_jellyfish/aug-63-24.jpg  \n",
      "  inflating: Train_Test_Valid/Train/Moon_jellyfish/aug-64-25.jpg  \n",
      "  inflating: Train_Test_Valid/Train/Moon_jellyfish/aug-65-26.jpg  \n",
      "  inflating: Train_Test_Valid/Train/Moon_jellyfish/aug-66-28.jpg  \n",
      "  inflating: Train_Test_Valid/Train/Moon_jellyfish/aug-67-29.JPG  \n",
      "  inflating: Train_Test_Valid/Train/Moon_jellyfish/aug-68-30.jpg  \n",
      "  inflating: Train_Test_Valid/Train/Moon_jellyfish/aug-69-31.jpg  \n",
      "  inflating: Train_Test_Valid/Train/Moon_jellyfish/aug-7-10.jpg  \n",
      "  inflating: Train_Test_Valid/Train/Moon_jellyfish/aug-70-32.jpg  \n",
      "  inflating: Train_Test_Valid/Train/Moon_jellyfish/aug-71-34.jpg  \n",
      "  inflating: Train_Test_Valid/Train/Moon_jellyfish/aug-72-35.jpg  \n",
      "  inflating: Train_Test_Valid/Train/Moon_jellyfish/aug-73-36.jpg  \n",
      "  inflating: Train_Test_Valid/Train/Moon_jellyfish/aug-74-37.jpg  \n",
      "  inflating: Train_Test_Valid/Train/Moon_jellyfish/aug-75-38.jpg  \n",
      "  inflating: Train_Test_Valid/Train/Moon_jellyfish/aug-76-40.jpg  \n",
      "  inflating: Train_Test_Valid/Train/Moon_jellyfish/aug-77-41.jpg  \n",
      "  inflating: Train_Test_Valid/Train/Moon_jellyfish/aug-78-42.jpg  \n",
      "  inflating: Train_Test_Valid/Train/Moon_jellyfish/aug-79-43.jpg  \n",
      "  inflating: Train_Test_Valid/Train/Moon_jellyfish/aug-8-12.jpg  \n",
      "  inflating: Train_Test_Valid/Train/Moon_jellyfish/aug-80-45.jpg  \n",
      "  inflating: Train_Test_Valid/Train/Moon_jellyfish/aug-81-46.jpg  \n",
      "  inflating: Train_Test_Valid/Train/Moon_jellyfish/aug-82-47.jpg  \n",
      "  inflating: Train_Test_Valid/Train/Moon_jellyfish/aug-83-49.jpg  \n",
      "  inflating: Train_Test_Valid/Train/Moon_jellyfish/aug-84-50.jpg  \n",
      "  inflating: Train_Test_Valid/Train/Moon_jellyfish/aug-85-51.jpg  \n",
      "  inflating: Train_Test_Valid/Train/Moon_jellyfish/aug-86-52.JPG  \n",
      "  inflating: Train_Test_Valid/Train/Moon_jellyfish/aug-87-53.jpg  \n",
      "  inflating: Train_Test_Valid/Train/Moon_jellyfish/aug-88-54.jpg  \n",
      "  inflating: Train_Test_Valid/Train/Moon_jellyfish/aug-89-55.jpg  \n",
      "  inflating: Train_Test_Valid/Train/Moon_jellyfish/aug-9-13.jpg  \n",
      "  inflating: Train_Test_Valid/Train/Moon_jellyfish/aug-90-56.jpg  \n",
      "  inflating: Train_Test_Valid/Train/Moon_jellyfish/aug-91-57.jpg  \n",
      "  inflating: Train_Test_Valid/Train/Moon_jellyfish/aug-92-58.jpg  \n",
      "  inflating: Train_Test_Valid/Train/Moon_jellyfish/aug-93-61.jpg  \n",
      "  inflating: Train_Test_Valid/Train/Moon_jellyfish/aug-94-01.jpg  \n",
      "  inflating: Train_Test_Valid/Train/Moon_jellyfish/aug-95-02.jpg  \n",
      "  inflating: Train_Test_Valid/Train/Moon_jellyfish/aug-96-03.jpg  \n",
      "  inflating: Train_Test_Valid/Train/Moon_jellyfish/aug-97-04.jpg  \n",
      "  inflating: Train_Test_Valid/Train/Moon_jellyfish/aug-98-05.jpg  \n",
      "  inflating: Train_Test_Valid/Train/Moon_jellyfish/aug-99-06.jpg  \n",
      "  inflating: Train_Test_Valid/Train/barrel_jellyfish/01.jpeg  \n",
      "  inflating: Train_Test_Valid/Train/barrel_jellyfish/02.jpg  \n",
      "  inflating: Train_Test_Valid/Train/barrel_jellyfish/03.jpg  \n",
      "  inflating: Train_Test_Valid/Train/barrel_jellyfish/04.jpg  \n",
      "  inflating: Train_Test_Valid/Train/barrel_jellyfish/05.jpg  \n",
      "  inflating: Train_Test_Valid/Train/barrel_jellyfish/06.jpg  \n",
      "  inflating: Train_Test_Valid/Train/barrel_jellyfish/07.jpg  \n",
      "  inflating: Train_Test_Valid/Train/barrel_jellyfish/10.jpg  \n",
      "  inflating: Train_Test_Valid/Train/barrel_jellyfish/11.jpg  \n",
      "  inflating: Train_Test_Valid/Train/barrel_jellyfish/12.jpg  \n",
      "  inflating: Train_Test_Valid/Train/barrel_jellyfish/13.jpg  \n",
      "  inflating: Train_Test_Valid/Train/barrel_jellyfish/14.jpg  \n",
      "  inflating: Train_Test_Valid/Train/barrel_jellyfish/15.jpg  \n",
      "  inflating: Train_Test_Valid/Train/barrel_jellyfish/17.jpg  \n",
      "  inflating: Train_Test_Valid/Train/barrel_jellyfish/18.jpg  \n",
      "  inflating: Train_Test_Valid/Train/barrel_jellyfish/20.jpg  \n",
      "  inflating: Train_Test_Valid/Train/barrel_jellyfish/21.jpg  \n",
      "  inflating: Train_Test_Valid/Train/barrel_jellyfish/22.jpg  \n",
      "  inflating: Train_Test_Valid/Train/barrel_jellyfish/24.jpg  \n",
      "  inflating: Train_Test_Valid/Train/barrel_jellyfish/25.jpg  \n",
      "  inflating: Train_Test_Valid/Train/barrel_jellyfish/27.jpg  \n",
      "  inflating: Train_Test_Valid/Train/barrel_jellyfish/28.jpg  \n",
      "  inflating: Train_Test_Valid/Train/barrel_jellyfish/29.jpg  \n",
      "  inflating: Train_Test_Valid/Train/barrel_jellyfish/30.jpg  \n",
      "  inflating: Train_Test_Valid/Train/barrel_jellyfish/31.jpg  \n",
      "  inflating: Train_Test_Valid/Train/barrel_jellyfish/32.JPG  \n",
      "  inflating: Train_Test_Valid/Train/barrel_jellyfish/33.jpg  \n",
      "  inflating: Train_Test_Valid/Train/barrel_jellyfish/34.jpg  \n",
      "  inflating: Train_Test_Valid/Train/barrel_jellyfish/35.jpg  \n",
      "  inflating: Train_Test_Valid/Train/barrel_jellyfish/36.jpg  \n",
      "  inflating: Train_Test_Valid/Train/barrel_jellyfish/37.jpg  \n",
      "  inflating: Train_Test_Valid/Train/barrel_jellyfish/38.jpg  \n",
      "  inflating: Train_Test_Valid/Train/barrel_jellyfish/39.JPG  \n",
      "  inflating: Train_Test_Valid/Train/barrel_jellyfish/40.jpg  \n",
      "  inflating: Train_Test_Valid/Train/barrel_jellyfish/41.jpg  \n",
      "  inflating: Train_Test_Valid/Train/barrel_jellyfish/42.jpg  \n",
      "  inflating: Train_Test_Valid/Train/barrel_jellyfish/45.jpg  \n",
      "  inflating: Train_Test_Valid/Train/barrel_jellyfish/46.jpg  \n",
      "  inflating: Train_Test_Valid/Train/barrel_jellyfish/47.jpg  \n",
      "  inflating: Train_Test_Valid/Train/barrel_jellyfish/48.jpg  \n",
      "  inflating: Train_Test_Valid/Train/barrel_jellyfish/49.jpg  \n",
      "  inflating: Train_Test_Valid/Train/barrel_jellyfish/aug-0-01.jpeg  \n",
      "  inflating: Train_Test_Valid/Train/barrel_jellyfish/aug-1-02.jpg  \n",
      "  inflating: Train_Test_Valid/Train/barrel_jellyfish/aug-10-13.jpg  \n",
      "  inflating: Train_Test_Valid/Train/barrel_jellyfish/aug-100-24.jpg  \n",
      "  inflating: Train_Test_Valid/Train/barrel_jellyfish/aug-101-25.jpg  \n",
      "  inflating: Train_Test_Valid/Train/barrel_jellyfish/aug-102-27.jpg  \n",
      "  inflating: Train_Test_Valid/Train/barrel_jellyfish/aug-103-28.jpg  \n",
      "  inflating: Train_Test_Valid/Train/barrel_jellyfish/aug-104-29.jpg  \n",
      "  inflating: Train_Test_Valid/Train/barrel_jellyfish/aug-105-30.jpg  \n",
      "  inflating: Train_Test_Valid/Train/barrel_jellyfish/aug-106-31.jpg  \n",
      "  inflating: Train_Test_Valid/Train/barrel_jellyfish/aug-107-32.JPG  \n",
      "  inflating: Train_Test_Valid/Train/barrel_jellyfish/aug-108-33.jpg  \n",
      "  inflating: Train_Test_Valid/Train/barrel_jellyfish/aug-11-14.jpg  \n",
      "  inflating: Train_Test_Valid/Train/barrel_jellyfish/aug-12-15.jpg  \n",
      "  inflating: Train_Test_Valid/Train/barrel_jellyfish/aug-13-17.jpg  \n",
      "  inflating: Train_Test_Valid/Train/barrel_jellyfish/aug-14-18.jpg  \n",
      "  inflating: Train_Test_Valid/Train/barrel_jellyfish/aug-15-20.jpg  \n",
      "  inflating: Train_Test_Valid/Train/barrel_jellyfish/aug-16-21.jpg  \n",
      "  inflating: Train_Test_Valid/Train/barrel_jellyfish/aug-17-22.jpg  \n",
      "  inflating: Train_Test_Valid/Train/barrel_jellyfish/aug-18-24.jpg  \n",
      "  inflating: Train_Test_Valid/Train/barrel_jellyfish/aug-19-25.jpg  \n",
      "  inflating: Train_Test_Valid/Train/barrel_jellyfish/aug-2-03.jpg  \n",
      "  inflating: Train_Test_Valid/Train/barrel_jellyfish/aug-20-27.jpg  \n",
      "  inflating: Train_Test_Valid/Train/barrel_jellyfish/aug-21-28.jpg  \n",
      "  inflating: Train_Test_Valid/Train/barrel_jellyfish/aug-22-29.jpg  \n",
      "  inflating: Train_Test_Valid/Train/barrel_jellyfish/aug-23-30.jpg  \n",
      "  inflating: Train_Test_Valid/Train/barrel_jellyfish/aug-24-31.jpg  \n",
      "  inflating: Train_Test_Valid/Train/barrel_jellyfish/aug-25-32.JPG  \n",
      "  inflating: Train_Test_Valid/Train/barrel_jellyfish/aug-26-33.jpg  \n",
      "  inflating: Train_Test_Valid/Train/barrel_jellyfish/aug-27-34.jpg  \n",
      "  inflating: Train_Test_Valid/Train/barrel_jellyfish/aug-28-35.jpg  \n",
      "  inflating: Train_Test_Valid/Train/barrel_jellyfish/aug-29-36.jpg  \n",
      "  inflating: Train_Test_Valid/Train/barrel_jellyfish/aug-3-04.jpg  \n",
      "  inflating: Train_Test_Valid/Train/barrel_jellyfish/aug-30-37.jpg  \n",
      "  inflating: Train_Test_Valid/Train/barrel_jellyfish/aug-31-38.jpg  \n",
      "  inflating: Train_Test_Valid/Train/barrel_jellyfish/aug-32-39.JPG  \n",
      "  inflating: Train_Test_Valid/Train/barrel_jellyfish/aug-33-40.jpg  \n",
      "  inflating: Train_Test_Valid/Train/barrel_jellyfish/aug-34-41.jpg  \n",
      "  inflating: Train_Test_Valid/Train/barrel_jellyfish/aug-35-42.jpg  \n",
      "  inflating: Train_Test_Valid/Train/barrel_jellyfish/aug-36-45.jpg  \n",
      "  inflating: Train_Test_Valid/Train/barrel_jellyfish/aug-37-46.jpg  \n",
      "  inflating: Train_Test_Valid/Train/barrel_jellyfish/aug-38-47.jpg  \n",
      "  inflating: Train_Test_Valid/Train/barrel_jellyfish/aug-39-48.jpg  \n",
      "  inflating: Train_Test_Valid/Train/barrel_jellyfish/aug-4-05.jpg  \n",
      "  inflating: Train_Test_Valid/Train/barrel_jellyfish/aug-40-49.jpg  \n",
      "  inflating: Train_Test_Valid/Train/barrel_jellyfish/aug-41-01.jpeg  \n",
      "  inflating: Train_Test_Valid/Train/barrel_jellyfish/aug-42-02.jpg  \n",
      "  inflating: Train_Test_Valid/Train/barrel_jellyfish/aug-43-03.jpg  \n",
      "  inflating: Train_Test_Valid/Train/barrel_jellyfish/aug-44-04.jpg  \n",
      "  inflating: Train_Test_Valid/Train/barrel_jellyfish/aug-45-05.jpg  \n",
      "  inflating: Train_Test_Valid/Train/barrel_jellyfish/aug-46-06.jpg  \n",
      "  inflating: Train_Test_Valid/Train/barrel_jellyfish/aug-47-07.jpg  \n",
      "  inflating: Train_Test_Valid/Train/barrel_jellyfish/aug-48-10.jpg  \n",
      "  inflating: Train_Test_Valid/Train/barrel_jellyfish/aug-49-11.jpg  \n",
      "  inflating: Train_Test_Valid/Train/barrel_jellyfish/aug-5-06.jpg  \n",
      "  inflating: Train_Test_Valid/Train/barrel_jellyfish/aug-50-12.jpg  \n"
     ]
    },
    {
     "name": "stdout",
     "output_type": "stream",
     "text": [
      "  inflating: Train_Test_Valid/Train/barrel_jellyfish/aug-51-13.jpg  \r\n",
      "  inflating: Train_Test_Valid/Train/barrel_jellyfish/aug-52-14.jpg  \r\n",
      "  inflating: Train_Test_Valid/Train/barrel_jellyfish/aug-53-15.jpg  \r\n",
      "  inflating: Train_Test_Valid/Train/barrel_jellyfish/aug-54-17.jpg  \r\n",
      "  inflating: Train_Test_Valid/Train/barrel_jellyfish/aug-55-18.jpg  \r\n",
      "  inflating: Train_Test_Valid/Train/barrel_jellyfish/aug-56-20.jpg  \r\n",
      "  inflating: Train_Test_Valid/Train/barrel_jellyfish/aug-57-21.jpg  \r\n",
      "  inflating: Train_Test_Valid/Train/barrel_jellyfish/aug-58-22.jpg  \r\n",
      "  inflating: Train_Test_Valid/Train/barrel_jellyfish/aug-59-24.jpg  \r\n",
      "  inflating: Train_Test_Valid/Train/barrel_jellyfish/aug-6-07.jpg  \r\n",
      "  inflating: Train_Test_Valid/Train/barrel_jellyfish/aug-60-25.jpg  \r\n",
      "  inflating: Train_Test_Valid/Train/barrel_jellyfish/aug-61-27.jpg  \r\n",
      "  inflating: Train_Test_Valid/Train/barrel_jellyfish/aug-62-28.jpg  \r\n",
      "  inflating: Train_Test_Valid/Train/barrel_jellyfish/aug-63-29.jpg  \r\n",
      "  inflating: Train_Test_Valid/Train/barrel_jellyfish/aug-64-30.jpg  \r\n",
      "  inflating: Train_Test_Valid/Train/barrel_jellyfish/aug-65-31.jpg  \r\n",
      "  inflating: Train_Test_Valid/Train/barrel_jellyfish/aug-66-32.JPG  \r\n",
      "  inflating: Train_Test_Valid/Train/barrel_jellyfish/aug-67-33.jpg  \r\n",
      "  inflating: Train_Test_Valid/Train/barrel_jellyfish/aug-68-34.jpg  \r\n",
      "  inflating: Train_Test_Valid/Train/barrel_jellyfish/aug-69-35.jpg  \r\n",
      "  inflating: Train_Test_Valid/Train/barrel_jellyfish/aug-7-10.jpg  \r\n",
      "  inflating: Train_Test_Valid/Train/barrel_jellyfish/aug-70-36.jpg  \r\n",
      "  inflating: Train_Test_Valid/Train/barrel_jellyfish/aug-71-37.jpg  \r\n",
      "  inflating: Train_Test_Valid/Train/barrel_jellyfish/aug-72-38.jpg  \r\n",
      "  inflating: Train_Test_Valid/Train/barrel_jellyfish/aug-73-39.JPG  \r\n",
      "  inflating: Train_Test_Valid/Train/barrel_jellyfish/aug-74-40.jpg  \r\n",
      "  inflating: Train_Test_Valid/Train/barrel_jellyfish/aug-75-41.jpg  \r\n",
      "  inflating: Train_Test_Valid/Train/barrel_jellyfish/aug-76-42.jpg  \r\n",
      "  inflating: Train_Test_Valid/Train/barrel_jellyfish/aug-77-45.jpg  \r\n",
      "  inflating: Train_Test_Valid/Train/barrel_jellyfish/aug-78-46.jpg  \r\n",
      "  inflating: Train_Test_Valid/Train/barrel_jellyfish/aug-79-47.jpg  \r\n",
      "  inflating: Train_Test_Valid/Train/barrel_jellyfish/aug-8-11.jpg  \r\n",
      "  inflating: Train_Test_Valid/Train/barrel_jellyfish/aug-80-48.jpg  \r\n",
      "  inflating: Train_Test_Valid/Train/barrel_jellyfish/aug-81-49.jpg  \r\n",
      "  inflating: Train_Test_Valid/Train/barrel_jellyfish/aug-82-01.jpeg  \r\n",
      "  inflating: Train_Test_Valid/Train/barrel_jellyfish/aug-83-02.jpg  \r\n",
      "  inflating: Train_Test_Valid/Train/barrel_jellyfish/aug-84-03.jpg  \r\n",
      "  inflating: Train_Test_Valid/Train/barrel_jellyfish/aug-85-04.jpg  \r\n",
      "  inflating: Train_Test_Valid/Train/barrel_jellyfish/aug-86-05.jpg  \r\n",
      "  inflating: Train_Test_Valid/Train/barrel_jellyfish/aug-87-06.jpg  \r\n",
      "  inflating: Train_Test_Valid/Train/barrel_jellyfish/aug-88-07.jpg  \r\n",
      "  inflating: Train_Test_Valid/Train/barrel_jellyfish/aug-89-10.jpg  \r\n",
      "  inflating: Train_Test_Valid/Train/barrel_jellyfish/aug-9-12.jpg  \r\n",
      "  inflating: Train_Test_Valid/Train/barrel_jellyfish/aug-90-11.jpg  \r\n",
      "  inflating: Train_Test_Valid/Train/barrel_jellyfish/aug-91-12.jpg  \r\n",
      "  inflating: Train_Test_Valid/Train/barrel_jellyfish/aug-92-13.jpg  \r\n",
      "  inflating: Train_Test_Valid/Train/barrel_jellyfish/aug-93-14.jpg  \r\n",
      "  inflating: Train_Test_Valid/Train/barrel_jellyfish/aug-94-15.jpg  \r\n",
      "  inflating: Train_Test_Valid/Train/barrel_jellyfish/aug-95-17.jpg  \r\n",
      "  inflating: Train_Test_Valid/Train/barrel_jellyfish/aug-96-18.jpg  \r\n",
      "  inflating: Train_Test_Valid/Train/barrel_jellyfish/aug-97-20.jpg  \r\n",
      "  inflating: Train_Test_Valid/Train/barrel_jellyfish/aug-98-21.jpg  \r\n",
      "  inflating: Train_Test_Valid/Train/barrel_jellyfish/aug-99-22.jpg  \r\n",
      "  inflating: Train_Test_Valid/Train/blue_jellyfish/02.jpg  \r\n",
      "  inflating: Train_Test_Valid/Train/blue_jellyfish/03.jpg  \r\n",
      "  inflating: Train_Test_Valid/Train/blue_jellyfish/04.jpg  \r\n",
      "  inflating: Train_Test_Valid/Train/blue_jellyfish/06.jpg  \r\n",
      "  inflating: Train_Test_Valid/Train/blue_jellyfish/07.jpg  \r\n",
      "  inflating: Train_Test_Valid/Train/blue_jellyfish/08.jpg  \r\n",
      "  inflating: Train_Test_Valid/Train/blue_jellyfish/09.jpg  \r\n",
      "  inflating: Train_Test_Valid/Train/blue_jellyfish/11.jpg  \r\n",
      "  inflating: Train_Test_Valid/Train/blue_jellyfish/13.jpg  \r\n",
      "  inflating: Train_Test_Valid/Train/blue_jellyfish/15.jpg  \r\n",
      "  inflating: Train_Test_Valid/Train/blue_jellyfish/17.jpg  \r\n",
      "  inflating: Train_Test_Valid/Train/blue_jellyfish/18.jpg  \r\n",
      "  inflating: Train_Test_Valid/Train/blue_jellyfish/20.jpg  \r\n",
      "  inflating: Train_Test_Valid/Train/blue_jellyfish/21.jpg  \r\n",
      "  inflating: Train_Test_Valid/Train/blue_jellyfish/23.jpg  \r\n",
      "  inflating: Train_Test_Valid/Train/blue_jellyfish/25.jpg  \r\n",
      "  inflating: Train_Test_Valid/Train/blue_jellyfish/26.jpg  \r\n",
      "  inflating: Train_Test_Valid/Train/blue_jellyfish/27.jpg  \r\n",
      "  inflating: Train_Test_Valid/Train/blue_jellyfish/28.jpg  \r\n",
      "  inflating: Train_Test_Valid/Train/blue_jellyfish/29.jpg  \r\n",
      "  inflating: Train_Test_Valid/Train/blue_jellyfish/31.jpg  \r\n",
      "  inflating: Train_Test_Valid/Train/blue_jellyfish/32.jpg  \r\n",
      "  inflating: Train_Test_Valid/Train/blue_jellyfish/34.jpg  \r\n",
      "  inflating: Train_Test_Valid/Train/blue_jellyfish/36.jpg  \r\n",
      "  inflating: Train_Test_Valid/Train/blue_jellyfish/37.jpg  \r\n",
      "  inflating: Train_Test_Valid/Train/blue_jellyfish/38.jpg  \r\n",
      "  inflating: Train_Test_Valid/Train/blue_jellyfish/39.jpg  \r\n",
      "  inflating: Train_Test_Valid/Train/blue_jellyfish/40.jpg  \r\n",
      "  inflating: Train_Test_Valid/Train/blue_jellyfish/41.jpg  \r\n",
      "  inflating: Train_Test_Valid/Train/blue_jellyfish/42.jpg  \r\n",
      "  inflating: Train_Test_Valid/Train/blue_jellyfish/43.jpg  \r\n",
      "  inflating: Train_Test_Valid/Train/blue_jellyfish/44.jpg  \r\n",
      "  inflating: Train_Test_Valid/Train/blue_jellyfish/45.jpg  \r\n",
      "  inflating: Train_Test_Valid/Train/blue_jellyfish/46.jpg  \r\n",
      "  inflating: Train_Test_Valid/Train/blue_jellyfish/49.jpg  \r\n",
      "  inflating: Train_Test_Valid/Train/blue_jellyfish/50.jpg  \r\n",
      "  inflating: Train_Test_Valid/Train/blue_jellyfish/51.jpg  \r\n",
      "  inflating: Train_Test_Valid/Train/blue_jellyfish/52.jpg  \r\n",
      "  inflating: Train_Test_Valid/Train/blue_jellyfish/53.jpg  \r\n",
      "  inflating: Train_Test_Valid/Train/blue_jellyfish/54.jpg  \r\n",
      "  inflating: Train_Test_Valid/Train/blue_jellyfish/55.jpg  \r\n",
      "  inflating: Train_Test_Valid/Train/blue_jellyfish/56.jpg  \r\n",
      "  inflating: Train_Test_Valid/Train/blue_jellyfish/57.jpg  \r\n",
      "  inflating: Train_Test_Valid/Train/blue_jellyfish/58.jpg  \r\n",
      "  inflating: Train_Test_Valid/Train/blue_jellyfish/59.jpg  \r\n",
      "  inflating: Train_Test_Valid/Train/blue_jellyfish/60.jpg  \r\n",
      "  inflating: Train_Test_Valid/Train/blue_jellyfish/61.jpg  \r\n",
      "  inflating: Train_Test_Valid/Train/blue_jellyfish/62.jpg  \r\n",
      "  inflating: Train_Test_Valid/Train/blue_jellyfish/63.jpg  \r\n",
      "  inflating: Train_Test_Valid/Train/blue_jellyfish/64.jpg  \r\n",
      "  inflating: Train_Test_Valid/Train/blue_jellyfish/65.jpg  \r\n",
      "  inflating: Train_Test_Valid/Train/blue_jellyfish/66.jpg  \r\n",
      "  inflating: Train_Test_Valid/Train/blue_jellyfish/67.jpg  \r\n",
      "  inflating: Train_Test_Valid/Train/blue_jellyfish/68.png  \r\n",
      "  inflating: Train_Test_Valid/Train/blue_jellyfish/69.jpg  \r\n",
      "  inflating: Train_Test_Valid/Train/blue_jellyfish/aug-0-02.jpg  \r\n",
      "  inflating: Train_Test_Valid/Train/blue_jellyfish/aug-1-03.jpg  \r\n",
      "  inflating: Train_Test_Valid/Train/blue_jellyfish/aug-10-17.jpg  \r\n",
      "  inflating: Train_Test_Valid/Train/blue_jellyfish/aug-11-18.jpg  \r\n",
      "  inflating: Train_Test_Valid/Train/blue_jellyfish/aug-12-20.jpg  \r\n",
      "  inflating: Train_Test_Valid/Train/blue_jellyfish/aug-13-21.jpg  \r\n",
      "  inflating: Train_Test_Valid/Train/blue_jellyfish/aug-14-23.jpg  \r\n",
      "  inflating: Train_Test_Valid/Train/blue_jellyfish/aug-15-25.jpg  \r\n",
      "  inflating: Train_Test_Valid/Train/blue_jellyfish/aug-16-26.jpg  \r\n",
      "  inflating: Train_Test_Valid/Train/blue_jellyfish/aug-17-27.jpg  \r\n",
      "  inflating: Train_Test_Valid/Train/blue_jellyfish/aug-18-28.jpg  \r\n",
      "  inflating: Train_Test_Valid/Train/blue_jellyfish/aug-19-29.jpg  \r\n",
      "  inflating: Train_Test_Valid/Train/blue_jellyfish/aug-2-04.jpg  \r\n",
      "  inflating: Train_Test_Valid/Train/blue_jellyfish/aug-20-31.jpg  \r\n",
      "  inflating: Train_Test_Valid/Train/blue_jellyfish/aug-21-32.jpg  \r\n",
      "  inflating: Train_Test_Valid/Train/blue_jellyfish/aug-22-34.jpg  \r\n",
      "  inflating: Train_Test_Valid/Train/blue_jellyfish/aug-23-36.jpg  \r\n",
      "  inflating: Train_Test_Valid/Train/blue_jellyfish/aug-24-37.jpg  \r\n",
      "  inflating: Train_Test_Valid/Train/blue_jellyfish/aug-25-38.jpg  \r\n",
      "  inflating: Train_Test_Valid/Train/blue_jellyfish/aug-26-39.jpg  \r\n",
      "  inflating: Train_Test_Valid/Train/blue_jellyfish/aug-27-40.jpg  \r\n",
      "  inflating: Train_Test_Valid/Train/blue_jellyfish/aug-28-41.jpg  \r\n",
      "  inflating: Train_Test_Valid/Train/blue_jellyfish/aug-29-42.jpg  \r\n",
      "  inflating: Train_Test_Valid/Train/blue_jellyfish/aug-3-06.jpg  \r\n",
      "  inflating: Train_Test_Valid/Train/blue_jellyfish/aug-30-43.jpg  \r\n",
      "  inflating: Train_Test_Valid/Train/blue_jellyfish/aug-31-44.jpg  \r\n",
      "  inflating: Train_Test_Valid/Train/blue_jellyfish/aug-32-45.jpg  \r\n",
      "  inflating: Train_Test_Valid/Train/blue_jellyfish/aug-33-46.jpg  \r\n",
      "  inflating: Train_Test_Valid/Train/blue_jellyfish/aug-34-49.jpg  \r\n",
      "  inflating: Train_Test_Valid/Train/blue_jellyfish/aug-35-50.jpg  \r\n",
      "  inflating: Train_Test_Valid/Train/blue_jellyfish/aug-36-51.jpg  \r\n",
      "  inflating: Train_Test_Valid/Train/blue_jellyfish/aug-37-52.jpg  \r\n",
      "  inflating: Train_Test_Valid/Train/blue_jellyfish/aug-38-53.jpg  \r\n",
      "  inflating: Train_Test_Valid/Train/blue_jellyfish/aug-39-54.jpg  \r\n",
      "  inflating: Train_Test_Valid/Train/blue_jellyfish/aug-4-07.jpg  \r\n",
      "  inflating: Train_Test_Valid/Train/blue_jellyfish/aug-40-55.jpg  \r\n",
      "  inflating: Train_Test_Valid/Train/blue_jellyfish/aug-41-56.jpg  \r\n",
      "  inflating: Train_Test_Valid/Train/blue_jellyfish/aug-42-57.jpg  \r\n",
      "  inflating: Train_Test_Valid/Train/blue_jellyfish/aug-43-58.jpg  \r\n",
      "  inflating: Train_Test_Valid/Train/blue_jellyfish/aug-44-59.jpg  \r\n",
      "  inflating: Train_Test_Valid/Train/blue_jellyfish/aug-45-60.jpg  \r\n",
      "  inflating: Train_Test_Valid/Train/blue_jellyfish/aug-46-61.jpg  \r\n",
      "  inflating: Train_Test_Valid/Train/blue_jellyfish/aug-47-62.jpg  \r\n",
      "  inflating: Train_Test_Valid/Train/blue_jellyfish/aug-48-63.jpg  \r\n",
      "  inflating: Train_Test_Valid/Train/blue_jellyfish/aug-49-64.jpg  \r\n",
      "  inflating: Train_Test_Valid/Train/blue_jellyfish/aug-5-08.jpg  \r\n",
      "  inflating: Train_Test_Valid/Train/blue_jellyfish/aug-50-65.jpg  \r\n",
      "  inflating: Train_Test_Valid/Train/blue_jellyfish/aug-51-66.jpg  \r\n",
      "  inflating: Train_Test_Valid/Train/blue_jellyfish/aug-52-67.jpg  \r\n",
      "  inflating: Train_Test_Valid/Train/blue_jellyfish/aug-53-68.png  \r\n",
      "  inflating: Train_Test_Valid/Train/blue_jellyfish/aug-54-69.jpg  \r\n",
      "  inflating: Train_Test_Valid/Train/blue_jellyfish/aug-55-02.jpg  \r\n",
      "  inflating: Train_Test_Valid/Train/blue_jellyfish/aug-56-03.jpg  \r\n",
      "  inflating: Train_Test_Valid/Train/blue_jellyfish/aug-57-04.jpg  \r\n",
      "  inflating: Train_Test_Valid/Train/blue_jellyfish/aug-58-06.jpg  \r\n",
      "  inflating: Train_Test_Valid/Train/blue_jellyfish/aug-59-07.jpg  \r\n",
      "  inflating: Train_Test_Valid/Train/blue_jellyfish/aug-6-09.jpg  \r\n",
      "  inflating: Train_Test_Valid/Train/blue_jellyfish/aug-60-08.jpg  \r\n",
      "  inflating: Train_Test_Valid/Train/blue_jellyfish/aug-61-09.jpg  \r\n",
      "  inflating: Train_Test_Valid/Train/blue_jellyfish/aug-62-11.jpg  \r\n",
      "  inflating: Train_Test_Valid/Train/blue_jellyfish/aug-63-13.jpg  \r\n",
      "  inflating: Train_Test_Valid/Train/blue_jellyfish/aug-64-15.jpg  \r\n",
      "  inflating: Train_Test_Valid/Train/blue_jellyfish/aug-65-17.jpg  \r\n",
      "  inflating: Train_Test_Valid/Train/blue_jellyfish/aug-66-18.jpg  \r\n",
      "  inflating: Train_Test_Valid/Train/blue_jellyfish/aug-67-20.jpg  \r\n",
      "  inflating: Train_Test_Valid/Train/blue_jellyfish/aug-68-21.jpg  \r\n",
      "  inflating: Train_Test_Valid/Train/blue_jellyfish/aug-69-23.jpg  \r\n",
      "  inflating: Train_Test_Valid/Train/blue_jellyfish/aug-7-11.jpg  \r\n",
      "  inflating: Train_Test_Valid/Train/blue_jellyfish/aug-70-25.jpg  \r\n",
      "  inflating: Train_Test_Valid/Train/blue_jellyfish/aug-71-26.jpg  \r\n",
      "  inflating: Train_Test_Valid/Train/blue_jellyfish/aug-72-27.jpg  \r\n",
      "  inflating: Train_Test_Valid/Train/blue_jellyfish/aug-73-28.jpg  \r\n",
      "  inflating: Train_Test_Valid/Train/blue_jellyfish/aug-74-29.jpg  \r\n",
      "  inflating: Train_Test_Valid/Train/blue_jellyfish/aug-75-31.jpg  \r\n",
      "  inflating: Train_Test_Valid/Train/blue_jellyfish/aug-76-32.jpg  \r\n",
      "  inflating: Train_Test_Valid/Train/blue_jellyfish/aug-77-34.jpg  \r\n",
      "  inflating: Train_Test_Valid/Train/blue_jellyfish/aug-78-36.jpg  \r\n",
      "  inflating: Train_Test_Valid/Train/blue_jellyfish/aug-79-37.jpg  \r\n",
      "  inflating: Train_Test_Valid/Train/blue_jellyfish/aug-8-13.jpg  \r\n",
      "  inflating: Train_Test_Valid/Train/blue_jellyfish/aug-80-38.jpg  \r\n",
      "  inflating: Train_Test_Valid/Train/blue_jellyfish/aug-81-39.jpg  \r\n",
      "  inflating: Train_Test_Valid/Train/blue_jellyfish/aug-82-40.jpg  \r\n",
      "  inflating: Train_Test_Valid/Train/blue_jellyfish/aug-83-41.jpg  \r\n",
      "  inflating: Train_Test_Valid/Train/blue_jellyfish/aug-84-42.jpg  \r\n",
      "  inflating: Train_Test_Valid/Train/blue_jellyfish/aug-85-43.jpg  \r\n",
      "  inflating: Train_Test_Valid/Train/blue_jellyfish/aug-86-44.jpg  \r\n",
      "  inflating: Train_Test_Valid/Train/blue_jellyfish/aug-87-45.jpg  \r\n",
      "  inflating: Train_Test_Valid/Train/blue_jellyfish/aug-88-46.jpg  \r\n",
      "  inflating: Train_Test_Valid/Train/blue_jellyfish/aug-89-49.jpg  \r\n",
      "  inflating: Train_Test_Valid/Train/blue_jellyfish/aug-9-15.jpg  \r\n",
      "  inflating: Train_Test_Valid/Train/blue_jellyfish/aug-90-50.jpg  \r\n",
      "  inflating: Train_Test_Valid/Train/blue_jellyfish/aug-91-51.jpg  \r\n",
      "  inflating: Train_Test_Valid/Train/blue_jellyfish/aug-92-52.jpg  \r\n",
      "  inflating: Train_Test_Valid/Train/blue_jellyfish/aug-93-53.jpg  \r\n",
      "  inflating: Train_Test_Valid/Train/blue_jellyfish/aug-94-54.jpg  \r\n",
      "  inflating: Train_Test_Valid/Train/compass_jellyfish/01.JPG  \r\n",
      "  inflating: Train_Test_Valid/Train/compass_jellyfish/02.jpg  \r\n",
      "  inflating: Train_Test_Valid/Train/compass_jellyfish/03.jpg  \r\n",
      "  inflating: Train_Test_Valid/Train/compass_jellyfish/05.jpg  \r\n",
      "  inflating: Train_Test_Valid/Train/compass_jellyfish/06.jpg  \r\n",
      "  inflating: Train_Test_Valid/Train/compass_jellyfish/07.jpg  \r\n",
      "  inflating: Train_Test_Valid/Train/compass_jellyfish/08.jpg  \r\n",
      "  inflating: Train_Test_Valid/Train/compass_jellyfish/09.jpg  \r\n",
      "  inflating: Train_Test_Valid/Train/compass_jellyfish/10.jpg  \r\n",
      "  inflating: Train_Test_Valid/Train/compass_jellyfish/12.jpg  \r\n",
      "  inflating: Train_Test_Valid/Train/compass_jellyfish/13.jpg  \r\n"
     ]
    },
    {
     "name": "stdout",
     "output_type": "stream",
     "text": [
      "  inflating: Train_Test_Valid/Train/compass_jellyfish/14.jpg  \r\n",
      "  inflating: Train_Test_Valid/Train/compass_jellyfish/15.jpg  \r\n",
      "  inflating: Train_Test_Valid/Train/compass_jellyfish/16.jpg  \r\n",
      "  inflating: Train_Test_Valid/Train/compass_jellyfish/17.jpg  \r\n",
      "  inflating: Train_Test_Valid/Train/compass_jellyfish/18.jpg  \r\n",
      "  inflating: Train_Test_Valid/Train/compass_jellyfish/19.jpg  \r\n",
      "  inflating: Train_Test_Valid/Train/compass_jellyfish/21.jpg  \r\n",
      "  inflating: Train_Test_Valid/Train/compass_jellyfish/22.JPG  \r\n",
      "  inflating: Train_Test_Valid/Train/compass_jellyfish/23.jpg  \r\n",
      "  inflating: Train_Test_Valid/Train/compass_jellyfish/24.jpg  \r\n",
      "  inflating: Train_Test_Valid/Train/compass_jellyfish/25.jpg  \r\n",
      "  inflating: Train_Test_Valid/Train/compass_jellyfish/27.jpg  \r\n",
      "  inflating: Train_Test_Valid/Train/compass_jellyfish/29.jpg  \r\n",
      "  inflating: Train_Test_Valid/Train/compass_jellyfish/30.jpg  \r\n",
      "  inflating: Train_Test_Valid/Train/compass_jellyfish/31.jpg  \r\n",
      "  inflating: Train_Test_Valid/Train/compass_jellyfish/32.jpg  \r\n",
      "  inflating: Train_Test_Valid/Train/compass_jellyfish/33.jpg  \r\n",
      "  inflating: Train_Test_Valid/Train/compass_jellyfish/34.jpg  \r\n",
      "  inflating: Train_Test_Valid/Train/compass_jellyfish/35.jpg  \r\n",
      "  inflating: Train_Test_Valid/Train/compass_jellyfish/36.jpg  \r\n",
      "  inflating: Train_Test_Valid/Train/compass_jellyfish/38.jpg  \r\n",
      "  inflating: Train_Test_Valid/Train/compass_jellyfish/39.jpg  \r\n",
      "  inflating: Train_Test_Valid/Train/compass_jellyfish/42.jpg  \r\n",
      "  inflating: Train_Test_Valid/Train/compass_jellyfish/43.jpg  \r\n",
      "  inflating: Train_Test_Valid/Train/compass_jellyfish/44.jpg  \r\n",
      "  inflating: Train_Test_Valid/Train/compass_jellyfish/45.jpg  \r\n",
      "  inflating: Train_Test_Valid/Train/compass_jellyfish/47.jpg  \r\n",
      "  inflating: Train_Test_Valid/Train/compass_jellyfish/49.jpg  \r\n",
      "  inflating: Train_Test_Valid/Train/compass_jellyfish/50.jpg  \r\n",
      "  inflating: Train_Test_Valid/Train/compass_jellyfish/51.jpg  \r\n",
      "  inflating: Train_Test_Valid/Train/compass_jellyfish/53.jpg  \r\n",
      "  inflating: Train_Test_Valid/Train/compass_jellyfish/55.jpg  \r\n",
      "  inflating: Train_Test_Valid/Train/compass_jellyfish/57.jpg  \r\n",
      "  inflating: Train_Test_Valid/Train/compass_jellyfish/58.jpg  \r\n",
      "  inflating: Train_Test_Valid/Train/compass_jellyfish/59.jpg  \r\n",
      "  inflating: Train_Test_Valid/Train/compass_jellyfish/60.jpg  \r\n",
      "  inflating: Train_Test_Valid/Train/compass_jellyfish/61.jpg  \r\n",
      "  inflating: Train_Test_Valid/Train/compass_jellyfish/62.jpg  \r\n",
      "  inflating: Train_Test_Valid/Train/compass_jellyfish/63.jpg  \r\n",
      "  inflating: Train_Test_Valid/Train/compass_jellyfish/64.jpg  \r\n",
      "  inflating: Train_Test_Valid/Train/compass_jellyfish/65.jpg  \r\n",
      "  inflating: Train_Test_Valid/Train/compass_jellyfish/66.jpg  \r\n",
      "  inflating: Train_Test_Valid/Train/compass_jellyfish/68.jpeg  \r\n",
      "  inflating: Train_Test_Valid/Train/compass_jellyfish/70.jpeg  \r\n",
      "  inflating: Train_Test_Valid/Train/compass_jellyfish/71.jpeg  \r\n",
      "  inflating: Train_Test_Valid/Train/compass_jellyfish/72.jpg  \r\n",
      "  inflating: Train_Test_Valid/Train/compass_jellyfish/aug-0-01.JPG  \r\n",
      "  inflating: Train_Test_Valid/Train/compass_jellyfish/aug-1-02.jpg  \r\n",
      "  inflating: Train_Test_Valid/Train/compass_jellyfish/aug-10-13.jpg  \r\n",
      "  inflating: Train_Test_Valid/Train/compass_jellyfish/aug-11-14.jpg  \r\n",
      "  inflating: Train_Test_Valid/Train/compass_jellyfish/aug-12-15.jpg  \r\n",
      "  inflating: Train_Test_Valid/Train/compass_jellyfish/aug-13-16.jpg  \r\n",
      "  inflating: Train_Test_Valid/Train/compass_jellyfish/aug-14-17.jpg  \r\n",
      "  inflating: Train_Test_Valid/Train/compass_jellyfish/aug-15-18.jpg  \r\n",
      "  inflating: Train_Test_Valid/Train/compass_jellyfish/aug-16-19.jpg  \r\n",
      "  inflating: Train_Test_Valid/Train/compass_jellyfish/aug-17-21.jpg  \r\n",
      "  inflating: Train_Test_Valid/Train/compass_jellyfish/aug-18-22.JPG  \r\n",
      "  inflating: Train_Test_Valid/Train/compass_jellyfish/aug-19-23.jpg  \r\n",
      "  inflating: Train_Test_Valid/Train/compass_jellyfish/aug-2-03.jpg  \r\n",
      "  inflating: Train_Test_Valid/Train/compass_jellyfish/aug-20-24.jpg  \r\n",
      "  inflating: Train_Test_Valid/Train/compass_jellyfish/aug-21-25.jpg  \r\n",
      "  inflating: Train_Test_Valid/Train/compass_jellyfish/aug-22-27.jpg  \r\n",
      "  inflating: Train_Test_Valid/Train/compass_jellyfish/aug-23-29.jpg  \r\n",
      "  inflating: Train_Test_Valid/Train/compass_jellyfish/aug-24-30.jpg  \r\n",
      "  inflating: Train_Test_Valid/Train/compass_jellyfish/aug-25-31.jpg  \r\n",
      "  inflating: Train_Test_Valid/Train/compass_jellyfish/aug-26-32.jpg  \r\n",
      "  inflating: Train_Test_Valid/Train/compass_jellyfish/aug-27-33.jpg  \r\n",
      "  inflating: Train_Test_Valid/Train/compass_jellyfish/aug-28-34.jpg  \r\n",
      "  inflating: Train_Test_Valid/Train/compass_jellyfish/aug-29-35.jpg  \r\n",
      "  inflating: Train_Test_Valid/Train/compass_jellyfish/aug-3-05.jpg  \r\n",
      "  inflating: Train_Test_Valid/Train/compass_jellyfish/aug-30-36.jpg  \r\n",
      "  inflating: Train_Test_Valid/Train/compass_jellyfish/aug-31-38.jpg  \r\n",
      "  inflating: Train_Test_Valid/Train/compass_jellyfish/aug-32-39.jpg  \r\n",
      "  inflating: Train_Test_Valid/Train/compass_jellyfish/aug-33-42.jpg  \r\n",
      "  inflating: Train_Test_Valid/Train/compass_jellyfish/aug-34-43.jpg  \r\n",
      "  inflating: Train_Test_Valid/Train/compass_jellyfish/aug-35-44.jpg  \r\n",
      "  inflating: Train_Test_Valid/Train/compass_jellyfish/aug-36-45.jpg  \r\n",
      "  inflating: Train_Test_Valid/Train/compass_jellyfish/aug-37-47.jpg  \r\n",
      "  inflating: Train_Test_Valid/Train/compass_jellyfish/aug-38-49.jpg  \r\n",
      "  inflating: Train_Test_Valid/Train/compass_jellyfish/aug-39-50.jpg  \r\n",
      "  inflating: Train_Test_Valid/Train/compass_jellyfish/aug-4-06.jpg  \r\n",
      "  inflating: Train_Test_Valid/Train/compass_jellyfish/aug-40-51.jpg  \r\n",
      "  inflating: Train_Test_Valid/Train/compass_jellyfish/aug-41-53.jpg  \r\n",
      "  inflating: Train_Test_Valid/Train/compass_jellyfish/aug-42-55.jpg  \r\n",
      "  inflating: Train_Test_Valid/Train/compass_jellyfish/aug-43-57.jpg  \r\n",
      "  inflating: Train_Test_Valid/Train/compass_jellyfish/aug-44-58.jpg  \r\n",
      "  inflating: Train_Test_Valid/Train/compass_jellyfish/aug-45-59.jpg  \r\n",
      "  inflating: Train_Test_Valid/Train/compass_jellyfish/aug-46-60.jpg  \r\n",
      "  inflating: Train_Test_Valid/Train/compass_jellyfish/aug-47-61.jpg  \r\n",
      "  inflating: Train_Test_Valid/Train/compass_jellyfish/aug-48-62.jpg  \r\n",
      "  inflating: Train_Test_Valid/Train/compass_jellyfish/aug-49-63.jpg  \r\n",
      "  inflating: Train_Test_Valid/Train/compass_jellyfish/aug-5-07.jpg  \r\n",
      "  inflating: Train_Test_Valid/Train/compass_jellyfish/aug-50-64.jpg  \r\n",
      "  inflating: Train_Test_Valid/Train/compass_jellyfish/aug-51-65.jpg  \r\n",
      "  inflating: Train_Test_Valid/Train/compass_jellyfish/aug-52-66.jpg  \r\n",
      "  inflating: Train_Test_Valid/Train/compass_jellyfish/aug-53-68.jpeg  \r\n",
      "  inflating: Train_Test_Valid/Train/compass_jellyfish/aug-54-70.jpeg  \r\n",
      "  inflating: Train_Test_Valid/Train/compass_jellyfish/aug-55-71.jpeg  \r\n",
      "  inflating: Train_Test_Valid/Train/compass_jellyfish/aug-56-72.jpg  \r\n",
      "  inflating: Train_Test_Valid/Train/compass_jellyfish/aug-57-01.JPG  \r\n",
      "  inflating: Train_Test_Valid/Train/compass_jellyfish/aug-58-02.jpg  \r\n",
      "  inflating: Train_Test_Valid/Train/compass_jellyfish/aug-59-03.jpg  \r\n",
      "  inflating: Train_Test_Valid/Train/compass_jellyfish/aug-6-08.jpg  \r\n",
      "  inflating: Train_Test_Valid/Train/compass_jellyfish/aug-60-05.jpg  \r\n",
      "  inflating: Train_Test_Valid/Train/compass_jellyfish/aug-61-06.jpg  \r\n",
      "  inflating: Train_Test_Valid/Train/compass_jellyfish/aug-62-07.jpg  \r\n",
      "  inflating: Train_Test_Valid/Train/compass_jellyfish/aug-63-08.jpg  \r\n",
      "  inflating: Train_Test_Valid/Train/compass_jellyfish/aug-64-09.jpg  \r\n",
      "  inflating: Train_Test_Valid/Train/compass_jellyfish/aug-65-10.jpg  \r\n",
      "  inflating: Train_Test_Valid/Train/compass_jellyfish/aug-66-12.jpg  \r\n",
      "  inflating: Train_Test_Valid/Train/compass_jellyfish/aug-67-13.jpg  \r\n",
      "  inflating: Train_Test_Valid/Train/compass_jellyfish/aug-68-14.jpg  \r\n",
      "  inflating: Train_Test_Valid/Train/compass_jellyfish/aug-69-15.jpg  \r\n",
      "  inflating: Train_Test_Valid/Train/compass_jellyfish/aug-7-09.jpg  \r\n",
      "  inflating: Train_Test_Valid/Train/compass_jellyfish/aug-70-16.jpg  \r\n",
      "  inflating: Train_Test_Valid/Train/compass_jellyfish/aug-71-17.jpg  \r\n",
      "  inflating: Train_Test_Valid/Train/compass_jellyfish/aug-72-18.jpg  \r\n",
      "  inflating: Train_Test_Valid/Train/compass_jellyfish/aug-73-19.jpg  \r\n",
      "  inflating: Train_Test_Valid/Train/compass_jellyfish/aug-74-21.jpg  \r\n",
      "  inflating: Train_Test_Valid/Train/compass_jellyfish/aug-75-22.JPG  \r\n",
      "  inflating: Train_Test_Valid/Train/compass_jellyfish/aug-76-23.jpg  \r\n",
      "  inflating: Train_Test_Valid/Train/compass_jellyfish/aug-77-24.jpg  \r\n",
      "  inflating: Train_Test_Valid/Train/compass_jellyfish/aug-78-25.jpg  \r\n",
      "  inflating: Train_Test_Valid/Train/compass_jellyfish/aug-79-27.jpg  \r\n",
      "  inflating: Train_Test_Valid/Train/compass_jellyfish/aug-8-10.jpg  \r\n",
      "  inflating: Train_Test_Valid/Train/compass_jellyfish/aug-80-29.jpg  \r\n",
      "  inflating: Train_Test_Valid/Train/compass_jellyfish/aug-81-30.jpg  \r\n",
      "  inflating: Train_Test_Valid/Train/compass_jellyfish/aug-82-31.jpg  \r\n",
      "  inflating: Train_Test_Valid/Train/compass_jellyfish/aug-83-32.jpg  \r\n",
      "  inflating: Train_Test_Valid/Train/compass_jellyfish/aug-84-33.jpg  \r\n",
      "  inflating: Train_Test_Valid/Train/compass_jellyfish/aug-85-34.jpg  \r\n",
      "  inflating: Train_Test_Valid/Train/compass_jellyfish/aug-86-35.jpg  \r\n",
      "  inflating: Train_Test_Valid/Train/compass_jellyfish/aug-87-36.jpg  \r\n",
      "  inflating: Train_Test_Valid/Train/compass_jellyfish/aug-88-38.jpg  \r\n",
      "  inflating: Train_Test_Valid/Train/compass_jellyfish/aug-89-39.jpg  \r\n",
      "  inflating: Train_Test_Valid/Train/compass_jellyfish/aug-9-12.jpg  \r\n",
      "  inflating: Train_Test_Valid/Train/compass_jellyfish/aug-90-42.jpg  \r\n",
      "  inflating: Train_Test_Valid/Train/compass_jellyfish/aug-91-43.jpg  \r\n",
      "  inflating: Train_Test_Valid/Train/compass_jellyfish/aug-92-44.jpg  \r\n",
      "  inflating: Train_Test_Valid/Train/lions_mane_jellyfish/01.jpg  \r\n",
      "  inflating: Train_Test_Valid/Train/lions_mane_jellyfish/02.jpg  \r\n",
      "  inflating: Train_Test_Valid/Train/lions_mane_jellyfish/03.jpg  \r\n",
      "  inflating: Train_Test_Valid/Train/lions_mane_jellyfish/04.jpg  \r\n",
      "  inflating: Train_Test_Valid/Train/lions_mane_jellyfish/05.jpg  \r\n",
      "  inflating: Train_Test_Valid/Train/lions_mane_jellyfish/06.jpg  \r\n",
      "  inflating: Train_Test_Valid/Train/lions_mane_jellyfish/07.jpg  \r\n",
      "  inflating: Train_Test_Valid/Train/lions_mane_jellyfish/08.jpg  \r\n",
      "  inflating: Train_Test_Valid/Train/lions_mane_jellyfish/09.jpg  \r\n",
      "  inflating: Train_Test_Valid/Train/lions_mane_jellyfish/10.jpg  \r\n",
      "  inflating: Train_Test_Valid/Train/lions_mane_jellyfish/11.jpg  \r\n",
      "  inflating: Train_Test_Valid/Train/lions_mane_jellyfish/15.jpg  \r\n",
      "  inflating: Train_Test_Valid/Train/lions_mane_jellyfish/16.jpg  \r\n",
      "  inflating: Train_Test_Valid/Train/lions_mane_jellyfish/17.jpg  \r\n",
      "  inflating: Train_Test_Valid/Train/lions_mane_jellyfish/18.jpg  \r\n",
      "  inflating: Train_Test_Valid/Train/lions_mane_jellyfish/20.jpg  \r\n",
      "  inflating: Train_Test_Valid/Train/lions_mane_jellyfish/21.jpg  \r\n",
      "  inflating: Train_Test_Valid/Train/lions_mane_jellyfish/22.jpg  \r\n",
      "  inflating: Train_Test_Valid/Train/lions_mane_jellyfish/23.jpg  \r\n",
      "  inflating: Train_Test_Valid/Train/lions_mane_jellyfish/24.jpg  \r\n",
      "  inflating: Train_Test_Valid/Train/lions_mane_jellyfish/25.jpg  \r\n",
      "  inflating: Train_Test_Valid/Train/lions_mane_jellyfish/26.JPG  \r\n",
      "  inflating: Train_Test_Valid/Train/lions_mane_jellyfish/29.jpg  \r\n",
      "  inflating: Train_Test_Valid/Train/lions_mane_jellyfish/30.jpg  \r\n",
      "  inflating: Train_Test_Valid/Train/lions_mane_jellyfish/31.jpg  \r\n",
      "  inflating: Train_Test_Valid/Train/lions_mane_jellyfish/32.jpg  \r\n",
      "  inflating: Train_Test_Valid/Train/lions_mane_jellyfish/34.jpg  \r\n",
      "  inflating: Train_Test_Valid/Train/lions_mane_jellyfish/35.jpg  \r\n",
      "  inflating: Train_Test_Valid/Train/lions_mane_jellyfish/36.jpg  \r\n",
      "  inflating: Train_Test_Valid/Train/lions_mane_jellyfish/37.jpg  \r\n",
      "  inflating: Train_Test_Valid/Train/lions_mane_jellyfish/38.jpg  \r\n",
      "  inflating: Train_Test_Valid/Train/lions_mane_jellyfish/39.jpg  \r\n",
      "  inflating: Train_Test_Valid/Train/lions_mane_jellyfish/40.jpg  \r\n",
      "  inflating: Train_Test_Valid/Train/lions_mane_jellyfish/41.jpg  \r\n",
      "  inflating: Train_Test_Valid/Train/lions_mane_jellyfish/43.jpg  \r\n",
      "  inflating: Train_Test_Valid/Train/lions_mane_jellyfish/44.jpg  \r\n",
      "  inflating: Train_Test_Valid/Train/lions_mane_jellyfish/45.jpg  \r\n",
      "  inflating: Train_Test_Valid/Train/lions_mane_jellyfish/47.jpg  \r\n",
      "  inflating: Train_Test_Valid/Train/lions_mane_jellyfish/48.jpg  \r\n",
      "  inflating: Train_Test_Valid/Train/lions_mane_jellyfish/49.jpg  \r\n",
      "  inflating: Train_Test_Valid/Train/lions_mane_jellyfish/50.jpg  \r\n",
      "  inflating: Train_Test_Valid/Train/lions_mane_jellyfish/52.jpg  \r\n",
      "  inflating: Train_Test_Valid/Train/lions_mane_jellyfish/54.jpg  \r\n",
      "  inflating: Train_Test_Valid/Train/lions_mane_jellyfish/55.jpg  \r\n",
      "  inflating: Train_Test_Valid/Train/lions_mane_jellyfish/56.jpg  \r\n",
      "  inflating: Train_Test_Valid/Train/lions_mane_jellyfish/57.jpg  \r\n",
      "  inflating: Train_Test_Valid/Train/lions_mane_jellyfish/59.jpg  \r\n",
      "  inflating: Train_Test_Valid/Train/lions_mane_jellyfish/60.jpg  \r\n",
      "  inflating: Train_Test_Valid/Train/lions_mane_jellyfish/61.jpg  \r\n",
      "  inflating: Train_Test_Valid/Train/lions_mane_jellyfish/62.jpg  \r\n",
      "  inflating: Train_Test_Valid/Train/lions_mane_jellyfish/65.jpg  \r\n",
      "  inflating: Train_Test_Valid/Train/lions_mane_jellyfish/68.jpg  \r\n"
     ]
    },
    {
     "name": "stdout",
     "output_type": "stream",
     "text": [
      "  inflating: Train_Test_Valid/Train/lions_mane_jellyfish/69.jpg  \r\n",
      "  inflating: Train_Test_Valid/Train/lions_mane_jellyfish/70.jpg  \r\n",
      "  inflating: Train_Test_Valid/Train/lions_mane_jellyfish/71.jpg  \r\n",
      "  inflating: Train_Test_Valid/Train/lions_mane_jellyfish/72.jpg  \r\n",
      "  inflating: Train_Test_Valid/Train/lions_mane_jellyfish/73.jpeg  \r\n",
      "  inflating: Train_Test_Valid/Train/lions_mane_jellyfish/74.png  \r\n",
      "  inflating: Train_Test_Valid/Train/lions_mane_jellyfish/75.jpeg  \r\n",
      "  inflating: Train_Test_Valid/Train/lions_mane_jellyfish/76.jpg  \r\n",
      "  inflating: Train_Test_Valid/Train/lions_mane_jellyfish/77.jpg  \r\n",
      "  inflating: Train_Test_Valid/Train/lions_mane_jellyfish/aug-0-01.jpg  \r\n",
      "  inflating: Train_Test_Valid/Train/lions_mane_jellyfish/aug-1-02.jpg  \r\n",
      "  inflating: Train_Test_Valid/Train/lions_mane_jellyfish/aug-10-11.jpg  \r\n",
      "  inflating: Train_Test_Valid/Train/lions_mane_jellyfish/aug-11-15.jpg  \r\n",
      "  inflating: Train_Test_Valid/Train/lions_mane_jellyfish/aug-12-16.jpg  \r\n",
      "  inflating: Train_Test_Valid/Train/lions_mane_jellyfish/aug-13-17.jpg  \r\n",
      "  inflating: Train_Test_Valid/Train/lions_mane_jellyfish/aug-14-18.jpg  \r\n",
      "  inflating: Train_Test_Valid/Train/lions_mane_jellyfish/aug-15-20.jpg  \r\n",
      "  inflating: Train_Test_Valid/Train/lions_mane_jellyfish/aug-16-21.jpg  \r\n",
      "  inflating: Train_Test_Valid/Train/lions_mane_jellyfish/aug-17-22.jpg  \r\n",
      "  inflating: Train_Test_Valid/Train/lions_mane_jellyfish/aug-18-23.jpg  \r\n",
      "  inflating: Train_Test_Valid/Train/lions_mane_jellyfish/aug-19-24.jpg  \r\n",
      "  inflating: Train_Test_Valid/Train/lions_mane_jellyfish/aug-2-03.jpg  \r\n",
      "  inflating: Train_Test_Valid/Train/lions_mane_jellyfish/aug-20-25.jpg  \r\n",
      "  inflating: Train_Test_Valid/Train/lions_mane_jellyfish/aug-21-26.JPG  \r\n",
      "  inflating: Train_Test_Valid/Train/lions_mane_jellyfish/aug-22-29.jpg  \r\n",
      "  inflating: Train_Test_Valid/Train/lions_mane_jellyfish/aug-23-30.jpg  \r\n",
      "  inflating: Train_Test_Valid/Train/lions_mane_jellyfish/aug-24-31.jpg  \r\n",
      "  inflating: Train_Test_Valid/Train/lions_mane_jellyfish/aug-25-32.jpg  \r\n",
      "  inflating: Train_Test_Valid/Train/lions_mane_jellyfish/aug-26-34.jpg  \r\n",
      "  inflating: Train_Test_Valid/Train/lions_mane_jellyfish/aug-27-35.jpg  \r\n",
      "  inflating: Train_Test_Valid/Train/lions_mane_jellyfish/aug-28-36.jpg  \r\n",
      "  inflating: Train_Test_Valid/Train/lions_mane_jellyfish/aug-29-37.jpg  \r\n",
      "  inflating: Train_Test_Valid/Train/lions_mane_jellyfish/aug-3-04.jpg  \r\n",
      "  inflating: Train_Test_Valid/Train/lions_mane_jellyfish/aug-30-38.jpg  \r\n",
      "  inflating: Train_Test_Valid/Train/lions_mane_jellyfish/aug-31-39.jpg  \r\n",
      "  inflating: Train_Test_Valid/Train/lions_mane_jellyfish/aug-32-40.jpg  \r\n",
      "  inflating: Train_Test_Valid/Train/lions_mane_jellyfish/aug-33-41.jpg  \r\n",
      "  inflating: Train_Test_Valid/Train/lions_mane_jellyfish/aug-34-43.jpg  \r\n",
      "  inflating: Train_Test_Valid/Train/lions_mane_jellyfish/aug-35-44.jpg  \r\n",
      "  inflating: Train_Test_Valid/Train/lions_mane_jellyfish/aug-36-45.jpg  \r\n",
      "  inflating: Train_Test_Valid/Train/lions_mane_jellyfish/aug-37-47.jpg  \r\n",
      "  inflating: Train_Test_Valid/Train/lions_mane_jellyfish/aug-38-48.jpg  \r\n",
      "  inflating: Train_Test_Valid/Train/lions_mane_jellyfish/aug-39-49.jpg  \r\n",
      "  inflating: Train_Test_Valid/Train/lions_mane_jellyfish/aug-4-05.jpg  \r\n",
      "  inflating: Train_Test_Valid/Train/lions_mane_jellyfish/aug-40-50.jpg  \r\n",
      "  inflating: Train_Test_Valid/Train/lions_mane_jellyfish/aug-41-52.jpg  \r\n",
      "  inflating: Train_Test_Valid/Train/lions_mane_jellyfish/aug-42-54.jpg  \r\n",
      "  inflating: Train_Test_Valid/Train/lions_mane_jellyfish/aug-43-55.jpg  \r\n",
      "  inflating: Train_Test_Valid/Train/lions_mane_jellyfish/aug-44-56.jpg  \r\n",
      "  inflating: Train_Test_Valid/Train/lions_mane_jellyfish/aug-45-57.jpg  \r\n",
      "  inflating: Train_Test_Valid/Train/lions_mane_jellyfish/aug-46-59.jpg  \r\n",
      "  inflating: Train_Test_Valid/Train/lions_mane_jellyfish/aug-47-60.jpg  \r\n",
      "  inflating: Train_Test_Valid/Train/lions_mane_jellyfish/aug-48-61.jpg  \r\n",
      "  inflating: Train_Test_Valid/Train/lions_mane_jellyfish/aug-49-62.jpg  \r\n",
      "  inflating: Train_Test_Valid/Train/lions_mane_jellyfish/aug-5-06.jpg  \r\n",
      "  inflating: Train_Test_Valid/Train/lions_mane_jellyfish/aug-50-65.jpg  \r\n",
      "  inflating: Train_Test_Valid/Train/lions_mane_jellyfish/aug-51-68.jpg  \r\n",
      "  inflating: Train_Test_Valid/Train/lions_mane_jellyfish/aug-52-69.jpg  \r\n",
      "  inflating: Train_Test_Valid/Train/lions_mane_jellyfish/aug-53-70.jpg  \r\n",
      "  inflating: Train_Test_Valid/Train/lions_mane_jellyfish/aug-54-71.jpg  \r\n",
      "  inflating: Train_Test_Valid/Train/lions_mane_jellyfish/aug-55-72.jpg  \r\n",
      "  inflating: Train_Test_Valid/Train/lions_mane_jellyfish/aug-56-73.jpeg  \r\n",
      "  inflating: Train_Test_Valid/Train/lions_mane_jellyfish/aug-57-74.png  \r\n",
      "  inflating: Train_Test_Valid/Train/lions_mane_jellyfish/aug-58-75.jpeg  \r\n",
      "  inflating: Train_Test_Valid/Train/lions_mane_jellyfish/aug-59-76.jpg  \r\n",
      "  inflating: Train_Test_Valid/Train/lions_mane_jellyfish/aug-6-07.jpg  \r\n",
      "  inflating: Train_Test_Valid/Train/lions_mane_jellyfish/aug-60-77.jpg  \r\n",
      "  inflating: Train_Test_Valid/Train/lions_mane_jellyfish/aug-61-01.jpg  \r\n",
      "  inflating: Train_Test_Valid/Train/lions_mane_jellyfish/aug-62-02.jpg  \r\n",
      "  inflating: Train_Test_Valid/Train/lions_mane_jellyfish/aug-63-03.jpg  \r\n",
      "  inflating: Train_Test_Valid/Train/lions_mane_jellyfish/aug-64-04.jpg  \r\n",
      "  inflating: Train_Test_Valid/Train/lions_mane_jellyfish/aug-65-05.jpg  \r\n",
      "  inflating: Train_Test_Valid/Train/lions_mane_jellyfish/aug-66-06.jpg  \r\n",
      "  inflating: Train_Test_Valid/Train/lions_mane_jellyfish/aug-67-07.jpg  \r\n",
      "  inflating: Train_Test_Valid/Train/lions_mane_jellyfish/aug-68-08.jpg  \r\n",
      "  inflating: Train_Test_Valid/Train/lions_mane_jellyfish/aug-69-09.jpg  \r\n",
      "  inflating: Train_Test_Valid/Train/lions_mane_jellyfish/aug-7-08.jpg  \r\n",
      "  inflating: Train_Test_Valid/Train/lions_mane_jellyfish/aug-70-10.jpg  \r\n",
      "  inflating: Train_Test_Valid/Train/lions_mane_jellyfish/aug-71-11.jpg  \r\n",
      "  inflating: Train_Test_Valid/Train/lions_mane_jellyfish/aug-72-15.jpg  \r\n",
      "  inflating: Train_Test_Valid/Train/lions_mane_jellyfish/aug-73-16.jpg  \r\n",
      "  inflating: Train_Test_Valid/Train/lions_mane_jellyfish/aug-74-17.jpg  \r\n",
      "  inflating: Train_Test_Valid/Train/lions_mane_jellyfish/aug-75-18.jpg  \r\n",
      "  inflating: Train_Test_Valid/Train/lions_mane_jellyfish/aug-76-20.jpg  \r\n",
      "  inflating: Train_Test_Valid/Train/lions_mane_jellyfish/aug-77-21.jpg  \r\n",
      "  inflating: Train_Test_Valid/Train/lions_mane_jellyfish/aug-78-22.jpg  \r\n",
      "  inflating: Train_Test_Valid/Train/lions_mane_jellyfish/aug-79-23.jpg  \r\n",
      "  inflating: Train_Test_Valid/Train/lions_mane_jellyfish/aug-8-09.jpg  \r\n",
      "  inflating: Train_Test_Valid/Train/lions_mane_jellyfish/aug-80-24.jpg  \r\n",
      "  inflating: Train_Test_Valid/Train/lions_mane_jellyfish/aug-81-25.jpg  \r\n",
      "  inflating: Train_Test_Valid/Train/lions_mane_jellyfish/aug-82-26.JPG  \r\n",
      "  inflating: Train_Test_Valid/Train/lions_mane_jellyfish/aug-83-29.jpg  \r\n",
      "  inflating: Train_Test_Valid/Train/lions_mane_jellyfish/aug-84-30.jpg  \r\n",
      "  inflating: Train_Test_Valid/Train/lions_mane_jellyfish/aug-85-31.jpg  \r\n",
      "  inflating: Train_Test_Valid/Train/lions_mane_jellyfish/aug-86-32.jpg  \r\n",
      "  inflating: Train_Test_Valid/Train/lions_mane_jellyfish/aug-87-34.jpg  \r\n",
      "  inflating: Train_Test_Valid/Train/lions_mane_jellyfish/aug-88-35.jpg  \r\n",
      "  inflating: Train_Test_Valid/Train/lions_mane_jellyfish/aug-9-10.jpg  \r\n",
      "  inflating: Train_Test_Valid/Train/mauve_stinger_jellyfish/01.jpg  \r\n",
      "  inflating: Train_Test_Valid/Train/mauve_stinger_jellyfish/02.jpg  \r\n",
      "  inflating: Train_Test_Valid/Train/mauve_stinger_jellyfish/03.jpg  \r\n",
      "  inflating: Train_Test_Valid/Train/mauve_stinger_jellyfish/04.jpg  \r\n",
      "  inflating: Train_Test_Valid/Train/mauve_stinger_jellyfish/05.jpg  \r\n",
      "  inflating: Train_Test_Valid/Train/mauve_stinger_jellyfish/06.jpg  \r\n",
      "  inflating: Train_Test_Valid/Train/mauve_stinger_jellyfish/08.jpg  \r\n",
      "  inflating: Train_Test_Valid/Train/mauve_stinger_jellyfish/09.jpg  \r\n",
      "  inflating: Train_Test_Valid/Train/mauve_stinger_jellyfish/11.jpg  \r\n",
      "  inflating: Train_Test_Valid/Train/mauve_stinger_jellyfish/12.jpg  \r\n",
      "  inflating: Train_Test_Valid/Train/mauve_stinger_jellyfish/13.jpg  \r\n",
      "  inflating: Train_Test_Valid/Train/mauve_stinger_jellyfish/15.jpg  \r\n",
      "  inflating: Train_Test_Valid/Train/mauve_stinger_jellyfish/16.jpg  \r\n",
      "  inflating: Train_Test_Valid/Train/mauve_stinger_jellyfish/17.jpg  \r\n",
      "  inflating: Train_Test_Valid/Train/mauve_stinger_jellyfish/18.jpg  \r\n",
      "  inflating: Train_Test_Valid/Train/mauve_stinger_jellyfish/20.jpg  \r\n",
      "  inflating: Train_Test_Valid/Train/mauve_stinger_jellyfish/21.jpg  \r\n",
      "  inflating: Train_Test_Valid/Train/mauve_stinger_jellyfish/22.jpg  \r\n",
      "  inflating: Train_Test_Valid/Train/mauve_stinger_jellyfish/23.jpg  \r\n",
      "  inflating: Train_Test_Valid/Train/mauve_stinger_jellyfish/24.jpg  \r\n",
      "  inflating: Train_Test_Valid/Train/mauve_stinger_jellyfish/25.jpg  \r\n",
      "  inflating: Train_Test_Valid/Train/mauve_stinger_jellyfish/28.jpg  \r\n",
      "  inflating: Train_Test_Valid/Train/mauve_stinger_jellyfish/29.jpg  \r\n",
      "  inflating: Train_Test_Valid/Train/mauve_stinger_jellyfish/30.jpg  \r\n",
      "  inflating: Train_Test_Valid/Train/mauve_stinger_jellyfish/31.jpg  \r\n",
      "  inflating: Train_Test_Valid/Train/mauve_stinger_jellyfish/32.jpg  \r\n",
      "  inflating: Train_Test_Valid/Train/mauve_stinger_jellyfish/33.jpg  \r\n",
      "  inflating: Train_Test_Valid/Train/mauve_stinger_jellyfish/35.JPG  \r\n",
      "  inflating: Train_Test_Valid/Train/mauve_stinger_jellyfish/36.jpg  \r\n",
      "  inflating: Train_Test_Valid/Train/mauve_stinger_jellyfish/37.jpg  \r\n",
      "  inflating: Train_Test_Valid/Train/mauve_stinger_jellyfish/39.jpg  \r\n",
      "  inflating: Train_Test_Valid/Train/mauve_stinger_jellyfish/40.jpg  \r\n",
      "  inflating: Train_Test_Valid/Train/mauve_stinger_jellyfish/41.jpg  \r\n",
      "  inflating: Train_Test_Valid/Train/mauve_stinger_jellyfish/42.jpg  \r\n",
      "  inflating: Train_Test_Valid/Train/mauve_stinger_jellyfish/43.jpg  \r\n",
      "  inflating: Train_Test_Valid/Train/mauve_stinger_jellyfish/44.jpg  \r\n",
      "  inflating: Train_Test_Valid/Train/mauve_stinger_jellyfish/45.jpg  \r\n",
      "  inflating: Train_Test_Valid/Train/mauve_stinger_jellyfish/46.jpg  \r\n",
      "  inflating: Train_Test_Valid/Train/mauve_stinger_jellyfish/47.jpg  \r\n",
      "  inflating: Train_Test_Valid/Train/mauve_stinger_jellyfish/49.jpg  \r\n",
      "  inflating: Train_Test_Valid/Train/mauve_stinger_jellyfish/50.jpg  \r\n",
      "  inflating: Train_Test_Valid/Train/mauve_stinger_jellyfish/51.jpg  \r\n",
      "  inflating: Train_Test_Valid/Train/mauve_stinger_jellyfish/52.jpg  \r\n",
      "  inflating: Train_Test_Valid/Train/mauve_stinger_jellyfish/53.jpg  \r\n",
      "  inflating: Train_Test_Valid/Train/mauve_stinger_jellyfish/54.jpg  \r\n",
      "  inflating: Train_Test_Valid/Train/mauve_stinger_jellyfish/55.jpg  \r\n",
      "  inflating: Train_Test_Valid/Train/mauve_stinger_jellyfish/56.JPG  \r\n",
      "  inflating: Train_Test_Valid/Train/mauve_stinger_jellyfish/57.jpg  \r\n",
      "  inflating: Train_Test_Valid/Train/mauve_stinger_jellyfish/58.jpg  \r\n",
      "  inflating: Train_Test_Valid/Train/mauve_stinger_jellyfish/59.jpg  \r\n",
      "  inflating: Train_Test_Valid/Train/mauve_stinger_jellyfish/62.jpg  \r\n",
      "  inflating: Train_Test_Valid/Train/mauve_stinger_jellyfish/63.jpg  \r\n",
      "  inflating: Train_Test_Valid/Train/mauve_stinger_jellyfish/64.jpg  \r\n",
      "  inflating: Train_Test_Valid/Train/mauve_stinger_jellyfish/65.jpg  \r\n",
      "  inflating: Train_Test_Valid/Train/mauve_stinger_jellyfish/66.JPG  \r\n",
      "  inflating: Train_Test_Valid/Train/mauve_stinger_jellyfish/68.jpg  \r\n",
      "  inflating: Train_Test_Valid/Train/mauve_stinger_jellyfish/71.jpg  \r\n",
      "  inflating: Train_Test_Valid/Train/mauve_stinger_jellyfish/72.jpg  \r\n",
      "  inflating: Train_Test_Valid/Train/mauve_stinger_jellyfish/aug-0-01.jpg  \r\n",
      "  inflating: Train_Test_Valid/Train/mauve_stinger_jellyfish/aug-1-02.jpg  \r\n",
      "  inflating: Train_Test_Valid/Train/mauve_stinger_jellyfish/aug-10-13.jpg  \r\n",
      "  inflating: Train_Test_Valid/Train/mauve_stinger_jellyfish/aug-11-15.jpg  \r\n",
      "  inflating: Train_Test_Valid/Train/mauve_stinger_jellyfish/aug-12-16.jpg  \r\n",
      "  inflating: Train_Test_Valid/Train/mauve_stinger_jellyfish/aug-13-17.jpg  \r\n",
      "  inflating: Train_Test_Valid/Train/mauve_stinger_jellyfish/aug-14-18.jpg  \r\n",
      "  inflating: Train_Test_Valid/Train/mauve_stinger_jellyfish/aug-15-20.jpg  \r\n",
      "  inflating: Train_Test_Valid/Train/mauve_stinger_jellyfish/aug-16-21.jpg  \r\n",
      "  inflating: Train_Test_Valid/Train/mauve_stinger_jellyfish/aug-17-22.jpg  \r\n",
      "  inflating: Train_Test_Valid/Train/mauve_stinger_jellyfish/aug-18-23.jpg  \r\n",
      "  inflating: Train_Test_Valid/Train/mauve_stinger_jellyfish/aug-19-24.jpg  \r\n",
      "  inflating: Train_Test_Valid/Train/mauve_stinger_jellyfish/aug-2-03.jpg  \r\n",
      "  inflating: Train_Test_Valid/Train/mauve_stinger_jellyfish/aug-20-25.jpg  \r\n",
      "  inflating: Train_Test_Valid/Train/mauve_stinger_jellyfish/aug-21-28.jpg  \r\n",
      "  inflating: Train_Test_Valid/Train/mauve_stinger_jellyfish/aug-22-29.jpg  \r\n",
      "  inflating: Train_Test_Valid/Train/mauve_stinger_jellyfish/aug-23-30.jpg  \r\n",
      "  inflating: Train_Test_Valid/Train/mauve_stinger_jellyfish/aug-24-31.jpg  \r\n",
      "  inflating: Train_Test_Valid/Train/mauve_stinger_jellyfish/aug-25-32.jpg  \r\n",
      "  inflating: Train_Test_Valid/Train/mauve_stinger_jellyfish/aug-26-33.jpg  \r\n",
      "  inflating: Train_Test_Valid/Train/mauve_stinger_jellyfish/aug-27-35.JPG  \r\n",
      "  inflating: Train_Test_Valid/Train/mauve_stinger_jellyfish/aug-28-36.jpg  \r\n",
      "  inflating: Train_Test_Valid/Train/mauve_stinger_jellyfish/aug-29-37.jpg  \r\n",
      "  inflating: Train_Test_Valid/Train/mauve_stinger_jellyfish/aug-3-04.jpg  \r\n",
      "  inflating: Train_Test_Valid/Train/mauve_stinger_jellyfish/aug-30-39.jpg  \r\n",
      "  inflating: Train_Test_Valid/Train/mauve_stinger_jellyfish/aug-31-40.jpg  \r\n",
      "  inflating: Train_Test_Valid/Train/mauve_stinger_jellyfish/aug-32-41.jpg  \r\n",
      "  inflating: Train_Test_Valid/Train/mauve_stinger_jellyfish/aug-33-42.jpg  \r\n",
      "  inflating: Train_Test_Valid/Train/mauve_stinger_jellyfish/aug-34-43.jpg  \r\n",
      "  inflating: Train_Test_Valid/Train/mauve_stinger_jellyfish/aug-35-44.jpg  \r\n",
      "  inflating: Train_Test_Valid/Train/mauve_stinger_jellyfish/aug-36-45.jpg  \r\n",
      "  inflating: Train_Test_Valid/Train/mauve_stinger_jellyfish/aug-37-46.jpg  \r\n",
      "  inflating: Train_Test_Valid/Train/mauve_stinger_jellyfish/aug-38-47.jpg  \r\n",
      "  inflating: Train_Test_Valid/Train/mauve_stinger_jellyfish/aug-39-49.jpg  \r\n",
      "  inflating: Train_Test_Valid/Train/mauve_stinger_jellyfish/aug-4-05.jpg  \r\n",
      "  inflating: Train_Test_Valid/Train/mauve_stinger_jellyfish/aug-40-50.jpg  \r\n",
      "  inflating: Train_Test_Valid/Train/mauve_stinger_jellyfish/aug-41-51.jpg  \r\n",
      "  inflating: Train_Test_Valid/Train/mauve_stinger_jellyfish/aug-42-52.jpg  \r\n",
      "  inflating: Train_Test_Valid/Train/mauve_stinger_jellyfish/aug-43-53.jpg  \r\n",
      "  inflating: Train_Test_Valid/Train/mauve_stinger_jellyfish/aug-44-54.jpg  \r\n",
      "  inflating: Train_Test_Valid/Train/mauve_stinger_jellyfish/aug-45-55.jpg  \r\n",
      "  inflating: Train_Test_Valid/Train/mauve_stinger_jellyfish/aug-46-56.JPG  \r\n",
      "  inflating: Train_Test_Valid/Train/mauve_stinger_jellyfish/aug-47-57.jpg  \r\n",
      "  inflating: Train_Test_Valid/Train/mauve_stinger_jellyfish/aug-48-58.jpg  \r\n",
      "  inflating: Train_Test_Valid/Train/mauve_stinger_jellyfish/aug-49-59.jpg  \r\n",
      "  inflating: Train_Test_Valid/Train/mauve_stinger_jellyfish/aug-5-06.jpg  \r\n",
      "  inflating: Train_Test_Valid/Train/mauve_stinger_jellyfish/aug-50-62.jpg  \r\n",
      "  inflating: Train_Test_Valid/Train/mauve_stinger_jellyfish/aug-51-63.jpg  \r\n",
      "  inflating: Train_Test_Valid/Train/mauve_stinger_jellyfish/aug-52-64.jpg  \r\n",
      "  inflating: Train_Test_Valid/Train/mauve_stinger_jellyfish/aug-53-65.jpg  \r\n",
      "  inflating: Train_Test_Valid/Train/mauve_stinger_jellyfish/aug-54-66.JPG  \r\n",
      "  inflating: Train_Test_Valid/Train/mauve_stinger_jellyfish/aug-55-68.jpg  \r\n",
      "  inflating: Train_Test_Valid/Train/mauve_stinger_jellyfish/aug-56-71.jpg  \r\n",
      "  inflating: Train_Test_Valid/Train/mauve_stinger_jellyfish/aug-57-72.jpg  \r\n",
      "  inflating: Train_Test_Valid/Train/mauve_stinger_jellyfish/aug-58-01.jpg  \r\n",
      "  inflating: Train_Test_Valid/Train/mauve_stinger_jellyfish/aug-59-02.jpg  \r\n",
      "  inflating: Train_Test_Valid/Train/mauve_stinger_jellyfish/aug-6-08.jpg  \r\n",
      "  inflating: Train_Test_Valid/Train/mauve_stinger_jellyfish/aug-60-03.jpg  \r\n"
     ]
    },
    {
     "name": "stdout",
     "output_type": "stream",
     "text": [
      "  inflating: Train_Test_Valid/Train/mauve_stinger_jellyfish/aug-61-04.jpg  \r\n",
      "  inflating: Train_Test_Valid/Train/mauve_stinger_jellyfish/aug-62-05.jpg  \r\n",
      "  inflating: Train_Test_Valid/Train/mauve_stinger_jellyfish/aug-63-06.jpg  \r\n",
      "  inflating: Train_Test_Valid/Train/mauve_stinger_jellyfish/aug-64-08.jpg  \r\n",
      "  inflating: Train_Test_Valid/Train/mauve_stinger_jellyfish/aug-65-09.jpg  \r\n",
      "  inflating: Train_Test_Valid/Train/mauve_stinger_jellyfish/aug-66-11.jpg  \r\n",
      "  inflating: Train_Test_Valid/Train/mauve_stinger_jellyfish/aug-67-12.jpg  \r\n",
      "  inflating: Train_Test_Valid/Train/mauve_stinger_jellyfish/aug-68-13.jpg  \r\n",
      "  inflating: Train_Test_Valid/Train/mauve_stinger_jellyfish/aug-69-15.jpg  \r\n",
      "  inflating: Train_Test_Valid/Train/mauve_stinger_jellyfish/aug-7-09.jpg  \r\n",
      "  inflating: Train_Test_Valid/Train/mauve_stinger_jellyfish/aug-70-16.jpg  \r\n",
      "  inflating: Train_Test_Valid/Train/mauve_stinger_jellyfish/aug-71-17.jpg  \r\n",
      "  inflating: Train_Test_Valid/Train/mauve_stinger_jellyfish/aug-72-18.jpg  \r\n",
      "  inflating: Train_Test_Valid/Train/mauve_stinger_jellyfish/aug-73-20.jpg  \r\n",
      "  inflating: Train_Test_Valid/Train/mauve_stinger_jellyfish/aug-74-21.jpg  \r\n",
      "  inflating: Train_Test_Valid/Train/mauve_stinger_jellyfish/aug-75-22.jpg  \r\n",
      "  inflating: Train_Test_Valid/Train/mauve_stinger_jellyfish/aug-76-23.jpg  \r\n",
      "  inflating: Train_Test_Valid/Train/mauve_stinger_jellyfish/aug-77-24.jpg  \r\n",
      "  inflating: Train_Test_Valid/Train/mauve_stinger_jellyfish/aug-78-25.jpg  \r\n",
      "  inflating: Train_Test_Valid/Train/mauve_stinger_jellyfish/aug-79-28.jpg  \r\n",
      "  inflating: Train_Test_Valid/Train/mauve_stinger_jellyfish/aug-8-11.jpg  \r\n",
      "  inflating: Train_Test_Valid/Train/mauve_stinger_jellyfish/aug-80-29.jpg  \r\n",
      "  inflating: Train_Test_Valid/Train/mauve_stinger_jellyfish/aug-81-30.jpg  \r\n",
      "  inflating: Train_Test_Valid/Train/mauve_stinger_jellyfish/aug-82-31.jpg  \r\n",
      "  inflating: Train_Test_Valid/Train/mauve_stinger_jellyfish/aug-83-32.jpg  \r\n",
      "  inflating: Train_Test_Valid/Train/mauve_stinger_jellyfish/aug-84-33.jpg  \r\n",
      "  inflating: Train_Test_Valid/Train/mauve_stinger_jellyfish/aug-85-35.JPG  \r\n",
      "  inflating: Train_Test_Valid/Train/mauve_stinger_jellyfish/aug-86-36.jpg  \r\n",
      "  inflating: Train_Test_Valid/Train/mauve_stinger_jellyfish/aug-87-37.jpg  \r\n",
      "  inflating: Train_Test_Valid/Train/mauve_stinger_jellyfish/aug-88-39.jpg  \r\n",
      "  inflating: Train_Test_Valid/Train/mauve_stinger_jellyfish/aug-89-40.jpg  \r\n",
      "  inflating: Train_Test_Valid/Train/mauve_stinger_jellyfish/aug-9-12.jpg  \r\n",
      "  inflating: Train_Test_Valid/Train/mauve_stinger_jellyfish/aug-90-41.jpg  \r\n",
      "  inflating: Train_Test_Valid/Train/mauve_stinger_jellyfish/aug-91-42.jpg  \r\n",
      "  inflating: Train_Test_Valid/test/Moon_jellyfish/07.JPG  \r\n",
      "  inflating: Train_Test_Valid/test/Moon_jellyfish/11.jpg  \r\n",
      "  inflating: Train_Test_Valid/test/Moon_jellyfish/19.jpg  \r\n",
      "  inflating: Train_Test_Valid/test/Moon_jellyfish/23.jpg  \r\n",
      "  inflating: Train_Test_Valid/test/Moon_jellyfish/33.jpg  \r\n",
      "  inflating: Train_Test_Valid/test/Moon_jellyfish/48.jpg  \r\n",
      "  inflating: Train_Test_Valid/test/barrel_jellyfish/08.jpg  \r\n",
      "  inflating: Train_Test_Valid/test/barrel_jellyfish/16.jpg  \r\n",
      "  inflating: Train_Test_Valid/test/barrel_jellyfish/23.jpg  \r\n",
      "  inflating: Train_Test_Valid/test/barrel_jellyfish/43.jpg  \r\n",
      "  inflating: Train_Test_Valid/test/barrel_jellyfish/50.jpg  \r\n",
      "  inflating: Train_Test_Valid/test/blue_jellyfish/01.jpeg  \r\n",
      "  inflating: Train_Test_Valid/test/blue_jellyfish/10.jpg  \r\n",
      "  inflating: Train_Test_Valid/test/blue_jellyfish/14.jpg  \r\n",
      "  inflating: Train_Test_Valid/test/blue_jellyfish/19.jpg  \r\n",
      "  inflating: Train_Test_Valid/test/blue_jellyfish/24.jpg  \r\n",
      "  inflating: Train_Test_Valid/test/blue_jellyfish/33.jpeg  \r\n",
      "  inflating: Train_Test_Valid/test/blue_jellyfish/47.jpg  \r\n",
      "  inflating: Train_Test_Valid/test/compass_jellyfish/04.jpg  \r\n",
      "  inflating: Train_Test_Valid/test/compass_jellyfish/20.jpg  \r\n",
      "  inflating: Train_Test_Valid/test/compass_jellyfish/28.JPG  \r\n",
      "  inflating: Train_Test_Valid/test/compass_jellyfish/41.jpg  \r\n",
      "  inflating: Train_Test_Valid/test/compass_jellyfish/48.jpg  \r\n",
      "  inflating: Train_Test_Valid/test/compass_jellyfish/54.jpg  \r\n",
      "  inflating: Train_Test_Valid/test/compass_jellyfish/69.png  \r\n",
      "  inflating: Train_Test_Valid/test/lions_mane_jellyfish/12.jpg  \r\n",
      "  inflating: Train_Test_Valid/test/lions_mane_jellyfish/14.jpg  \r\n",
      "  inflating: Train_Test_Valid/test/lions_mane_jellyfish/27.jpg  \r\n",
      "  inflating: Train_Test_Valid/test/lions_mane_jellyfish/33.jpg  \r\n",
      "  inflating: Train_Test_Valid/test/lions_mane_jellyfish/46.jpg  \r\n",
      "  inflating: Train_Test_Valid/test/lions_mane_jellyfish/58.jpg  \r\n",
      "  inflating: Train_Test_Valid/test/lions_mane_jellyfish/64.jpg  \r\n",
      "  inflating: Train_Test_Valid/test/lions_mane_jellyfish/67.jpg  \r\n",
      "  inflating: Train_Test_Valid/test/mauve_stinger_jellyfish/07.jpg  \r\n",
      "  inflating: Train_Test_Valid/test/mauve_stinger_jellyfish/14.jpg  \r\n",
      "  inflating: Train_Test_Valid/test/mauve_stinger_jellyfish/26.jpg  \r\n",
      "  inflating: Train_Test_Valid/test/mauve_stinger_jellyfish/34.jpg  \r\n",
      "  inflating: Train_Test_Valid/test/mauve_stinger_jellyfish/48.jpg  \r\n",
      "  inflating: Train_Test_Valid/test/mauve_stinger_jellyfish/61.jpg  \r\n",
      "  inflating: Train_Test_Valid/test/mauve_stinger_jellyfish/69.jpg  \r\n",
      "  inflating: Train_Test_Valid/valid/Moon_jellyfish/09.jpg  \r\n",
      "  inflating: Train_Test_Valid/valid/Moon_jellyfish/15.jpg  \r\n",
      "  inflating: Train_Test_Valid/valid/Moon_jellyfish/20.jpg  \r\n",
      "  inflating: Train_Test_Valid/valid/Moon_jellyfish/27.jpg  \r\n",
      "  inflating: Train_Test_Valid/valid/Moon_jellyfish/44.jpg  \r\n",
      "  inflating: Train_Test_Valid/valid/Moon_jellyfish/60.jpg  \r\n",
      "  inflating: Train_Test_Valid/valid/barrel_jellyfish/09.jpg  \r\n",
      "  inflating: Train_Test_Valid/valid/barrel_jellyfish/19.jpg  \r\n",
      "  inflating: Train_Test_Valid/valid/barrel_jellyfish/26.JPG  \r\n",
      "  inflating: Train_Test_Valid/valid/barrel_jellyfish/44.jpg  \r\n",
      "  inflating: Train_Test_Valid/valid/barrel_jellyfish/51.jpg  \r\n",
      "  inflating: Train_Test_Valid/valid/blue_jellyfish/05.jpg  \r\n",
      "  inflating: Train_Test_Valid/valid/blue_jellyfish/12.jpeg  \r\n",
      "  inflating: Train_Test_Valid/valid/blue_jellyfish/16.jpg  \r\n",
      "  inflating: Train_Test_Valid/valid/blue_jellyfish/22.jpeg  \r\n",
      "  inflating: Train_Test_Valid/valid/blue_jellyfish/30.jpg  \r\n",
      "  inflating: Train_Test_Valid/valid/blue_jellyfish/35.jpg  \r\n",
      "  inflating: Train_Test_Valid/valid/blue_jellyfish/48.jpg  \r\n",
      "  inflating: Train_Test_Valid/valid/compass_jellyfish/11.jpg  \r\n",
      "  inflating: Train_Test_Valid/valid/compass_jellyfish/26.jpg  \r\n",
      "  inflating: Train_Test_Valid/valid/compass_jellyfish/37.jpg  \r\n",
      "  inflating: Train_Test_Valid/valid/compass_jellyfish/46.jpg  \r\n",
      "  inflating: Train_Test_Valid/valid/compass_jellyfish/52.jpg  \r\n",
      "  inflating: Train_Test_Valid/valid/compass_jellyfish/67.jpg  \r\n",
      "  inflating: Train_Test_Valid/valid/compass_jellyfish/73.jpg  \r\n",
      "  inflating: Train_Test_Valid/valid/lions_mane_jellyfish/13.jpg  \r\n",
      "  inflating: Train_Test_Valid/valid/lions_mane_jellyfish/19.jpg  \r\n",
      "  inflating: Train_Test_Valid/valid/lions_mane_jellyfish/28.jpg  \r\n",
      "  inflating: Train_Test_Valid/valid/lions_mane_jellyfish/42.jpg  \r\n",
      "  inflating: Train_Test_Valid/valid/lions_mane_jellyfish/51.jpg  \r\n",
      "  inflating: Train_Test_Valid/valid/lions_mane_jellyfish/63.jpg  \r\n",
      "  inflating: Train_Test_Valid/valid/lions_mane_jellyfish/66.jpg  \r\n",
      "  inflating: Train_Test_Valid/valid/mauve_stinger_jellyfish/10.jpg  \r\n",
      "  inflating: Train_Test_Valid/valid/mauve_stinger_jellyfish/19.jpg  \r\n",
      "  inflating: Train_Test_Valid/valid/mauve_stinger_jellyfish/27.jpg  \r\n",
      "  inflating: Train_Test_Valid/valid/mauve_stinger_jellyfish/38.jpg  \r\n",
      "  inflating: Train_Test_Valid/valid/mauve_stinger_jellyfish/60.jpg  \r\n",
      "  inflating: Train_Test_Valid/valid/mauve_stinger_jellyfish/67.jpg  \r\n",
      "  inflating: Train_Test_Valid/valid/mauve_stinger_jellyfish/70.jpg  \r\n",
      "  inflating: barrel_jellyfish/01.jpeg  \r\n",
      "  inflating: barrel_jellyfish/02.jpg  \r\n",
      "  inflating: barrel_jellyfish/03.jpg  \r\n",
      "  inflating: barrel_jellyfish/04.jpg  \r\n",
      "  inflating: barrel_jellyfish/05.jpg  \r\n",
      "  inflating: barrel_jellyfish/06.jpg  \r\n",
      "  inflating: barrel_jellyfish/07.jpg  \r\n",
      "  inflating: barrel_jellyfish/10.jpg  \r\n",
      "  inflating: barrel_jellyfish/11.jpg  \r\n",
      "  inflating: barrel_jellyfish/12.jpg  \r\n",
      "  inflating: barrel_jellyfish/13.jpg  \r\n",
      "  inflating: barrel_jellyfish/14.jpg  \r\n",
      "  inflating: barrel_jellyfish/15.jpg  \r\n",
      "  inflating: barrel_jellyfish/17.jpg  \r\n",
      "  inflating: barrel_jellyfish/18.jpg  \r\n",
      "  inflating: barrel_jellyfish/20.jpg  \r\n",
      "  inflating: barrel_jellyfish/21.jpg  \r\n",
      "  inflating: barrel_jellyfish/22.jpg  \r\n",
      "  inflating: barrel_jellyfish/24.jpg  \r\n",
      "  inflating: barrel_jellyfish/25.jpg  \r\n",
      "  inflating: barrel_jellyfish/27.jpg  \r\n",
      "  inflating: barrel_jellyfish/28.jpg  \r\n",
      "  inflating: barrel_jellyfish/29.jpg  \r\n",
      "  inflating: barrel_jellyfish/30.jpg  \r\n",
      "  inflating: barrel_jellyfish/31.jpg  \r\n",
      "  inflating: barrel_jellyfish/32.JPG  \r\n",
      "  inflating: barrel_jellyfish/33.jpg  \r\n",
      "  inflating: barrel_jellyfish/34.jpg  \r\n",
      "  inflating: barrel_jellyfish/35.jpg  \r\n",
      "  inflating: barrel_jellyfish/36.jpg  \r\n",
      "  inflating: barrel_jellyfish/37.jpg  \r\n",
      "  inflating: barrel_jellyfish/38.jpg  \r\n",
      "  inflating: barrel_jellyfish/39.JPG  \r\n",
      "  inflating: barrel_jellyfish/40.jpg  \r\n",
      "  inflating: barrel_jellyfish/41.jpg  \r\n",
      "  inflating: barrel_jellyfish/42.jpg  \r\n",
      "  inflating: barrel_jellyfish/45.jpg  \r\n",
      "  inflating: barrel_jellyfish/46.jpg  \r\n",
      "  inflating: barrel_jellyfish/47.jpg  \r\n",
      "  inflating: barrel_jellyfish/48.jpg  \r\n",
      "  inflating: barrel_jellyfish/49.jpg  \r\n",
      "  inflating: barrel_jellyfish/aug-0-01.jpeg  \r\n",
      "  inflating: barrel_jellyfish/aug-1-02.jpg  \r\n",
      "  inflating: barrel_jellyfish/aug-10-13.jpg  \r\n",
      "  inflating: barrel_jellyfish/aug-100-24.jpg  \r\n",
      "  inflating: barrel_jellyfish/aug-101-25.jpg  \r\n",
      "  inflating: barrel_jellyfish/aug-102-27.jpg  \r\n",
      "  inflating: barrel_jellyfish/aug-103-28.jpg  \r\n",
      "  inflating: barrel_jellyfish/aug-104-29.jpg  \r\n",
      "  inflating: barrel_jellyfish/aug-105-30.jpg  \r\n",
      "  inflating: barrel_jellyfish/aug-106-31.jpg  \r\n",
      "  inflating: barrel_jellyfish/aug-107-32.JPG  \r\n",
      "  inflating: barrel_jellyfish/aug-108-33.jpg  \r\n",
      "  inflating: barrel_jellyfish/aug-11-14.jpg  \r\n",
      "  inflating: barrel_jellyfish/aug-12-15.jpg  \r\n",
      "  inflating: barrel_jellyfish/aug-13-17.jpg  \r\n",
      "  inflating: barrel_jellyfish/aug-14-18.jpg  \r\n",
      "  inflating: barrel_jellyfish/aug-15-20.jpg  \r\n",
      "  inflating: barrel_jellyfish/aug-16-21.jpg  \r\n",
      "  inflating: barrel_jellyfish/aug-17-22.jpg  \r\n",
      "  inflating: barrel_jellyfish/aug-18-24.jpg  \r\n",
      "  inflating: barrel_jellyfish/aug-19-25.jpg  \r\n",
      "  inflating: barrel_jellyfish/aug-2-03.jpg  \r\n",
      "  inflating: barrel_jellyfish/aug-20-27.jpg  \r\n",
      "  inflating: barrel_jellyfish/aug-21-28.jpg  \r\n",
      "  inflating: barrel_jellyfish/aug-22-29.jpg  \r\n",
      "  inflating: barrel_jellyfish/aug-23-30.jpg  \r\n",
      "  inflating: barrel_jellyfish/aug-24-31.jpg  \r\n",
      "  inflating: barrel_jellyfish/aug-25-32.JPG  \r\n",
      "  inflating: barrel_jellyfish/aug-26-33.jpg  \r\n",
      "  inflating: barrel_jellyfish/aug-27-34.jpg  \r\n",
      "  inflating: barrel_jellyfish/aug-28-35.jpg  \r\n",
      "  inflating: barrel_jellyfish/aug-29-36.jpg  \r\n",
      "  inflating: barrel_jellyfish/aug-3-04.jpg  \r\n",
      "  inflating: barrel_jellyfish/aug-30-37.jpg  \r\n",
      "  inflating: barrel_jellyfish/aug-31-38.jpg  \r\n",
      "  inflating: barrel_jellyfish/aug-32-39.JPG  \r\n",
      "  inflating: barrel_jellyfish/aug-33-40.jpg  \r\n",
      "  inflating: barrel_jellyfish/aug-34-41.jpg  \r\n",
      "  inflating: barrel_jellyfish/aug-35-42.jpg  \r\n",
      "  inflating: barrel_jellyfish/aug-36-45.jpg  \r\n",
      "  inflating: barrel_jellyfish/aug-37-46.jpg  \r\n",
      "  inflating: barrel_jellyfish/aug-38-47.jpg  \r\n",
      "  inflating: barrel_jellyfish/aug-39-48.jpg  \r\n",
      "  inflating: barrel_jellyfish/aug-4-05.jpg  \r\n",
      "  inflating: barrel_jellyfish/aug-40-49.jpg  \r\n",
      "  inflating: barrel_jellyfish/aug-41-01.jpeg  \r\n",
      "  inflating: barrel_jellyfish/aug-42-02.jpg  \r\n",
      "  inflating: barrel_jellyfish/aug-43-03.jpg  \r\n",
      "  inflating: barrel_jellyfish/aug-44-04.jpg  \r\n",
      "  inflating: barrel_jellyfish/aug-45-05.jpg  \r\n"
     ]
    },
    {
     "name": "stdout",
     "output_type": "stream",
     "text": [
      "  inflating: barrel_jellyfish/aug-46-06.jpg  \r\n",
      "  inflating: barrel_jellyfish/aug-47-07.jpg  \r\n",
      "  inflating: barrel_jellyfish/aug-48-10.jpg  \r\n",
      "  inflating: barrel_jellyfish/aug-49-11.jpg  \r\n",
      "  inflating: barrel_jellyfish/aug-5-06.jpg  \r\n",
      "  inflating: barrel_jellyfish/aug-50-12.jpg  \r\n",
      "  inflating: barrel_jellyfish/aug-51-13.jpg  \r\n",
      "  inflating: barrel_jellyfish/aug-52-14.jpg  \r\n",
      "  inflating: barrel_jellyfish/aug-53-15.jpg  \r\n",
      "  inflating: barrel_jellyfish/aug-54-17.jpg  \r\n",
      "  inflating: barrel_jellyfish/aug-55-18.jpg  \r\n",
      "  inflating: barrel_jellyfish/aug-56-20.jpg  \r\n",
      "  inflating: barrel_jellyfish/aug-57-21.jpg  \r\n",
      "  inflating: barrel_jellyfish/aug-58-22.jpg  \r\n",
      "  inflating: barrel_jellyfish/aug-59-24.jpg  \r\n",
      "  inflating: barrel_jellyfish/aug-6-07.jpg  \r\n",
      "  inflating: barrel_jellyfish/aug-60-25.jpg  \r\n",
      "  inflating: barrel_jellyfish/aug-61-27.jpg  \r\n",
      "  inflating: barrel_jellyfish/aug-62-28.jpg  \r\n",
      "  inflating: barrel_jellyfish/aug-63-29.jpg  \r\n",
      "  inflating: barrel_jellyfish/aug-64-30.jpg  \r\n",
      "  inflating: barrel_jellyfish/aug-65-31.jpg  \r\n",
      "  inflating: barrel_jellyfish/aug-66-32.JPG  \r\n",
      "  inflating: barrel_jellyfish/aug-67-33.jpg  \r\n",
      "  inflating: barrel_jellyfish/aug-68-34.jpg  \r\n",
      "  inflating: barrel_jellyfish/aug-69-35.jpg  \r\n",
      "  inflating: barrel_jellyfish/aug-7-10.jpg  \r\n",
      "  inflating: barrel_jellyfish/aug-70-36.jpg  \r\n",
      "  inflating: barrel_jellyfish/aug-71-37.jpg  \r\n",
      "  inflating: barrel_jellyfish/aug-72-38.jpg  \r\n",
      "  inflating: barrel_jellyfish/aug-73-39.JPG  \r\n",
      "  inflating: barrel_jellyfish/aug-74-40.jpg  \r\n",
      "  inflating: barrel_jellyfish/aug-75-41.jpg  \r\n",
      "  inflating: barrel_jellyfish/aug-76-42.jpg  \r\n",
      "  inflating: barrel_jellyfish/aug-77-45.jpg  \r\n",
      "  inflating: barrel_jellyfish/aug-78-46.jpg  \r\n",
      "  inflating: barrel_jellyfish/aug-79-47.jpg  \r\n",
      "  inflating: barrel_jellyfish/aug-8-11.jpg  \r\n",
      "  inflating: barrel_jellyfish/aug-80-48.jpg  \r\n",
      "  inflating: barrel_jellyfish/aug-81-49.jpg  \r\n",
      "  inflating: barrel_jellyfish/aug-82-01.jpeg  \r\n",
      "  inflating: barrel_jellyfish/aug-83-02.jpg  \r\n",
      "  inflating: barrel_jellyfish/aug-84-03.jpg  \r\n",
      "  inflating: barrel_jellyfish/aug-85-04.jpg  \r\n",
      "  inflating: barrel_jellyfish/aug-86-05.jpg  \r\n",
      "  inflating: barrel_jellyfish/aug-87-06.jpg  \r\n",
      "  inflating: barrel_jellyfish/aug-88-07.jpg  \r\n",
      "  inflating: barrel_jellyfish/aug-89-10.jpg  \r\n",
      "  inflating: barrel_jellyfish/aug-9-12.jpg  \r\n",
      "  inflating: barrel_jellyfish/aug-90-11.jpg  \r\n",
      "  inflating: barrel_jellyfish/aug-91-12.jpg  \r\n",
      "  inflating: barrel_jellyfish/aug-92-13.jpg  \r\n",
      "  inflating: barrel_jellyfish/aug-93-14.jpg  \r\n",
      "  inflating: barrel_jellyfish/aug-94-15.jpg  \r\n",
      "  inflating: barrel_jellyfish/aug-95-17.jpg  \r\n",
      "  inflating: barrel_jellyfish/aug-96-18.jpg  \r\n",
      "  inflating: barrel_jellyfish/aug-97-20.jpg  \r\n",
      "  inflating: barrel_jellyfish/aug-98-21.jpg  \r\n",
      "  inflating: barrel_jellyfish/aug-99-22.jpg  \r\n",
      "  inflating: blue_jellyfish/02.jpg   \r\n",
      "  inflating: blue_jellyfish/03.jpg   \r\n",
      "  inflating: blue_jellyfish/04.jpg   \r\n",
      "  inflating: blue_jellyfish/06.jpg   \r\n",
      "  inflating: blue_jellyfish/07.jpg   \r\n",
      "  inflating: blue_jellyfish/08.jpg   \r\n",
      "  inflating: blue_jellyfish/09.jpg   \r\n",
      "  inflating: blue_jellyfish/11.jpg   \r\n",
      "  inflating: blue_jellyfish/13.jpg   \r\n",
      "  inflating: blue_jellyfish/15.jpg   \r\n",
      "  inflating: blue_jellyfish/17.jpg   \r\n",
      "  inflating: blue_jellyfish/18.jpg   \r\n",
      "  inflating: blue_jellyfish/20.jpg   \r\n",
      "  inflating: blue_jellyfish/21.jpg   \r\n",
      "  inflating: blue_jellyfish/23.jpg   \r\n",
      "  inflating: blue_jellyfish/25.jpg   \r\n",
      "  inflating: blue_jellyfish/26.jpg   \r\n",
      "  inflating: blue_jellyfish/27.jpg   \r\n",
      "  inflating: blue_jellyfish/28.jpg   \r\n",
      "  inflating: blue_jellyfish/29.jpg   \r\n",
      "  inflating: blue_jellyfish/31.jpg   \r\n",
      "  inflating: blue_jellyfish/32.jpg   \r\n",
      "  inflating: blue_jellyfish/34.jpg   \r\n",
      "  inflating: blue_jellyfish/36.jpg   \r\n",
      "  inflating: blue_jellyfish/37.jpg   \r\n",
      "  inflating: blue_jellyfish/38.jpg   \r\n",
      "  inflating: blue_jellyfish/39.jpg   \r\n",
      "  inflating: blue_jellyfish/40.jpg   \r\n",
      "  inflating: blue_jellyfish/41.jpg   \r\n",
      "  inflating: blue_jellyfish/42.jpg   \r\n",
      "  inflating: blue_jellyfish/43.jpg   \r\n",
      "  inflating: blue_jellyfish/44.jpg   \r\n",
      "  inflating: blue_jellyfish/45.jpg   \r\n",
      "  inflating: blue_jellyfish/46.jpg   \r\n",
      "  inflating: blue_jellyfish/49.jpg   \r\n",
      "  inflating: blue_jellyfish/50.jpg   \r\n",
      "  inflating: blue_jellyfish/51.jpg   \r\n",
      "  inflating: blue_jellyfish/52.jpg   \r\n",
      "  inflating: blue_jellyfish/53.jpg   \r\n",
      "  inflating: blue_jellyfish/54.jpg   \r\n",
      "  inflating: blue_jellyfish/55.jpg   \r\n",
      "  inflating: blue_jellyfish/56.jpg   \r\n",
      "  inflating: blue_jellyfish/57.jpg   \r\n",
      "  inflating: blue_jellyfish/58.jpg   \r\n",
      "  inflating: blue_jellyfish/59.jpg   \r\n",
      "  inflating: blue_jellyfish/60.jpg   \r\n",
      "  inflating: blue_jellyfish/61.jpg   \r\n",
      "  inflating: blue_jellyfish/62.jpg   \r\n",
      "  inflating: blue_jellyfish/63.jpg   \r\n",
      "  inflating: blue_jellyfish/64.jpg   \r\n",
      "  inflating: blue_jellyfish/65.jpg   \r\n",
      "  inflating: blue_jellyfish/66.jpg   \r\n",
      "  inflating: blue_jellyfish/67.jpg   \r\n",
      "  inflating: blue_jellyfish/68.png   \r\n",
      "  inflating: blue_jellyfish/69.jpg   \r\n",
      "  inflating: blue_jellyfish/aug-0-02.jpg  \r\n",
      "  inflating: blue_jellyfish/aug-1-03.jpg  \r\n",
      "  inflating: blue_jellyfish/aug-10-17.jpg  \r\n",
      "  inflating: blue_jellyfish/aug-11-18.jpg  \r\n",
      "  inflating: blue_jellyfish/aug-12-20.jpg  \r\n",
      "  inflating: blue_jellyfish/aug-13-21.jpg  \r\n",
      "  inflating: blue_jellyfish/aug-14-23.jpg  \r\n",
      "  inflating: blue_jellyfish/aug-15-25.jpg  \r\n",
      "  inflating: blue_jellyfish/aug-16-26.jpg  \r\n",
      "  inflating: blue_jellyfish/aug-17-27.jpg  \r\n",
      "  inflating: blue_jellyfish/aug-18-28.jpg  \r\n",
      "  inflating: blue_jellyfish/aug-19-29.jpg  \r\n",
      "  inflating: blue_jellyfish/aug-2-04.jpg  \r\n",
      "  inflating: blue_jellyfish/aug-20-31.jpg  \r\n",
      "  inflating: blue_jellyfish/aug-21-32.jpg  \r\n",
      "  inflating: blue_jellyfish/aug-22-34.jpg  \r\n",
      "  inflating: blue_jellyfish/aug-23-36.jpg  \r\n",
      "  inflating: blue_jellyfish/aug-24-37.jpg  \r\n",
      "  inflating: blue_jellyfish/aug-25-38.jpg  \r\n",
      "  inflating: blue_jellyfish/aug-26-39.jpg  \r\n",
      "  inflating: blue_jellyfish/aug-27-40.jpg  \r\n",
      "  inflating: blue_jellyfish/aug-28-41.jpg  \r\n",
      "  inflating: blue_jellyfish/aug-29-42.jpg  \r\n",
      "  inflating: blue_jellyfish/aug-3-06.jpg  \r\n",
      "  inflating: blue_jellyfish/aug-30-43.jpg  \r\n",
      "  inflating: blue_jellyfish/aug-31-44.jpg  \r\n",
      "  inflating: blue_jellyfish/aug-32-45.jpg  \r\n",
      "  inflating: blue_jellyfish/aug-33-46.jpg  \r\n",
      "  inflating: blue_jellyfish/aug-34-49.jpg  \r\n",
      "  inflating: blue_jellyfish/aug-35-50.jpg  \r\n",
      "  inflating: blue_jellyfish/aug-36-51.jpg  \r\n",
      "  inflating: blue_jellyfish/aug-37-52.jpg  \r\n",
      "  inflating: blue_jellyfish/aug-38-53.jpg  \r\n",
      "  inflating: blue_jellyfish/aug-39-54.jpg  \r\n",
      "  inflating: blue_jellyfish/aug-4-07.jpg  \r\n",
      "  inflating: blue_jellyfish/aug-40-55.jpg  \r\n",
      "  inflating: blue_jellyfish/aug-41-56.jpg  \r\n",
      "  inflating: blue_jellyfish/aug-42-57.jpg  \r\n",
      "  inflating: blue_jellyfish/aug-43-58.jpg  \r\n",
      "  inflating: blue_jellyfish/aug-44-59.jpg  \r\n",
      "  inflating: blue_jellyfish/aug-45-60.jpg  \r\n",
      "  inflating: blue_jellyfish/aug-46-61.jpg  \r\n",
      "  inflating: blue_jellyfish/aug-47-62.jpg  \r\n",
      "  inflating: blue_jellyfish/aug-48-63.jpg  \r\n",
      "  inflating: blue_jellyfish/aug-49-64.jpg  \r\n",
      "  inflating: blue_jellyfish/aug-5-08.jpg  \r\n",
      "  inflating: blue_jellyfish/aug-50-65.jpg  \r\n",
      "  inflating: blue_jellyfish/aug-51-66.jpg  \r\n",
      "  inflating: blue_jellyfish/aug-52-67.jpg  \r\n",
      "  inflating: blue_jellyfish/aug-53-68.png  \r\n",
      "  inflating: blue_jellyfish/aug-54-69.jpg  \r\n",
      "  inflating: blue_jellyfish/aug-55-02.jpg  \r\n",
      "  inflating: blue_jellyfish/aug-56-03.jpg  \r\n",
      "  inflating: blue_jellyfish/aug-57-04.jpg  \r\n",
      "  inflating: blue_jellyfish/aug-58-06.jpg  \r\n",
      "  inflating: blue_jellyfish/aug-59-07.jpg  \r\n",
      "  inflating: blue_jellyfish/aug-6-09.jpg  \r\n",
      "  inflating: blue_jellyfish/aug-60-08.jpg  \r\n",
      "  inflating: blue_jellyfish/aug-61-09.jpg  \r\n",
      "  inflating: blue_jellyfish/aug-62-11.jpg  \r\n",
      "  inflating: blue_jellyfish/aug-63-13.jpg  \r\n",
      "  inflating: blue_jellyfish/aug-64-15.jpg  \r\n",
      "  inflating: blue_jellyfish/aug-65-17.jpg  \r\n",
      "  inflating: blue_jellyfish/aug-66-18.jpg  \r\n",
      "  inflating: blue_jellyfish/aug-67-20.jpg  \r\n",
      "  inflating: blue_jellyfish/aug-68-21.jpg  \r\n",
      "  inflating: blue_jellyfish/aug-69-23.jpg  \r\n",
      "  inflating: blue_jellyfish/aug-7-11.jpg  \r\n",
      "  inflating: blue_jellyfish/aug-70-25.jpg  \r\n",
      "  inflating: blue_jellyfish/aug-71-26.jpg  \r\n",
      "  inflating: blue_jellyfish/aug-72-27.jpg  \r\n",
      "  inflating: blue_jellyfish/aug-73-28.jpg  \r\n",
      "  inflating: blue_jellyfish/aug-74-29.jpg  \r\n",
      "  inflating: blue_jellyfish/aug-75-31.jpg  \r\n",
      "  inflating: blue_jellyfish/aug-76-32.jpg  \r\n",
      "  inflating: blue_jellyfish/aug-77-34.jpg  \r\n",
      "  inflating: blue_jellyfish/aug-78-36.jpg  \r\n",
      "  inflating: blue_jellyfish/aug-79-37.jpg  \r\n",
      "  inflating: blue_jellyfish/aug-8-13.jpg  \r\n",
      "  inflating: blue_jellyfish/aug-80-38.jpg  \r\n",
      "  inflating: blue_jellyfish/aug-81-39.jpg  \r\n",
      "  inflating: blue_jellyfish/aug-82-40.jpg  \r\n",
      "  inflating: blue_jellyfish/aug-83-41.jpg  \r\n",
      "  inflating: blue_jellyfish/aug-84-42.jpg  \r\n",
      "  inflating: blue_jellyfish/aug-85-43.jpg  \r\n",
      "  inflating: blue_jellyfish/aug-86-44.jpg  \r\n",
      "  inflating: blue_jellyfish/aug-87-45.jpg  \r\n",
      "  inflating: blue_jellyfish/aug-88-46.jpg  \r\n",
      "  inflating: blue_jellyfish/aug-89-49.jpg  \r\n",
      "  inflating: blue_jellyfish/aug-9-15.jpg  \r\n",
      "  inflating: blue_jellyfish/aug-90-50.jpg  \r\n",
      "  inflating: blue_jellyfish/aug-91-51.jpg  \r\n",
      "  inflating: blue_jellyfish/aug-92-52.jpg  \r\n",
      "  inflating: blue_jellyfish/aug-93-53.jpg  \r\n",
      "  inflating: blue_jellyfish/aug-94-54.jpg  \r\n",
      "  inflating: compass_jellyfish/01.JPG  \r\n",
      "  inflating: compass_jellyfish/02.jpg  \r\n",
      "  inflating: compass_jellyfish/03.jpg  \r\n",
      "  inflating: compass_jellyfish/05.jpg  \r\n",
      "  inflating: compass_jellyfish/06.jpg  \r\n",
      "  inflating: compass_jellyfish/07.jpg  \r\n",
      "  inflating: compass_jellyfish/08.jpg  \r\n",
      "  inflating: compass_jellyfish/09.jpg  \r\n",
      "  inflating: compass_jellyfish/10.jpg  \r\n",
      "  inflating: compass_jellyfish/12.jpg  \r\n",
      "  inflating: compass_jellyfish/13.jpg  \r\n",
      "  inflating: compass_jellyfish/14.jpg  \r\n",
      "  inflating: compass_jellyfish/15.jpg  \r\n",
      "  inflating: compass_jellyfish/16.jpg  \r\n",
      "  inflating: compass_jellyfish/17.jpg  \r\n",
      "  inflating: compass_jellyfish/18.jpg  \r\n",
      "  inflating: compass_jellyfish/19.jpg  \r\n",
      "  inflating: compass_jellyfish/21.jpg  \r\n",
      "  inflating: compass_jellyfish/22.JPG  \r\n",
      "  inflating: compass_jellyfish/23.jpg  \r\n",
      "  inflating: compass_jellyfish/24.jpg  \r\n",
      "  inflating: compass_jellyfish/25.jpg  \r\n"
     ]
    },
    {
     "name": "stdout",
     "output_type": "stream",
     "text": [
      "  inflating: compass_jellyfish/27.jpg  \r\n",
      "  inflating: compass_jellyfish/29.jpg  \r\n",
      "  inflating: compass_jellyfish/30.jpg  \r\n",
      "  inflating: compass_jellyfish/31.jpg  \r\n",
      "  inflating: compass_jellyfish/32.jpg  \r\n",
      "  inflating: compass_jellyfish/33.jpg  \r\n",
      "  inflating: compass_jellyfish/34.jpg  \r\n",
      "  inflating: compass_jellyfish/35.jpg  \r\n",
      "  inflating: compass_jellyfish/36.jpg  \r\n",
      "  inflating: compass_jellyfish/38.jpg  \r\n",
      "  inflating: compass_jellyfish/39.jpg  \r\n",
      "  inflating: compass_jellyfish/42.jpg  \r\n",
      "  inflating: compass_jellyfish/43.jpg  \r\n",
      "  inflating: compass_jellyfish/44.jpg  \r\n",
      "  inflating: compass_jellyfish/45.jpg  \r\n",
      "  inflating: compass_jellyfish/47.jpg  \r\n",
      "  inflating: compass_jellyfish/49.jpg  \r\n",
      "  inflating: compass_jellyfish/50.jpg  \r\n",
      "  inflating: compass_jellyfish/51.jpg  \r\n",
      "  inflating: compass_jellyfish/53.jpg  \r\n",
      "  inflating: compass_jellyfish/55.jpg  \r\n",
      "  inflating: compass_jellyfish/57.jpg  \r\n",
      "  inflating: compass_jellyfish/58.jpg  \r\n",
      "  inflating: compass_jellyfish/59.jpg  \r\n",
      "  inflating: compass_jellyfish/60.jpg  \r\n",
      "  inflating: compass_jellyfish/61.jpg  \r\n",
      "  inflating: compass_jellyfish/62.jpg  \r\n",
      "  inflating: compass_jellyfish/63.jpg  \r\n",
      "  inflating: compass_jellyfish/64.jpg  \r\n",
      "  inflating: compass_jellyfish/65.jpg  \r\n",
      "  inflating: compass_jellyfish/66.jpg  \r\n",
      "  inflating: compass_jellyfish/68.jpeg  \r\n",
      "  inflating: compass_jellyfish/70.jpeg  \r\n",
      "  inflating: compass_jellyfish/71.jpeg  \r\n",
      "  inflating: compass_jellyfish/72.jpg  \r\n",
      "  inflating: compass_jellyfish/aug-0-01.JPG  \r\n",
      "  inflating: compass_jellyfish/aug-1-02.jpg  \r\n",
      "  inflating: compass_jellyfish/aug-10-13.jpg  \r\n",
      "  inflating: compass_jellyfish/aug-11-14.jpg  \r\n",
      "  inflating: compass_jellyfish/aug-12-15.jpg  \r\n",
      "  inflating: compass_jellyfish/aug-13-16.jpg  \r\n",
      "  inflating: compass_jellyfish/aug-14-17.jpg  \r\n",
      "  inflating: compass_jellyfish/aug-15-18.jpg  \r\n",
      "  inflating: compass_jellyfish/aug-16-19.jpg  \r\n",
      "  inflating: compass_jellyfish/aug-17-21.jpg  \r\n",
      "  inflating: compass_jellyfish/aug-18-22.JPG  \r\n",
      "  inflating: compass_jellyfish/aug-19-23.jpg  \r\n",
      "  inflating: compass_jellyfish/aug-2-03.jpg  \r\n",
      "  inflating: compass_jellyfish/aug-20-24.jpg  \r\n",
      "  inflating: compass_jellyfish/aug-21-25.jpg  \r\n",
      "  inflating: compass_jellyfish/aug-22-27.jpg  \r\n",
      "  inflating: compass_jellyfish/aug-23-29.jpg  \r\n",
      "  inflating: compass_jellyfish/aug-24-30.jpg  \r\n",
      "  inflating: compass_jellyfish/aug-25-31.jpg  \r\n",
      "  inflating: compass_jellyfish/aug-26-32.jpg  \r\n",
      "  inflating: compass_jellyfish/aug-27-33.jpg  \r\n",
      "  inflating: compass_jellyfish/aug-28-34.jpg  \r\n",
      "  inflating: compass_jellyfish/aug-29-35.jpg  \r\n",
      "  inflating: compass_jellyfish/aug-3-05.jpg  \r\n",
      "  inflating: compass_jellyfish/aug-30-36.jpg  \r\n",
      "  inflating: compass_jellyfish/aug-31-38.jpg  \r\n",
      "  inflating: compass_jellyfish/aug-32-39.jpg  \r\n",
      "  inflating: compass_jellyfish/aug-33-42.jpg  \r\n",
      "  inflating: compass_jellyfish/aug-34-43.jpg  \r\n",
      "  inflating: compass_jellyfish/aug-35-44.jpg  \r\n",
      "  inflating: compass_jellyfish/aug-36-45.jpg  \r\n",
      "  inflating: compass_jellyfish/aug-37-47.jpg  \r\n",
      "  inflating: compass_jellyfish/aug-38-49.jpg  \r\n",
      "  inflating: compass_jellyfish/aug-39-50.jpg  \r\n",
      "  inflating: compass_jellyfish/aug-4-06.jpg  \r\n",
      "  inflating: compass_jellyfish/aug-40-51.jpg  \r\n",
      "  inflating: compass_jellyfish/aug-41-53.jpg  \r\n",
      "  inflating: compass_jellyfish/aug-42-55.jpg  \r\n",
      "  inflating: compass_jellyfish/aug-43-57.jpg  \r\n",
      "  inflating: compass_jellyfish/aug-44-58.jpg  \r\n",
      "  inflating: compass_jellyfish/aug-45-59.jpg  \r\n",
      "  inflating: compass_jellyfish/aug-46-60.jpg  \r\n",
      "  inflating: compass_jellyfish/aug-47-61.jpg  \r\n",
      "  inflating: compass_jellyfish/aug-48-62.jpg  \r\n",
      "  inflating: compass_jellyfish/aug-49-63.jpg  \r\n",
      "  inflating: compass_jellyfish/aug-5-07.jpg  \r\n",
      "  inflating: compass_jellyfish/aug-50-64.jpg  \r\n",
      "  inflating: compass_jellyfish/aug-51-65.jpg  \r\n",
      "  inflating: compass_jellyfish/aug-52-66.jpg  \r\n",
      "  inflating: compass_jellyfish/aug-53-68.jpeg  \r\n",
      "  inflating: compass_jellyfish/aug-54-70.jpeg  \r\n",
      "  inflating: compass_jellyfish/aug-55-71.jpeg  \r\n",
      "  inflating: compass_jellyfish/aug-56-72.jpg  \r\n",
      "  inflating: compass_jellyfish/aug-57-01.JPG  \r\n",
      "  inflating: compass_jellyfish/aug-58-02.jpg  \r\n",
      "  inflating: compass_jellyfish/aug-59-03.jpg  \r\n",
      "  inflating: compass_jellyfish/aug-6-08.jpg  \r\n",
      "  inflating: compass_jellyfish/aug-60-05.jpg  \r\n",
      "  inflating: compass_jellyfish/aug-61-06.jpg  \r\n",
      "  inflating: compass_jellyfish/aug-62-07.jpg  \r\n",
      "  inflating: compass_jellyfish/aug-63-08.jpg  \r\n",
      "  inflating: compass_jellyfish/aug-64-09.jpg  \r\n",
      "  inflating: compass_jellyfish/aug-65-10.jpg  \r\n",
      "  inflating: compass_jellyfish/aug-66-12.jpg  \r\n",
      "  inflating: compass_jellyfish/aug-67-13.jpg  \r\n",
      "  inflating: compass_jellyfish/aug-68-14.jpg  \r\n",
      "  inflating: compass_jellyfish/aug-69-15.jpg  \r\n",
      "  inflating: compass_jellyfish/aug-7-09.jpg  \r\n",
      "  inflating: compass_jellyfish/aug-70-16.jpg  \r\n",
      "  inflating: compass_jellyfish/aug-71-17.jpg  \r\n",
      "  inflating: compass_jellyfish/aug-72-18.jpg  \r\n",
      "  inflating: compass_jellyfish/aug-73-19.jpg  \r\n",
      "  inflating: compass_jellyfish/aug-74-21.jpg  \r\n",
      "  inflating: compass_jellyfish/aug-75-22.JPG  \r\n",
      "  inflating: compass_jellyfish/aug-76-23.jpg  \r\n",
      "  inflating: compass_jellyfish/aug-77-24.jpg  \r\n",
      "  inflating: compass_jellyfish/aug-78-25.jpg  \r\n",
      "  inflating: compass_jellyfish/aug-79-27.jpg  \r\n",
      "  inflating: compass_jellyfish/aug-8-10.jpg  \r\n",
      "  inflating: compass_jellyfish/aug-80-29.jpg  \r\n",
      "  inflating: compass_jellyfish/aug-81-30.jpg  \r\n",
      "  inflating: compass_jellyfish/aug-82-31.jpg  \r\n",
      "  inflating: compass_jellyfish/aug-83-32.jpg  \r\n",
      "  inflating: compass_jellyfish/aug-84-33.jpg  \r\n",
      "  inflating: compass_jellyfish/aug-85-34.jpg  \r\n",
      "  inflating: compass_jellyfish/aug-86-35.jpg  \r\n",
      "  inflating: compass_jellyfish/aug-87-36.jpg  \r\n",
      "  inflating: compass_jellyfish/aug-88-38.jpg  \r\n",
      "  inflating: compass_jellyfish/aug-89-39.jpg  \r\n",
      "  inflating: compass_jellyfish/aug-9-12.jpg  \r\n",
      "  inflating: compass_jellyfish/aug-90-42.jpg  \r\n",
      "  inflating: compass_jellyfish/aug-91-43.jpg  \r\n",
      "  inflating: compass_jellyfish/aug-92-44.jpg  \r\n",
      "  inflating: lions_mane_jellyfish/01.jpg  \r\n",
      "  inflating: lions_mane_jellyfish/02.jpg  \r\n",
      "  inflating: lions_mane_jellyfish/03.jpg  \r\n",
      "  inflating: lions_mane_jellyfish/04.jpg  \r\n",
      "  inflating: lions_mane_jellyfish/05.jpg  \r\n",
      "  inflating: lions_mane_jellyfish/06.jpg  \r\n",
      "  inflating: lions_mane_jellyfish/07.jpg  \r\n",
      "  inflating: lions_mane_jellyfish/08.jpg  \r\n",
      "  inflating: lions_mane_jellyfish/09.jpg  \r\n",
      "  inflating: lions_mane_jellyfish/10.jpg  \r\n",
      "  inflating: lions_mane_jellyfish/11.jpg  \r\n",
      "  inflating: lions_mane_jellyfish/15.jpg  \r\n",
      "  inflating: lions_mane_jellyfish/16.jpg  \r\n",
      "  inflating: lions_mane_jellyfish/17.jpg  \r\n",
      "  inflating: lions_mane_jellyfish/18.jpg  \r\n",
      "  inflating: lions_mane_jellyfish/20.jpg  \r\n",
      "  inflating: lions_mane_jellyfish/21.jpg  \r\n",
      "  inflating: lions_mane_jellyfish/22.jpg  \r\n",
      "  inflating: lions_mane_jellyfish/23.jpg  \r\n",
      "  inflating: lions_mane_jellyfish/24.jpg  \r\n",
      "  inflating: lions_mane_jellyfish/25.jpg  \r\n",
      "  inflating: lions_mane_jellyfish/26.JPG  \r\n",
      "  inflating: lions_mane_jellyfish/29.jpg  \r\n",
      "  inflating: lions_mane_jellyfish/30.jpg  \r\n",
      "  inflating: lions_mane_jellyfish/31.jpg  \r\n",
      "  inflating: lions_mane_jellyfish/32.jpg  \r\n",
      "  inflating: lions_mane_jellyfish/34.jpg  \r\n",
      "  inflating: lions_mane_jellyfish/35.jpg  \r\n",
      "  inflating: lions_mane_jellyfish/36.jpg  \r\n",
      "  inflating: lions_mane_jellyfish/37.jpg  \r\n",
      "  inflating: lions_mane_jellyfish/38.jpg  \r\n",
      "  inflating: lions_mane_jellyfish/39.jpg  \r\n",
      "  inflating: lions_mane_jellyfish/40.jpg  \r\n",
      "  inflating: lions_mane_jellyfish/41.jpg  \r\n",
      "  inflating: lions_mane_jellyfish/43.jpg  \r\n",
      "  inflating: lions_mane_jellyfish/44.jpg  \r\n",
      "  inflating: lions_mane_jellyfish/45.jpg  \r\n",
      "  inflating: lions_mane_jellyfish/47.jpg  \r\n",
      "  inflating: lions_mane_jellyfish/48.jpg  \r\n",
      "  inflating: lions_mane_jellyfish/49.jpg  \r\n",
      "  inflating: lions_mane_jellyfish/50.jpg  \r\n",
      "  inflating: lions_mane_jellyfish/52.jpg  \r\n",
      "  inflating: lions_mane_jellyfish/54.jpg  \r\n",
      "  inflating: lions_mane_jellyfish/55.jpg  \r\n",
      "  inflating: lions_mane_jellyfish/56.jpg  \r\n",
      "  inflating: lions_mane_jellyfish/57.jpg  \r\n",
      "  inflating: lions_mane_jellyfish/59.jpg  \r\n",
      "  inflating: lions_mane_jellyfish/60.jpg  \r\n",
      "  inflating: lions_mane_jellyfish/61.jpg  \r\n",
      "  inflating: lions_mane_jellyfish/62.jpg  \r\n",
      "  inflating: lions_mane_jellyfish/65.jpg  \r\n",
      "  inflating: lions_mane_jellyfish/68.jpg  \r\n",
      "  inflating: lions_mane_jellyfish/69.jpg  \r\n",
      "  inflating: lions_mane_jellyfish/70.jpg  \r\n",
      "  inflating: lions_mane_jellyfish/71.jpg  \r\n",
      "  inflating: lions_mane_jellyfish/72.jpg  \r\n",
      "  inflating: lions_mane_jellyfish/73.jpeg  \r\n",
      "  inflating: lions_mane_jellyfish/74.png  \r\n",
      "  inflating: lions_mane_jellyfish/75.jpeg  \r\n",
      "  inflating: lions_mane_jellyfish/76.jpg  \r\n",
      "  inflating: lions_mane_jellyfish/77.jpg  \r\n",
      "  inflating: lions_mane_jellyfish/aug-0-01.jpg  \r\n",
      "  inflating: lions_mane_jellyfish/aug-1-02.jpg  \r\n",
      "  inflating: lions_mane_jellyfish/aug-10-11.jpg  \r\n",
      "  inflating: lions_mane_jellyfish/aug-11-15.jpg  \r\n",
      "  inflating: lions_mane_jellyfish/aug-12-16.jpg  \r\n",
      "  inflating: lions_mane_jellyfish/aug-13-17.jpg  \r\n",
      "  inflating: lions_mane_jellyfish/aug-14-18.jpg  \r\n",
      "  inflating: lions_mane_jellyfish/aug-15-20.jpg  \r\n",
      "  inflating: lions_mane_jellyfish/aug-16-21.jpg  \r\n",
      "  inflating: lions_mane_jellyfish/aug-17-22.jpg  \r\n",
      "  inflating: lions_mane_jellyfish/aug-18-23.jpg  \r\n",
      "  inflating: lions_mane_jellyfish/aug-19-24.jpg  \r\n",
      "  inflating: lions_mane_jellyfish/aug-2-03.jpg  \r\n",
      "  inflating: lions_mane_jellyfish/aug-20-25.jpg  \r\n",
      "  inflating: lions_mane_jellyfish/aug-21-26.JPG  \r\n",
      "  inflating: lions_mane_jellyfish/aug-22-29.jpg  \r\n",
      "  inflating: lions_mane_jellyfish/aug-23-30.jpg  \r\n",
      "  inflating: lions_mane_jellyfish/aug-24-31.jpg  \r\n",
      "  inflating: lions_mane_jellyfish/aug-25-32.jpg  \r\n",
      "  inflating: lions_mane_jellyfish/aug-26-34.jpg  \r\n",
      "  inflating: lions_mane_jellyfish/aug-27-35.jpg  \r\n",
      "  inflating: lions_mane_jellyfish/aug-28-36.jpg  \r\n",
      "  inflating: lions_mane_jellyfish/aug-29-37.jpg  \r\n",
      "  inflating: lions_mane_jellyfish/aug-3-04.jpg  \r\n",
      "  inflating: lions_mane_jellyfish/aug-30-38.jpg  \r\n",
      "  inflating: lions_mane_jellyfish/aug-31-39.jpg  \r\n",
      "  inflating: lions_mane_jellyfish/aug-32-40.jpg  \r\n",
      "  inflating: lions_mane_jellyfish/aug-33-41.jpg  \r\n",
      "  inflating: lions_mane_jellyfish/aug-34-43.jpg  \r\n",
      "  inflating: lions_mane_jellyfish/aug-35-44.jpg  \r\n",
      "  inflating: lions_mane_jellyfish/aug-36-45.jpg  \r\n",
      "  inflating: lions_mane_jellyfish/aug-37-47.jpg  \r\n"
     ]
    },
    {
     "name": "stdout",
     "output_type": "stream",
     "text": [
      "  inflating: lions_mane_jellyfish/aug-38-48.jpg  \r\n",
      "  inflating: lions_mane_jellyfish/aug-39-49.jpg  \r\n",
      "  inflating: lions_mane_jellyfish/aug-4-05.jpg  \r\n",
      "  inflating: lions_mane_jellyfish/aug-40-50.jpg  \r\n",
      "  inflating: lions_mane_jellyfish/aug-41-52.jpg  \r\n",
      "  inflating: lions_mane_jellyfish/aug-42-54.jpg  \r\n",
      "  inflating: lions_mane_jellyfish/aug-43-55.jpg  \r\n",
      "  inflating: lions_mane_jellyfish/aug-44-56.jpg  \r\n",
      "  inflating: lions_mane_jellyfish/aug-45-57.jpg  \r\n",
      "  inflating: lions_mane_jellyfish/aug-46-59.jpg  \r\n",
      "  inflating: lions_mane_jellyfish/aug-47-60.jpg  \r\n",
      "  inflating: lions_mane_jellyfish/aug-48-61.jpg  \r\n",
      "  inflating: lions_mane_jellyfish/aug-49-62.jpg  \r\n",
      "  inflating: lions_mane_jellyfish/aug-5-06.jpg  \r\n",
      "  inflating: lions_mane_jellyfish/aug-50-65.jpg  \r\n",
      "  inflating: lions_mane_jellyfish/aug-51-68.jpg  \r\n",
      "  inflating: lions_mane_jellyfish/aug-52-69.jpg  \r\n",
      "  inflating: lions_mane_jellyfish/aug-53-70.jpg  \r\n",
      "  inflating: lions_mane_jellyfish/aug-54-71.jpg  \r\n",
      "  inflating: lions_mane_jellyfish/aug-55-72.jpg  \r\n",
      "  inflating: lions_mane_jellyfish/aug-56-73.jpeg  \r\n",
      "  inflating: lions_mane_jellyfish/aug-57-74.png  \r\n",
      "  inflating: lions_mane_jellyfish/aug-58-75.jpeg  \r\n",
      "  inflating: lions_mane_jellyfish/aug-59-76.jpg  \r\n",
      "  inflating: lions_mane_jellyfish/aug-6-07.jpg  \r\n",
      "  inflating: lions_mane_jellyfish/aug-60-77.jpg  \r\n",
      "  inflating: lions_mane_jellyfish/aug-61-01.jpg  \r\n",
      "  inflating: lions_mane_jellyfish/aug-62-02.jpg  \r\n",
      "  inflating: lions_mane_jellyfish/aug-63-03.jpg  \r\n",
      "  inflating: lions_mane_jellyfish/aug-64-04.jpg  \r\n",
      "  inflating: lions_mane_jellyfish/aug-65-05.jpg  \r\n",
      "  inflating: lions_mane_jellyfish/aug-66-06.jpg  \r\n",
      "  inflating: lions_mane_jellyfish/aug-67-07.jpg  \r\n",
      "  inflating: lions_mane_jellyfish/aug-68-08.jpg  \r\n",
      "  inflating: lions_mane_jellyfish/aug-69-09.jpg  \r\n",
      "  inflating: lions_mane_jellyfish/aug-7-08.jpg  \r\n",
      "  inflating: lions_mane_jellyfish/aug-70-10.jpg  \r\n",
      "  inflating: lions_mane_jellyfish/aug-71-11.jpg  \r\n",
      "  inflating: lions_mane_jellyfish/aug-72-15.jpg  \r\n",
      "  inflating: lions_mane_jellyfish/aug-73-16.jpg  \r\n",
      "  inflating: lions_mane_jellyfish/aug-74-17.jpg  \r\n",
      "  inflating: lions_mane_jellyfish/aug-75-18.jpg  \r\n",
      "  inflating: lions_mane_jellyfish/aug-76-20.jpg  \r\n",
      "  inflating: lions_mane_jellyfish/aug-77-21.jpg  \r\n",
      "  inflating: lions_mane_jellyfish/aug-78-22.jpg  \r\n",
      "  inflating: lions_mane_jellyfish/aug-79-23.jpg  \r\n",
      "  inflating: lions_mane_jellyfish/aug-8-09.jpg  \r\n",
      "  inflating: lions_mane_jellyfish/aug-80-24.jpg  \r\n",
      "  inflating: lions_mane_jellyfish/aug-81-25.jpg  \r\n",
      "  inflating: lions_mane_jellyfish/aug-82-26.JPG  \r\n",
      "  inflating: lions_mane_jellyfish/aug-83-29.jpg  \r\n",
      "  inflating: lions_mane_jellyfish/aug-84-30.jpg  \r\n",
      "  inflating: lions_mane_jellyfish/aug-85-31.jpg  \r\n",
      "  inflating: lions_mane_jellyfish/aug-86-32.jpg  \r\n",
      "  inflating: lions_mane_jellyfish/aug-87-34.jpg  \r\n",
      "  inflating: lions_mane_jellyfish/aug-88-35.jpg  \r\n",
      "  inflating: lions_mane_jellyfish/aug-9-10.jpg  \r\n",
      "  inflating: mauve_stinger_jellyfish/01.jpg  \r\n",
      "  inflating: mauve_stinger_jellyfish/02.jpg  \r\n",
      "  inflating: mauve_stinger_jellyfish/03.jpg  \r\n",
      "  inflating: mauve_stinger_jellyfish/04.jpg  \r\n",
      "  inflating: mauve_stinger_jellyfish/05.jpg  \r\n",
      "  inflating: mauve_stinger_jellyfish/06.jpg  \r\n",
      "  inflating: mauve_stinger_jellyfish/08.jpg  \r\n",
      "  inflating: mauve_stinger_jellyfish/09.jpg  \r\n",
      "  inflating: mauve_stinger_jellyfish/11.jpg  \r\n",
      "  inflating: mauve_stinger_jellyfish/12.jpg  \r\n",
      "  inflating: mauve_stinger_jellyfish/13.jpg  \r\n",
      "  inflating: mauve_stinger_jellyfish/15.jpg  \r\n",
      "  inflating: mauve_stinger_jellyfish/16.jpg  \r\n",
      "  inflating: mauve_stinger_jellyfish/17.jpg  \r\n",
      "  inflating: mauve_stinger_jellyfish/18.jpg  \r\n",
      "  inflating: mauve_stinger_jellyfish/20.jpg  \r\n",
      "  inflating: mauve_stinger_jellyfish/21.jpg  \r\n",
      "  inflating: mauve_stinger_jellyfish/22.jpg  \r\n",
      "  inflating: mauve_stinger_jellyfish/23.jpg  \r\n",
      "  inflating: mauve_stinger_jellyfish/24.jpg  \r\n",
      "  inflating: mauve_stinger_jellyfish/25.jpg  \r\n",
      "  inflating: mauve_stinger_jellyfish/28.jpg  \r\n",
      "  inflating: mauve_stinger_jellyfish/29.jpg  \r\n",
      "  inflating: mauve_stinger_jellyfish/30.jpg  \r\n",
      "  inflating: mauve_stinger_jellyfish/31.jpg  \r\n",
      "  inflating: mauve_stinger_jellyfish/32.jpg  \r\n",
      "  inflating: mauve_stinger_jellyfish/33.jpg  \r\n",
      "  inflating: mauve_stinger_jellyfish/35.JPG  \r\n",
      "  inflating: mauve_stinger_jellyfish/36.jpg  \r\n",
      "  inflating: mauve_stinger_jellyfish/37.jpg  \r\n",
      "  inflating: mauve_stinger_jellyfish/39.jpg  \r\n",
      "  inflating: mauve_stinger_jellyfish/40.jpg  \r\n",
      "  inflating: mauve_stinger_jellyfish/41.jpg  \r\n",
      "  inflating: mauve_stinger_jellyfish/42.jpg  \r\n",
      "  inflating: mauve_stinger_jellyfish/43.jpg  \r\n",
      "  inflating: mauve_stinger_jellyfish/44.jpg  \r\n",
      "  inflating: mauve_stinger_jellyfish/45.jpg  \r\n",
      "  inflating: mauve_stinger_jellyfish/46.jpg  \r\n",
      "  inflating: mauve_stinger_jellyfish/47.jpg  \r\n",
      "  inflating: mauve_stinger_jellyfish/49.jpg  \r\n",
      "  inflating: mauve_stinger_jellyfish/50.jpg  \r\n",
      "  inflating: mauve_stinger_jellyfish/51.jpg  \r\n",
      "  inflating: mauve_stinger_jellyfish/52.jpg  \r\n",
      "  inflating: mauve_stinger_jellyfish/53.jpg  \r\n",
      "  inflating: mauve_stinger_jellyfish/54.jpg  \r\n",
      "  inflating: mauve_stinger_jellyfish/55.jpg  \r\n",
      "  inflating: mauve_stinger_jellyfish/56.JPG  \r\n",
      "  inflating: mauve_stinger_jellyfish/57.jpg  \r\n",
      "  inflating: mauve_stinger_jellyfish/58.jpg  \r\n",
      "  inflating: mauve_stinger_jellyfish/59.jpg  \r\n",
      "  inflating: mauve_stinger_jellyfish/62.jpg  \r\n",
      "  inflating: mauve_stinger_jellyfish/63.jpg  \r\n",
      "  inflating: mauve_stinger_jellyfish/64.jpg  \r\n",
      "  inflating: mauve_stinger_jellyfish/65.jpg  \r\n",
      "  inflating: mauve_stinger_jellyfish/66.JPG  \r\n",
      "  inflating: mauve_stinger_jellyfish/68.jpg  \r\n",
      "  inflating: mauve_stinger_jellyfish/71.jpg  \r\n",
      "  inflating: mauve_stinger_jellyfish/72.jpg  \r\n",
      "  inflating: mauve_stinger_jellyfish/aug-0-01.jpg  \r\n",
      "  inflating: mauve_stinger_jellyfish/aug-1-02.jpg  \r\n",
      "  inflating: mauve_stinger_jellyfish/aug-10-13.jpg  \r\n",
      "  inflating: mauve_stinger_jellyfish/aug-11-15.jpg  \r\n",
      "  inflating: mauve_stinger_jellyfish/aug-12-16.jpg  \r\n",
      "  inflating: mauve_stinger_jellyfish/aug-13-17.jpg  \r\n",
      "  inflating: mauve_stinger_jellyfish/aug-14-18.jpg  \r\n",
      "  inflating: mauve_stinger_jellyfish/aug-15-20.jpg  \r\n",
      "  inflating: mauve_stinger_jellyfish/aug-16-21.jpg  \r\n",
      "  inflating: mauve_stinger_jellyfish/aug-17-22.jpg  \r\n",
      "  inflating: mauve_stinger_jellyfish/aug-18-23.jpg  \r\n",
      "  inflating: mauve_stinger_jellyfish/aug-19-24.jpg  \r\n",
      "  inflating: mauve_stinger_jellyfish/aug-2-03.jpg  \r\n",
      "  inflating: mauve_stinger_jellyfish/aug-20-25.jpg  \r\n",
      "  inflating: mauve_stinger_jellyfish/aug-21-28.jpg  \r\n",
      "  inflating: mauve_stinger_jellyfish/aug-22-29.jpg  \r\n",
      "  inflating: mauve_stinger_jellyfish/aug-23-30.jpg  \r\n",
      "  inflating: mauve_stinger_jellyfish/aug-24-31.jpg  \r\n",
      "  inflating: mauve_stinger_jellyfish/aug-25-32.jpg  \r\n",
      "  inflating: mauve_stinger_jellyfish/aug-26-33.jpg  \r\n",
      "  inflating: mauve_stinger_jellyfish/aug-27-35.JPG  \r\n",
      "  inflating: mauve_stinger_jellyfish/aug-28-36.jpg  \r\n",
      "  inflating: mauve_stinger_jellyfish/aug-29-37.jpg  \r\n",
      "  inflating: mauve_stinger_jellyfish/aug-3-04.jpg  \r\n",
      "  inflating: mauve_stinger_jellyfish/aug-30-39.jpg  \r\n",
      "  inflating: mauve_stinger_jellyfish/aug-31-40.jpg  \r\n",
      "  inflating: mauve_stinger_jellyfish/aug-32-41.jpg  \r\n",
      "  inflating: mauve_stinger_jellyfish/aug-33-42.jpg  \r\n",
      "  inflating: mauve_stinger_jellyfish/aug-34-43.jpg  \r\n",
      "  inflating: mauve_stinger_jellyfish/aug-35-44.jpg  \r\n",
      "  inflating: mauve_stinger_jellyfish/aug-36-45.jpg  \r\n",
      "  inflating: mauve_stinger_jellyfish/aug-37-46.jpg  \r\n",
      "  inflating: mauve_stinger_jellyfish/aug-38-47.jpg  \r\n",
      "  inflating: mauve_stinger_jellyfish/aug-39-49.jpg  \r\n",
      "  inflating: mauve_stinger_jellyfish/aug-4-05.jpg  \r\n",
      "  inflating: mauve_stinger_jellyfish/aug-40-50.jpg  \r\n",
      "  inflating: mauve_stinger_jellyfish/aug-41-51.jpg  \r\n",
      "  inflating: mauve_stinger_jellyfish/aug-42-52.jpg  \r\n",
      "  inflating: mauve_stinger_jellyfish/aug-43-53.jpg  \r\n",
      "  inflating: mauve_stinger_jellyfish/aug-44-54.jpg  \r\n",
      "  inflating: mauve_stinger_jellyfish/aug-45-55.jpg  \r\n",
      "  inflating: mauve_stinger_jellyfish/aug-46-56.JPG  \r\n",
      "  inflating: mauve_stinger_jellyfish/aug-47-57.jpg  \r\n",
      "  inflating: mauve_stinger_jellyfish/aug-48-58.jpg  \r\n",
      "  inflating: mauve_stinger_jellyfish/aug-49-59.jpg  \r\n",
      "  inflating: mauve_stinger_jellyfish/aug-5-06.jpg  \r\n",
      "  inflating: mauve_stinger_jellyfish/aug-50-62.jpg  \r\n",
      "  inflating: mauve_stinger_jellyfish/aug-51-63.jpg  \r\n",
      "  inflating: mauve_stinger_jellyfish/aug-52-64.jpg  \r\n",
      "  inflating: mauve_stinger_jellyfish/aug-53-65.jpg  \r\n",
      "  inflating: mauve_stinger_jellyfish/aug-54-66.JPG  \r\n",
      "  inflating: mauve_stinger_jellyfish/aug-55-68.jpg  \r\n",
      "  inflating: mauve_stinger_jellyfish/aug-56-71.jpg  \r\n",
      "  inflating: mauve_stinger_jellyfish/aug-57-72.jpg  \r\n",
      "  inflating: mauve_stinger_jellyfish/aug-58-01.jpg  \r\n",
      "  inflating: mauve_stinger_jellyfish/aug-59-02.jpg  \r\n",
      "  inflating: mauve_stinger_jellyfish/aug-6-08.jpg  \r\n",
      "  inflating: mauve_stinger_jellyfish/aug-60-03.jpg  \r\n",
      "  inflating: mauve_stinger_jellyfish/aug-61-04.jpg  \r\n",
      "  inflating: mauve_stinger_jellyfish/aug-62-05.jpg  \r\n",
      "  inflating: mauve_stinger_jellyfish/aug-63-06.jpg  \r\n",
      "  inflating: mauve_stinger_jellyfish/aug-64-08.jpg  \r\n",
      "  inflating: mauve_stinger_jellyfish/aug-65-09.jpg  \r\n",
      "  inflating: mauve_stinger_jellyfish/aug-66-11.jpg  \r\n",
      "  inflating: mauve_stinger_jellyfish/aug-67-12.jpg  \r\n",
      "  inflating: mauve_stinger_jellyfish/aug-68-13.jpg  \r\n",
      "  inflating: mauve_stinger_jellyfish/aug-69-15.jpg  \r\n",
      "  inflating: mauve_stinger_jellyfish/aug-7-09.jpg  \r\n",
      "  inflating: mauve_stinger_jellyfish/aug-70-16.jpg  \r\n",
      "  inflating: mauve_stinger_jellyfish/aug-71-17.jpg  \r\n",
      "  inflating: mauve_stinger_jellyfish/aug-72-18.jpg  \r\n",
      "  inflating: mauve_stinger_jellyfish/aug-73-20.jpg  \r\n",
      "  inflating: mauve_stinger_jellyfish/aug-74-21.jpg  \r\n",
      "  inflating: mauve_stinger_jellyfish/aug-75-22.jpg  \r\n",
      "  inflating: mauve_stinger_jellyfish/aug-76-23.jpg  \r\n",
      "  inflating: mauve_stinger_jellyfish/aug-77-24.jpg  \r\n",
      "  inflating: mauve_stinger_jellyfish/aug-78-25.jpg  \r\n",
      "  inflating: mauve_stinger_jellyfish/aug-79-28.jpg  \r\n",
      "  inflating: mauve_stinger_jellyfish/aug-8-11.jpg  \r\n",
      "  inflating: mauve_stinger_jellyfish/aug-80-29.jpg  \r\n",
      "  inflating: mauve_stinger_jellyfish/aug-81-30.jpg  \r\n",
      "  inflating: mauve_stinger_jellyfish/aug-82-31.jpg  \r\n",
      "  inflating: mauve_stinger_jellyfish/aug-83-32.jpg  \r\n",
      "  inflating: mauve_stinger_jellyfish/aug-84-33.jpg  \r\n",
      "  inflating: mauve_stinger_jellyfish/aug-85-35.JPG  \r\n",
      "  inflating: mauve_stinger_jellyfish/aug-86-36.jpg  \r\n",
      "  inflating: mauve_stinger_jellyfish/aug-87-37.jpg  \r\n",
      "  inflating: mauve_stinger_jellyfish/aug-88-39.jpg  \r\n",
      "  inflating: mauve_stinger_jellyfish/aug-89-40.jpg  \r\n"
     ]
    },
    {
     "name": "stdout",
     "output_type": "stream",
     "text": [
      "  inflating: mauve_stinger_jellyfish/aug-9-12.jpg  \r\n",
      "  inflating: mauve_stinger_jellyfish/aug-90-41.jpg  \r\n",
      "  inflating: mauve_stinger_jellyfish/aug-91-42.jpg  \r\n"
     ]
    }
   ],
   "source": [
    "! mkdir ~/.kaggle\n",
    "! mv kaggle.json ~/.kaggle/kaggle.json\n",
    "! cd ~/aiffel/jellyfish\n",
    "! kaggle datasets download -d anshtanwar/jellyfish-types\n",
    "! unzip jellyfish-types.zip"
   ]
  },
  {
   "cell_type": "code",
   "execution_count": 4,
   "id": "2110c982",
   "metadata": {},
   "outputs": [
    {
     "name": "stdout",
     "output_type": "stream",
     "text": [
      "Collecting wandb==0.16.0\n",
      "  Downloading wandb-0.16.0-py3-none-any.whl (2.1 MB)\n",
      "     |████████████████████████████████| 2.1 MB 6.5 MB/s            \n",
      "\u001b[?25hRequirement already satisfied: psutil>=5.0.0 in /opt/conda/lib/python3.9/site-packages (from wandb==0.16.0) (5.8.0)\n",
      "Requirement already satisfied: typing-extensions in /opt/conda/lib/python3.9/site-packages (from wandb==0.16.0) (4.0.1)\n",
      "Collecting GitPython!=3.1.29,>=1.0.0\n",
      "  Downloading GitPython-3.1.40-py3-none-any.whl (190 kB)\n",
      "     |████████████████████████████████| 190 kB 78.4 MB/s            \n",
      "\u001b[?25hRequirement already satisfied: appdirs>=1.4.3 in /opt/conda/lib/python3.9/site-packages (from wandb==0.16.0) (1.4.4)\n",
      "Requirement already satisfied: protobuf!=4.21.0,<5,>=3.15.0 in /opt/conda/lib/python3.9/site-packages (from wandb==0.16.0) (3.19.1)\n",
      "Collecting docker-pycreds>=0.4.0\n",
      "  Downloading docker_pycreds-0.4.0-py2.py3-none-any.whl (9.0 kB)\n",
      "Requirement already satisfied: setuptools in /opt/conda/lib/python3.9/site-packages (from wandb==0.16.0) (59.4.0)\n",
      "Collecting sentry-sdk>=1.0.0\n",
      "  Downloading sentry_sdk-1.39.1-py2.py3-none-any.whl (254 kB)\n",
      "     |████████████████████████████████| 254 kB 65.6 MB/s            \n",
      "\u001b[?25hRequirement already satisfied: PyYAML in /opt/conda/lib/python3.9/site-packages (from wandb==0.16.0) (6.0)\n",
      "Collecting setproctitle\n",
      "  Downloading setproctitle-1.3.3-cp39-cp39-manylinux_2_5_x86_64.manylinux1_x86_64.manylinux_2_17_x86_64.manylinux2014_x86_64.whl (30 kB)\n",
      "Requirement already satisfied: Click!=8.0.0,>=7.1 in /opt/conda/lib/python3.9/site-packages (from wandb==0.16.0) (8.0.3)\n",
      "Requirement already satisfied: requests<3,>=2.0.0 in /opt/conda/lib/python3.9/site-packages (from wandb==0.16.0) (2.26.0)\n",
      "Requirement already satisfied: six>=1.4.0 in /opt/conda/lib/python3.9/site-packages (from docker-pycreds>=0.4.0->wandb==0.16.0) (1.16.0)\n",
      "Collecting gitdb<5,>=4.0.1\n",
      "  Downloading gitdb-4.0.11-py3-none-any.whl (62 kB)\n",
      "     |████████████████████████████████| 62 kB 1.8 MB/s             \n",
      "\u001b[?25hRequirement already satisfied: urllib3<1.27,>=1.21.1 in /opt/conda/lib/python3.9/site-packages (from requests<3,>=2.0.0->wandb==0.16.0) (1.26.7)\n",
      "Requirement already satisfied: certifi>=2017.4.17 in /opt/conda/lib/python3.9/site-packages (from requests<3,>=2.0.0->wandb==0.16.0) (2021.10.8)\n",
      "Requirement already satisfied: idna<4,>=2.5 in /opt/conda/lib/python3.9/site-packages (from requests<3,>=2.0.0->wandb==0.16.0) (2.10)\n",
      "Requirement already satisfied: charset-normalizer~=2.0.0 in /opt/conda/lib/python3.9/site-packages (from requests<3,>=2.0.0->wandb==0.16.0) (2.0.8)\n",
      "Collecting urllib3<1.27,>=1.21.1\n",
      "  Downloading urllib3-1.26.18-py2.py3-none-any.whl (143 kB)\n",
      "     |████████████████████████████████| 143 kB 82.0 MB/s            \n",
      "\u001b[?25hCollecting smmap<6,>=3.0.1\n",
      "  Downloading smmap-5.0.1-py3-none-any.whl (24 kB)\n",
      "Installing collected packages: smmap, urllib3, gitdb, setproctitle, sentry-sdk, GitPython, docker-pycreds, wandb\n",
      "  Attempting uninstall: urllib3\n",
      "    Found existing installation: urllib3 1.26.7\n",
      "    Uninstalling urllib3-1.26.7:\n",
      "      Successfully uninstalled urllib3-1.26.7\n",
      "Successfully installed GitPython-3.1.40 docker-pycreds-0.4.0 gitdb-4.0.11 sentry-sdk-1.39.1 setproctitle-1.3.3 smmap-5.0.1 urllib3-1.26.18 wandb-0.16.0\n",
      "\u001b[33mWARNING: Running pip as the 'root' user can result in broken permissions and conflicting behaviour with the system package manager. It is recommended to use a virtual environment instead: https://pip.pypa.io/warnings/venv\u001b[0m\n"
     ]
    }
   ],
   "source": [
    "! pip install wandb==0.16.0"
   ]
  },
  {
   "cell_type": "code",
   "execution_count": 5,
   "id": "d5afff28",
   "metadata": {},
   "outputs": [],
   "source": [
    "import pandas as pd\n",
    "import tensorflow as tf\n",
    "from tensorflow import keras\n",
    "from sklearn.model_selection import train_test_split\n",
    "import wandb\n",
    "from wandb.keras import WandbCallback\n",
    "from sklearn.preprocessing import LabelEncoder\n",
    "from PIL import Image \n",
    "import glob\n",
    "import os"
   ]
  },
  {
   "cell_type": "code",
   "execution_count": 6,
   "id": "97dda39c",
   "metadata": {},
   "outputs": [
    {
     "name": "stdout",
     "output_type": "stream",
     "text": [
      "Downloading data from https://storage.googleapis.com/tensorflow/tf-keras-datasets/mnist.npz\n",
      "11493376/11490434 [==============================] - 0s 0us/step\n",
      "11501568/11490434 [==============================] - 0s 0us/step\n"
     ]
    }
   ],
   "source": [
    "(X_train, y_train), (X_test, y_test) = keras.datasets.mnist.load_data()\n",
    "X_train, X_test = X_train / 255.0, X_test / 255.0\n",
    "X_train = X_train.reshape( -1, 28, 28, 1)\n",
    "X_test = X_test.reshape( -1, 28, 28, 1)\n",
    "X_val, X_test, y_val, y_test = train_test_split(X_test, y_test, test_size = 0.5)\n",
    "\n",
    "# 시각화를 위해 sample 데이터를 준비합니다.\n",
    "X_sample = X_test[:50]\n",
    "y_sample = y_test[:50]\n",
    "\n",
    "CLASS_NAMES = [0, 1, 2, 3, 4, 5, 6, 7, 8, 9]"
   ]
  },
  {
   "cell_type": "code",
   "execution_count": 7,
   "id": "6e63dc89",
   "metadata": {},
   "outputs": [
    {
     "name": "stderr",
     "output_type": "stream",
     "text": [
      "\u001b[34m\u001b[1mwandb\u001b[0m: Currently logged in as: \u001b[33mpurinyun\u001b[0m. Use \u001b[1m`wandb login --relogin`\u001b[0m to force relogin\n",
      "\u001b[34m\u001b[1mwandb\u001b[0m: \u001b[33mWARNING\u001b[0m If you're specifying your api key in code, ensure this code is not shared publicly.\n",
      "\u001b[34m\u001b[1mwandb\u001b[0m: \u001b[33mWARNING\u001b[0m Consider setting the WANDB_API_KEY environment variable, or running `wandb login` from the command line.\n",
      "\u001b[34m\u001b[1mwandb\u001b[0m: Appending key for api.wandb.ai to your netrc file: /aiffel/.netrc\n"
     ]
    },
    {
     "data": {
      "text/plain": [
       "True"
      ]
     },
     "execution_count": 7,
     "metadata": {},
     "output_type": "execute_result"
    }
   ],
   "source": [
    "wandb.login(key = \"a4252e9a89474e83375b11751629d89f618e248d\" )"
   ]
  },
  {
   "cell_type": "code",
   "execution_count": 8,
   "id": "5e24ce6d",
   "metadata": {},
   "outputs": [],
   "source": [
    "sweep_config = {\n",
    "    \"name\": \"sweep_test_core\",\n",
    "    \"metric\": {\"name\": \"val_loss\", \"goal\": \"minimize\"},\n",
    "    \"method\": \"random\",\n",
    "    \"parameters\": {\n",
    "        \"learning_rate\" : {\n",
    "            \"min\" : 0.001,\n",
    "            \"max\" : 0.1\n",
    "            },\n",
    "        \"epoch\" : {\n",
    "            \"distribution\" : \"int_uniform\",\n",
    "            \"min\" : 5,\n",
    "            \"max\" : 10\n",
    "            }\n",
    "                    \n",
    "        }\n",
    "    }"
   ]
  },
  {
   "cell_type": "markdown",
   "id": "89378b5e",
   "metadata": {},
   "source": [
    "train 함수에는 하나의 run이 완결성있게 들어가야합니다.\n",
    "이 예시에서는 run의 config를 Sweep의 config보다 넓은 범위를 설정하였습니다.\n",
    "이 경우 장점으로는 필요한 경우 Sweep의 config에 해당 파라미터만 추가함으로서 손쉽게 커스텀할 수 있다는 것과 config에 정보를 담아놓는 것 만으로도 자동으로 서버에 기록된다는 것입니다.\n",
    "\n",
    "아래 코드와 같이 init - 모델 학습 - 기록 구조를 담아놓습니다."
   ]
  },
  {
   "cell_type": "code",
   "execution_count": 9,
   "id": "f3f727a0",
   "metadata": {},
   "outputs": [],
   "source": [
    "def train():\n",
    "    default_config = {\n",
    "        \"input\" : (28,28,1),\n",
    "        \"filter\" : 16,\n",
    "        \"kernel\" : (3,3),\n",
    "        \"activation\" : \"relu\",\n",
    "        \"learning_rate\" : 0.005,\n",
    "        \"optimizer\" : \"adam\",\n",
    "        \"loss\" : \"sparse_categorical_crossentropy\",\n",
    "        \"metrics\" : [\"accuracy\"],\n",
    "        \"epoch\" : 5,\n",
    "        \"batch_size\" : 32\n",
    "    }\n",
    "\n",
    "    wandb.init(config = default_config)\n",
    "    config = wandb.config\n",
    "\n",
    "    # Model\n",
    "\n",
    "    model=keras.models.Sequential()\n",
    "    model.add(keras.layers.Conv2D(config.filter, config.kernel, activation=config.activation, input_shape=config.input))\n",
    "    model.add(keras.layers.MaxPool2D(2,2))\n",
    "    model.add(keras.layers.Conv2D(32, (3,3), activation='relu'))\n",
    "    model.add(keras.layers.MaxPooling2D((2,2)))\n",
    "    model.add(keras.layers.Flatten())\n",
    "    model.add(keras.layers.Dense(32, activation='relu'))\n",
    "    model.add(keras.layers.Dense(10, activation='softmax'))\n",
    "\n",
    "    # 머신 러닝 학습때 여러가지 optimzier를 사용할 경우나 learning rate를 조절할 경우에는 아래와 같은 형태의 코드를 응용합니다.\n",
    "\n",
    "    if config.optimizer == 'adam':\n",
    "        optimizer = keras.optimizers.Adam(learning_rate = config.learning_rate)\n",
    "    \n",
    "    model.compile(optimizer = optimizer,\n",
    "                  loss = config.loss,\n",
    "                  metrics = config.metrics)\n",
    "\n",
    "    # WandbCallback 함수는 후술합니다.\n",
    "    \n",
    "    model.fit(X_train, y_train,\n",
    "              epochs = config.epoch,\n",
    "              batch_size = config.batch_size,\n",
    "              validation_data = (X_val, y_val),\n",
    "              callbacks = [WandbCallback(validation_data = (X_sample, y_sample),\n",
    "                                        lables = CLASS_NAMES,\n",
    "                                        predictions = 10,\n",
    "                                        input_type = \"images\")])\n",
    "    \n",
    "    test_loss, test_accuracy = model.evaluate(X_test, y_test, verbose=2)\n",
    "    \n",
    "    # wandb.log 함수 안에 기록하고 싶은 정보를 담습니다.\n",
    "    \n",
    "    wandb.log({\"Test Accuracy Rate: \" : round(test_accuracy * 100, 2),\n",
    "               \"Test Error Rate: \" : round((1 - test_accuracy) * 100, 2)})"
   ]
  },
  {
   "cell_type": "markdown",
   "id": "88d58165",
   "metadata": {},
   "source": [
    "WandbCallback 함수는 사용법 자체는 일반적인 콜백함수와 동일하며 많은 내용들에 대해서 저장 및 시각화를 자동으로 진행합니다.\n",
    "주요 기능으로는 모델의 구조와 weight, gradient 등을 저장하는 것과 일부 태스크에 한하여 모델의 결과에 대한 시각화 등을 제공합니다."
   ]
  },
  {
   "cell_type": "code",
   "execution_count": 10,
   "id": "1be72afa",
   "metadata": {},
   "outputs": [
    {
     "name": "stdout",
     "output_type": "stream",
     "text": [
      "Create sweep with ID: tt22svqz\n",
      "Sweep URL: https://wandb.ai/purinyun/Jellyfish/sweeps/tt22svqz\n"
     ]
    },
    {
     "name": "stderr",
     "output_type": "stream",
     "text": [
      "\u001b[34m\u001b[1mwandb\u001b[0m: Agent Starting Run: 19ftf0sd with config:\n",
      "\u001b[34m\u001b[1mwandb\u001b[0m: \tepoch: 8\n",
      "\u001b[34m\u001b[1mwandb\u001b[0m: \tlearning_rate: 0.07482659219970199\n"
     ]
    },
    {
     "data": {
      "text/html": [
       "wandb version 0.16.2 is available!  To upgrade, please run:\n",
       " $ pip install wandb --upgrade"
      ],
      "text/plain": [
       "<IPython.core.display.HTML object>"
      ]
     },
     "metadata": {},
     "output_type": "display_data"
    },
    {
     "data": {
      "text/html": [
       "Tracking run with wandb version 0.16.0"
      ],
      "text/plain": [
       "<IPython.core.display.HTML object>"
      ]
     },
     "metadata": {},
     "output_type": "display_data"
    },
    {
     "data": {
      "text/html": [
       "Run data is saved locally in <code>/aiffel/aiffel/wandb/run-20240110_023254-19ftf0sd</code>"
      ],
      "text/plain": [
       "<IPython.core.display.HTML object>"
      ]
     },
     "metadata": {},
     "output_type": "display_data"
    },
    {
     "data": {
      "text/html": [
       "Syncing run <strong><a href='https://wandb.ai/purinyun/Jellyfish/runs/19ftf0sd' target=\"_blank\">vocal-sweep-1</a></strong> to <a href='https://wandb.ai/purinyun/Jellyfish' target=\"_blank\">Weights & Biases</a> (<a href='https://wandb.me/run' target=\"_blank\">docs</a>)<br/>Sweep page: <a href='https://wandb.ai/purinyun/Jellyfish/sweeps/tt22svqz' target=\"_blank\">https://wandb.ai/purinyun/Jellyfish/sweeps/tt22svqz</a>"
      ],
      "text/plain": [
       "<IPython.core.display.HTML object>"
      ]
     },
     "metadata": {},
     "output_type": "display_data"
    },
    {
     "data": {
      "text/html": [
       " View project at <a href='https://wandb.ai/purinyun/Jellyfish' target=\"_blank\">https://wandb.ai/purinyun/Jellyfish</a>"
      ],
      "text/plain": [
       "<IPython.core.display.HTML object>"
      ]
     },
     "metadata": {},
     "output_type": "display_data"
    },
    {
     "data": {
      "text/html": [
       " View sweep at <a href='https://wandb.ai/purinyun/Jellyfish/sweeps/tt22svqz' target=\"_blank\">https://wandb.ai/purinyun/Jellyfish/sweeps/tt22svqz</a>"
      ],
      "text/plain": [
       "<IPython.core.display.HTML object>"
      ]
     },
     "metadata": {},
     "output_type": "display_data"
    },
    {
     "data": {
      "text/html": [
       " View run at <a href='https://wandb.ai/purinyun/Jellyfish/runs/19ftf0sd' target=\"_blank\">https://wandb.ai/purinyun/Jellyfish/runs/19ftf0sd</a>"
      ],
      "text/plain": [
       "<IPython.core.display.HTML object>"
      ]
     },
     "metadata": {},
     "output_type": "display_data"
    },
    {
     "name": "stderr",
     "output_type": "stream",
     "text": [
      "\u001b[34m\u001b[1mwandb\u001b[0m: \u001b[33mWARNING\u001b[0m The save_model argument by default saves the model in the HDF5 format that cannot save custom objects like subclassed models and custom layers. This behavior will be deprecated in a future release in favor of the SavedModel format. Meanwhile, the HDF5 model is saved as W&B files and the SavedModel as W&B Artifacts.\n"
     ]
    },
    {
     "name": "stdout",
     "output_type": "stream",
     "text": [
      "Epoch 1/8\n",
      "1875/1875 [==============================] - 36s 4ms/step - loss: 0.9257 - accuracy: 0.7011 - val_loss: 0.6769 - val_accuracy: 0.7906\n",
      "INFO:tensorflow:Assets written to: /aiffel/aiffel/wandb/run-20240110_023254-19ftf0sd/files/model-best/assets\n"
     ]
    },
    {
     "name": "stderr",
     "output_type": "stream",
     "text": [
      "\u001b[34m\u001b[1mwandb\u001b[0m: Adding directory to artifact (/aiffel/aiffel/wandb/run-20240110_023254-19ftf0sd/files/model-best)... Done. 0.0s\n"
     ]
    },
    {
     "name": "stdout",
     "output_type": "stream",
     "text": [
      "Epoch 2/8\n",
      " 108/1875 [>.............................] - ETA: 6s - loss: 0.6929 - accuracy: 0.7873"
     ]
    },
    {
     "name": "stderr",
     "output_type": "stream",
     "text": [
      "wandb: ERROR Error while calling W&B API: An internal error occurred. Please contact support. (<Response [500]>)\n"
     ]
    },
    {
     "name": "stdout",
     "output_type": "stream",
     "text": [
      "1875/1875 [==============================] - 7s 4ms/step - loss: 0.7091 - accuracy: 0.7848 - val_loss: 0.5971 - val_accuracy: 0.8140\n",
      "INFO:tensorflow:Assets written to: /aiffel/aiffel/wandb/run-20240110_023254-19ftf0sd/files/model-best/assets\n"
     ]
    },
    {
     "name": "stderr",
     "output_type": "stream",
     "text": [
      "\u001b[34m\u001b[1mwandb\u001b[0m: Adding directory to artifact (/aiffel/aiffel/wandb/run-20240110_023254-19ftf0sd/files/model-best)... Done. 0.0s\n"
     ]
    },
    {
     "name": "stdout",
     "output_type": "stream",
     "text": [
      "Epoch 3/8\n",
      "1875/1875 [==============================] - 7s 4ms/step - loss: 0.6962 - accuracy: 0.7870 - val_loss: 0.7053 - val_accuracy: 0.7874\n",
      "Epoch 4/8\n",
      "1875/1875 [==============================] - 7s 4ms/step - loss: 0.7234 - accuracy: 0.7787 - val_loss: 0.6909 - val_accuracy: 0.7948\n",
      "Epoch 5/8\n",
      "1875/1875 [==============================] - 7s 4ms/step - loss: 0.6942 - accuracy: 0.7890 - val_loss: 0.6183 - val_accuracy: 0.8152\n",
      "Epoch 6/8\n",
      "1875/1875 [==============================] - 7s 4ms/step - loss: 0.7339 - accuracy: 0.7773 - val_loss: 0.6159 - val_accuracy: 0.8116\n",
      "Epoch 7/8\n",
      "1875/1875 [==============================] - 7s 4ms/step - loss: 0.6813 - accuracy: 0.7924 - val_loss: 0.6070 - val_accuracy: 0.8060\n",
      "Epoch 8/8\n",
      "1875/1875 [==============================] - 7s 4ms/step - loss: 0.6820 - accuracy: 0.7900 - val_loss: 0.5394 - val_accuracy: 0.8238\n",
      "INFO:tensorflow:Assets written to: /aiffel/aiffel/wandb/run-20240110_023254-19ftf0sd/files/model-best/assets\n"
     ]
    },
    {
     "name": "stderr",
     "output_type": "stream",
     "text": [
      "\u001b[34m\u001b[1mwandb\u001b[0m: Adding directory to artifact (/aiffel/aiffel/wandb/run-20240110_023254-19ftf0sd/files/model-best)... Done. 0.0s\n"
     ]
    },
    {
     "name": "stdout",
     "output_type": "stream",
     "text": [
      "157/157 - 0s - loss: 0.5310 - accuracy: 0.8318\n"
     ]
    },
    {
     "data": {
      "application/vnd.jupyter.widget-view+json": {
       "model_id": "",
       "version_major": 2,
       "version_minor": 0
      },
      "text/plain": [
       "VBox(children=(Label(value='1.928 MB of 1.928 MB uploaded (0.029 MB deduped)\\r'), FloatProgress(value=1.0, max…"
      ]
     },
     "metadata": {},
     "output_type": "display_data"
    },
    {
     "data": {
      "text/html": [
       "W&B sync reduced upload amount by 1.5%             "
      ],
      "text/plain": [
       "<IPython.core.display.HTML object>"
      ]
     },
     "metadata": {},
     "output_type": "display_data"
    },
    {
     "data": {
      "text/html": [
       "<style>\n",
       "    table.wandb td:nth-child(1) { padding: 0 10px; text-align: left ; width: auto;} td:nth-child(2) {text-align: left ; width: 100%}\n",
       "    .wandb-row { display: flex; flex-direction: row; flex-wrap: wrap; justify-content: flex-start; width: 100% }\n",
       "    .wandb-col { display: flex; flex-direction: column; flex-basis: 100%; flex: 1; padding: 10px; }\n",
       "    </style>\n",
       "<div class=\"wandb-row\"><div class=\"wandb-col\"><h3>Run history:</h3><br/><table class=\"wandb\"><tr><td>Test Accuracy Rate: </td><td>▁</td></tr><tr><td>Test Error Rate: </td><td>▁</td></tr><tr><td>accuracy</td><td>▁▇█▇█▇██</td></tr><tr><td>epoch</td><td>▁▂▃▄▅▆▇█</td></tr><tr><td>loss</td><td>█▂▁▂▁▃▁▁</td></tr><tr><td>val_accuracy</td><td>▂▆▁▂▆▆▅█</td></tr><tr><td>val_loss</td><td>▇▃█▇▄▄▄▁</td></tr></table><br/></div><div class=\"wandb-col\"><h3>Run summary:</h3><br/><table class=\"wandb\"><tr><td>Test Accuracy Rate: </td><td>83.18</td></tr><tr><td>Test Error Rate: </td><td>16.82</td></tr><tr><td>accuracy</td><td>0.78997</td></tr><tr><td>best_epoch</td><td>7</td></tr><tr><td>best_val_loss</td><td>0.53937</td></tr><tr><td>epoch</td><td>7</td></tr><tr><td>loss</td><td>0.68198</td></tr><tr><td>val_accuracy</td><td>0.8238</td></tr><tr><td>val_loss</td><td>0.53937</td></tr></table><br/></div></div>"
      ],
      "text/plain": [
       "<IPython.core.display.HTML object>"
      ]
     },
     "metadata": {},
     "output_type": "display_data"
    },
    {
     "data": {
      "text/html": [
       " View run <strong style=\"color:#cdcd00\">vocal-sweep-1</strong> at: <a href='https://wandb.ai/purinyun/Jellyfish/runs/19ftf0sd' target=\"_blank\">https://wandb.ai/purinyun/Jellyfish/runs/19ftf0sd</a><br/>Synced 5 W&B file(s), 81 media file(s), 12 artifact file(s) and 1 other file(s)"
      ],
      "text/plain": [
       "<IPython.core.display.HTML object>"
      ]
     },
     "metadata": {},
     "output_type": "display_data"
    },
    {
     "data": {
      "text/html": [
       "Find logs at: <code>./wandb/run-20240110_023254-19ftf0sd/logs</code>"
      ],
      "text/plain": [
       "<IPython.core.display.HTML object>"
      ]
     },
     "metadata": {},
     "output_type": "display_data"
    },
    {
     "name": "stderr",
     "output_type": "stream",
     "text": [
      "\u001b[34m\u001b[1mwandb\u001b[0m: Agent Starting Run: 5tuvecul with config:\n",
      "\u001b[34m\u001b[1mwandb\u001b[0m: \tepoch: 10\n",
      "\u001b[34m\u001b[1mwandb\u001b[0m: \tlearning_rate: 0.04638067019607122\n"
     ]
    },
    {
     "data": {
      "text/html": [
       "wandb version 0.16.2 is available!  To upgrade, please run:\n",
       " $ pip install wandb --upgrade"
      ],
      "text/plain": [
       "<IPython.core.display.HTML object>"
      ]
     },
     "metadata": {},
     "output_type": "display_data"
    },
    {
     "data": {
      "text/html": [
       "Tracking run with wandb version 0.16.0"
      ],
      "text/plain": [
       "<IPython.core.display.HTML object>"
      ]
     },
     "metadata": {},
     "output_type": "display_data"
    },
    {
     "data": {
      "text/html": [
       "Run data is saved locally in <code>/aiffel/aiffel/wandb/run-20240110_023446-5tuvecul</code>"
      ],
      "text/plain": [
       "<IPython.core.display.HTML object>"
      ]
     },
     "metadata": {},
     "output_type": "display_data"
    },
    {
     "data": {
      "text/html": [
       "Syncing run <strong><a href='https://wandb.ai/purinyun/Jellyfish/runs/5tuvecul' target=\"_blank\">pious-sweep-2</a></strong> to <a href='https://wandb.ai/purinyun/Jellyfish' target=\"_blank\">Weights & Biases</a> (<a href='https://wandb.me/run' target=\"_blank\">docs</a>)<br/>Sweep page: <a href='https://wandb.ai/purinyun/Jellyfish/sweeps/tt22svqz' target=\"_blank\">https://wandb.ai/purinyun/Jellyfish/sweeps/tt22svqz</a>"
      ],
      "text/plain": [
       "<IPython.core.display.HTML object>"
      ]
     },
     "metadata": {},
     "output_type": "display_data"
    },
    {
     "data": {
      "text/html": [
       " View project at <a href='https://wandb.ai/purinyun/Jellyfish' target=\"_blank\">https://wandb.ai/purinyun/Jellyfish</a>"
      ],
      "text/plain": [
       "<IPython.core.display.HTML object>"
      ]
     },
     "metadata": {},
     "output_type": "display_data"
    },
    {
     "data": {
      "text/html": [
       " View sweep at <a href='https://wandb.ai/purinyun/Jellyfish/sweeps/tt22svqz' target=\"_blank\">https://wandb.ai/purinyun/Jellyfish/sweeps/tt22svqz</a>"
      ],
      "text/plain": [
       "<IPython.core.display.HTML object>"
      ]
     },
     "metadata": {},
     "output_type": "display_data"
    },
    {
     "data": {
      "text/html": [
       " View run at <a href='https://wandb.ai/purinyun/Jellyfish/runs/5tuvecul' target=\"_blank\">https://wandb.ai/purinyun/Jellyfish/runs/5tuvecul</a>"
      ],
      "text/plain": [
       "<IPython.core.display.HTML object>"
      ]
     },
     "metadata": {},
     "output_type": "display_data"
    },
    {
     "name": "stdout",
     "output_type": "stream",
     "text": [
      "Epoch 1/10\n",
      "1875/1875 [==============================] - 7s 3ms/step - loss: 0.3466 - accuracy: 0.9017 - val_loss: 0.2532 - val_accuracy: 0.9250\n",
      "INFO:tensorflow:Assets written to: /aiffel/aiffel/wandb/run-20240110_023446-5tuvecul/files/model-best/assets\n"
     ]
    },
    {
     "name": "stderr",
     "output_type": "stream",
     "text": [
      "\u001b[34m\u001b[1mwandb\u001b[0m: Adding directory to artifact (/aiffel/aiffel/wandb/run-20240110_023446-5tuvecul/files/model-best)... Done. 0.0s\n"
     ]
    },
    {
     "name": "stdout",
     "output_type": "stream",
     "text": [
      "Epoch 2/10\n",
      "1875/1875 [==============================] - 7s 4ms/step - loss: 0.3398 - accuracy: 0.9145 - val_loss: 0.3483 - val_accuracy: 0.9076\n",
      "Epoch 3/10\n",
      "1875/1875 [==============================] - 7s 4ms/step - loss: 0.3388 - accuracy: 0.9176 - val_loss: 0.4178 - val_accuracy: 0.8888\n",
      "Epoch 4/10\n",
      "1875/1875 [==============================] - 7s 4ms/step - loss: 0.3553 - accuracy: 0.9145 - val_loss: 0.2627 - val_accuracy: 0.9374\n",
      "Epoch 5/10\n",
      "1875/1875 [==============================] - 7s 4ms/step - loss: 0.3700 - accuracy: 0.9129 - val_loss: 0.4129 - val_accuracy: 0.9146\n",
      "Epoch 6/10\n",
      "1875/1875 [==============================] - 7s 4ms/step - loss: 0.3952 - accuracy: 0.9065 - val_loss: 0.3303 - val_accuracy: 0.9312\n",
      "Epoch 7/10\n",
      "1875/1875 [==============================] - 7s 4ms/step - loss: 0.4237 - accuracy: 0.9039 - val_loss: 0.3265 - val_accuracy: 0.9224\n",
      "Epoch 8/10\n",
      "1875/1875 [==============================] - 7s 4ms/step - loss: 0.4132 - accuracy: 0.9045 - val_loss: 0.4079 - val_accuracy: 0.8890\n",
      "Epoch 9/10\n",
      "1875/1875 [==============================] - 6s 3ms/step - loss: 0.4060 - accuracy: 0.9045 - val_loss: 0.3355 - val_accuracy: 0.9078\n",
      "Epoch 10/10\n",
      "1875/1875 [==============================] - 6s 3ms/step - loss: 1.5667 - accuracy: 0.4345 - val_loss: 2.3083 - val_accuracy: 0.1034\n",
      "157/157 - 0s - loss: 2.3106 - accuracy: 0.1030\n"
     ]
    },
    {
     "data": {
      "application/vnd.jupyter.widget-view+json": {
       "model_id": "",
       "version_major": 2,
       "version_minor": 0
      },
      "text/plain": [
       "VBox(children=(Label(value='0.928 MB of 0.928 MB uploaded\\r'), FloatProgress(value=1.0, max=1.0)))"
      ]
     },
     "metadata": {},
     "output_type": "display_data"
    },
    {
     "data": {
      "text/html": [
       "<style>\n",
       "    table.wandb td:nth-child(1) { padding: 0 10px; text-align: left ; width: auto;} td:nth-child(2) {text-align: left ; width: 100%}\n",
       "    .wandb-row { display: flex; flex-direction: row; flex-wrap: wrap; justify-content: flex-start; width: 100% }\n",
       "    .wandb-col { display: flex; flex-direction: column; flex-basis: 100%; flex: 1; padding: 10px; }\n",
       "    </style>\n",
       "<div class=\"wandb-row\"><div class=\"wandb-col\"><h3>Run history:</h3><br/><table class=\"wandb\"><tr><td>Test Accuracy Rate: </td><td>▁</td></tr><tr><td>Test Error Rate: </td><td>▁</td></tr><tr><td>accuracy</td><td>█████████▁</td></tr><tr><td>epoch</td><td>▁▂▃▃▄▅▆▆▇█</td></tr><tr><td>loss</td><td>▁▁▁▁▁▁▁▁▁█</td></tr><tr><td>val_accuracy</td><td>█████████▁</td></tr><tr><td>val_loss</td><td>▁▁▂▁▂▁▁▂▁█</td></tr></table><br/></div><div class=\"wandb-col\"><h3>Run summary:</h3><br/><table class=\"wandb\"><tr><td>Test Accuracy Rate: </td><td>10.3</td></tr><tr><td>Test Error Rate: </td><td>89.7</td></tr><tr><td>accuracy</td><td>0.43445</td></tr><tr><td>best_epoch</td><td>0</td></tr><tr><td>best_val_loss</td><td>0.25323</td></tr><tr><td>epoch</td><td>9</td></tr><tr><td>loss</td><td>1.56667</td></tr><tr><td>val_accuracy</td><td>0.1034</td></tr><tr><td>val_loss</td><td>2.30833</td></tr></table><br/></div></div>"
      ],
      "text/plain": [
       "<IPython.core.display.HTML object>"
      ]
     },
     "metadata": {},
     "output_type": "display_data"
    },
    {
     "data": {
      "text/html": [
       " View run <strong style=\"color:#cdcd00\">pious-sweep-2</strong> at: <a href='https://wandb.ai/purinyun/Jellyfish/runs/5tuvecul' target=\"_blank\">https://wandb.ai/purinyun/Jellyfish/runs/5tuvecul</a><br/>Synced 5 W&B file(s), 101 media file(s), 4 artifact file(s) and 1 other file(s)"
      ],
      "text/plain": [
       "<IPython.core.display.HTML object>"
      ]
     },
     "metadata": {},
     "output_type": "display_data"
    },
    {
     "data": {
      "text/html": [
       "Find logs at: <code>./wandb/run-20240110_023446-5tuvecul/logs</code>"
      ],
      "text/plain": [
       "<IPython.core.display.HTML object>"
      ]
     },
     "metadata": {},
     "output_type": "display_data"
    },
    {
     "name": "stderr",
     "output_type": "stream",
     "text": [
      "\u001b[34m\u001b[1mwandb\u001b[0m: Agent Starting Run: 2ms2cqei with config:\n",
      "\u001b[34m\u001b[1mwandb\u001b[0m: \tepoch: 9\n",
      "\u001b[34m\u001b[1mwandb\u001b[0m: \tlearning_rate: 0.07601740060207043\n"
     ]
    },
    {
     "data": {
      "text/html": [
       "wandb version 0.16.2 is available!  To upgrade, please run:\n",
       " $ pip install wandb --upgrade"
      ],
      "text/plain": [
       "<IPython.core.display.HTML object>"
      ]
     },
     "metadata": {},
     "output_type": "display_data"
    },
    {
     "data": {
      "text/html": [
       "Tracking run with wandb version 0.16.0"
      ],
      "text/plain": [
       "<IPython.core.display.HTML object>"
      ]
     },
     "metadata": {},
     "output_type": "display_data"
    },
    {
     "data": {
      "text/html": [
       "Run data is saved locally in <code>/aiffel/aiffel/wandb/run-20240110_023608-2ms2cqei</code>"
      ],
      "text/plain": [
       "<IPython.core.display.HTML object>"
      ]
     },
     "metadata": {},
     "output_type": "display_data"
    },
    {
     "data": {
      "text/html": [
       "Syncing run <strong><a href='https://wandb.ai/purinyun/Jellyfish/runs/2ms2cqei' target=\"_blank\">hardy-sweep-3</a></strong> to <a href='https://wandb.ai/purinyun/Jellyfish' target=\"_blank\">Weights & Biases</a> (<a href='https://wandb.me/run' target=\"_blank\">docs</a>)<br/>Sweep page: <a href='https://wandb.ai/purinyun/Jellyfish/sweeps/tt22svqz' target=\"_blank\">https://wandb.ai/purinyun/Jellyfish/sweeps/tt22svqz</a>"
      ],
      "text/plain": [
       "<IPython.core.display.HTML object>"
      ]
     },
     "metadata": {},
     "output_type": "display_data"
    },
    {
     "data": {
      "text/html": [
       " View project at <a href='https://wandb.ai/purinyun/Jellyfish' target=\"_blank\">https://wandb.ai/purinyun/Jellyfish</a>"
      ],
      "text/plain": [
       "<IPython.core.display.HTML object>"
      ]
     },
     "metadata": {},
     "output_type": "display_data"
    },
    {
     "data": {
      "text/html": [
       " View sweep at <a href='https://wandb.ai/purinyun/Jellyfish/sweeps/tt22svqz' target=\"_blank\">https://wandb.ai/purinyun/Jellyfish/sweeps/tt22svqz</a>"
      ],
      "text/plain": [
       "<IPython.core.display.HTML object>"
      ]
     },
     "metadata": {},
     "output_type": "display_data"
    },
    {
     "data": {
      "text/html": [
       " View run at <a href='https://wandb.ai/purinyun/Jellyfish/runs/2ms2cqei' target=\"_blank\">https://wandb.ai/purinyun/Jellyfish/runs/2ms2cqei</a>"
      ],
      "text/plain": [
       "<IPython.core.display.HTML object>"
      ]
     },
     "metadata": {},
     "output_type": "display_data"
    },
    {
     "name": "stdout",
     "output_type": "stream",
     "text": [
      "Epoch 1/9\n",
      "1875/1875 [==============================] - 8s 4ms/step - loss: 2.3363 - accuracy: 0.1035 - val_loss: 2.3178 - val_accuracy: 0.0960\n",
      "INFO:tensorflow:Assets written to: /aiffel/aiffel/wandb/run-20240110_023608-2ms2cqei/files/model-best/assets\n"
     ]
    },
    {
     "name": "stderr",
     "output_type": "stream",
     "text": [
      "\u001b[34m\u001b[1mwandb\u001b[0m: Adding directory to artifact (/aiffel/aiffel/wandb/run-20240110_023608-2ms2cqei/files/model-best)... Done. 0.0s\n"
     ]
    },
    {
     "name": "stdout",
     "output_type": "stream",
     "text": [
      "Epoch 2/9\n",
      "1875/1875 [==============================] - 7s 4ms/step - loss: 2.3112 - accuracy: 0.1026 - val_loss: 2.3103 - val_accuracy: 0.1010\n",
      "INFO:tensorflow:Assets written to: /aiffel/aiffel/wandb/run-20240110_023608-2ms2cqei/files/model-best/assets\n"
     ]
    },
    {
     "name": "stderr",
     "output_type": "stream",
     "text": [
      "\u001b[34m\u001b[1mwandb\u001b[0m: Adding directory to artifact (/aiffel/aiffel/wandb/run-20240110_023608-2ms2cqei/files/model-best)... Done. 0.0s\n"
     ]
    },
    {
     "name": "stdout",
     "output_type": "stream",
     "text": [
      "Epoch 3/9\n",
      "1875/1875 [==============================] - 7s 4ms/step - loss: 2.3113 - accuracy: 0.1024 - val_loss: 2.3187 - val_accuracy: 0.0952\n",
      "Epoch 4/9\n",
      "1875/1875 [==============================] - 7s 4ms/step - loss: 2.3097 - accuracy: 0.1038 - val_loss: 2.3127 - val_accuracy: 0.1016\n",
      "Epoch 5/9\n",
      "1875/1875 [==============================] - 7s 4ms/step - loss: 2.3110 - accuracy: 0.1034 - val_loss: 2.3090 - val_accuracy: 0.0952\n",
      "INFO:tensorflow:Assets written to: /aiffel/aiffel/wandb/run-20240110_023608-2ms2cqei/files/model-best/assets\n"
     ]
    },
    {
     "name": "stderr",
     "output_type": "stream",
     "text": [
      "\u001b[34m\u001b[1mwandb\u001b[0m: Adding directory to artifact (/aiffel/aiffel/wandb/run-20240110_023608-2ms2cqei/files/model-best)... Done. 0.0s\n"
     ]
    },
    {
     "name": "stdout",
     "output_type": "stream",
     "text": [
      "Epoch 6/9\n",
      "1875/1875 [==============================] - 6s 3ms/step - loss: 2.3114 - accuracy: 0.1051 - val_loss: 2.3078 - val_accuracy: 0.1014\n",
      "INFO:tensorflow:Assets written to: /aiffel/aiffel/wandb/run-20240110_023608-2ms2cqei/files/model-best/assets\n"
     ]
    },
    {
     "name": "stderr",
     "output_type": "stream",
     "text": [
      "\u001b[34m\u001b[1mwandb\u001b[0m: Adding directory to artifact (/aiffel/aiffel/wandb/run-20240110_023608-2ms2cqei/files/model-best)... Done. 0.0s\n"
     ]
    },
    {
     "name": "stdout",
     "output_type": "stream",
     "text": [
      "Epoch 7/9\n",
      "1875/1875 [==============================] - 6s 3ms/step - loss: 2.3110 - accuracy: 0.1026 - val_loss: 2.3109 - val_accuracy: 0.1034\n",
      "Epoch 8/9\n",
      "1875/1875 [==============================] - 7s 4ms/step - loss: 2.3110 - accuracy: 0.1031 - val_loss: 2.3095 - val_accuracy: 0.0986\n",
      "Epoch 9/9\n",
      "1875/1875 [==============================] - 7s 4ms/step - loss: 2.3112 - accuracy: 0.1028 - val_loss: 2.3198 - val_accuracy: 0.1034\n",
      "157/157 - 0s - loss: 2.3195 - accuracy: 0.1022\n"
     ]
    },
    {
     "data": {
      "application/vnd.jupyter.widget-view+json": {
       "model_id": "",
       "version_major": 2,
       "version_minor": 0
      },
      "text/plain": [
       "VBox(children=(Label(value='2.435 MB of 2.435 MB uploaded (0.043 MB deduped)\\r'), FloatProgress(value=1.0, max…"
      ]
     },
     "metadata": {},
     "output_type": "display_data"
    },
    {
     "data": {
      "text/html": [
       "W&B sync reduced upload amount by 1.8%             "
      ],
      "text/plain": [
       "<IPython.core.display.HTML object>"
      ]
     },
     "metadata": {},
     "output_type": "display_data"
    },
    {
     "data": {
      "text/html": [
       "<style>\n",
       "    table.wandb td:nth-child(1) { padding: 0 10px; text-align: left ; width: auto;} td:nth-child(2) {text-align: left ; width: 100%}\n",
       "    .wandb-row { display: flex; flex-direction: row; flex-wrap: wrap; justify-content: flex-start; width: 100% }\n",
       "    .wandb-col { display: flex; flex-direction: column; flex-basis: 100%; flex: 1; padding: 10px; }\n",
       "    </style>\n",
       "<div class=\"wandb-row\"><div class=\"wandb-col\"><h3>Run history:</h3><br/><table class=\"wandb\"><tr><td>Test Accuracy Rate: </td><td>▁</td></tr><tr><td>Test Error Rate: </td><td>▁</td></tr><tr><td>accuracy</td><td>▄▂▁▅▄█▂▃▂</td></tr><tr><td>epoch</td><td>▁▂▃▄▅▅▆▇█</td></tr><tr><td>loss</td><td>█▁▁▁▁▁▁▁▁</td></tr><tr><td>val_accuracy</td><td>▂▆▁▆▁▆█▄█</td></tr><tr><td>val_loss</td><td>▇▂▇▄▂▁▃▂█</td></tr></table><br/></div><div class=\"wandb-col\"><h3>Run summary:</h3><br/><table class=\"wandb\"><tr><td>Test Accuracy Rate: </td><td>10.22</td></tr><tr><td>Test Error Rate: </td><td>89.78</td></tr><tr><td>accuracy</td><td>0.10277</td></tr><tr><td>best_epoch</td><td>5</td></tr><tr><td>best_val_loss</td><td>2.30783</td></tr><tr><td>epoch</td><td>8</td></tr><tr><td>loss</td><td>2.31117</td></tr><tr><td>val_accuracy</td><td>0.1034</td></tr><tr><td>val_loss</td><td>2.31975</td></tr></table><br/></div></div>"
      ],
      "text/plain": [
       "<IPython.core.display.HTML object>"
      ]
     },
     "metadata": {},
     "output_type": "display_data"
    },
    {
     "data": {
      "text/html": [
       " View run <strong style=\"color:#cdcd00\">hardy-sweep-3</strong> at: <a href='https://wandb.ai/purinyun/Jellyfish/runs/2ms2cqei' target=\"_blank\">https://wandb.ai/purinyun/Jellyfish/runs/2ms2cqei</a><br/>Synced 5 W&B file(s), 91 media file(s), 16 artifact file(s) and 1 other file(s)"
      ],
      "text/plain": [
       "<IPython.core.display.HTML object>"
      ]
     },
     "metadata": {},
     "output_type": "display_data"
    },
    {
     "data": {
      "text/html": [
       "Find logs at: <code>./wandb/run-20240110_023608-2ms2cqei/logs</code>"
      ],
      "text/plain": [
       "<IPython.core.display.HTML object>"
      ]
     },
     "metadata": {},
     "output_type": "display_data"
    },
    {
     "name": "stderr",
     "output_type": "stream",
     "text": [
      "\u001b[34m\u001b[1mwandb\u001b[0m: Agent Starting Run: 46rk6a0w with config:\n",
      "\u001b[34m\u001b[1mwandb\u001b[0m: \tepoch: 5\n",
      "\u001b[34m\u001b[1mwandb\u001b[0m: \tlearning_rate: 0.0429666234108601\n"
     ]
    },
    {
     "data": {
      "text/html": [
       "wandb version 0.16.2 is available!  To upgrade, please run:\n",
       " $ pip install wandb --upgrade"
      ],
      "text/plain": [
       "<IPython.core.display.HTML object>"
      ]
     },
     "metadata": {},
     "output_type": "display_data"
    },
    {
     "data": {
      "text/html": [
       "Tracking run with wandb version 0.16.0"
      ],
      "text/plain": [
       "<IPython.core.display.HTML object>"
      ]
     },
     "metadata": {},
     "output_type": "display_data"
    },
    {
     "data": {
      "text/html": [
       "Run data is saved locally in <code>/aiffel/aiffel/wandb/run-20240110_023728-46rk6a0w</code>"
      ],
      "text/plain": [
       "<IPython.core.display.HTML object>"
      ]
     },
     "metadata": {},
     "output_type": "display_data"
    },
    {
     "data": {
      "text/html": [
       "Syncing run <strong><a href='https://wandb.ai/purinyun/Jellyfish/runs/46rk6a0w' target=\"_blank\">fearless-sweep-4</a></strong> to <a href='https://wandb.ai/purinyun/Jellyfish' target=\"_blank\">Weights & Biases</a> (<a href='https://wandb.me/run' target=\"_blank\">docs</a>)<br/>Sweep page: <a href='https://wandb.ai/purinyun/Jellyfish/sweeps/tt22svqz' target=\"_blank\">https://wandb.ai/purinyun/Jellyfish/sweeps/tt22svqz</a>"
      ],
      "text/plain": [
       "<IPython.core.display.HTML object>"
      ]
     },
     "metadata": {},
     "output_type": "display_data"
    },
    {
     "data": {
      "text/html": [
       " View project at <a href='https://wandb.ai/purinyun/Jellyfish' target=\"_blank\">https://wandb.ai/purinyun/Jellyfish</a>"
      ],
      "text/plain": [
       "<IPython.core.display.HTML object>"
      ]
     },
     "metadata": {},
     "output_type": "display_data"
    },
    {
     "data": {
      "text/html": [
       " View sweep at <a href='https://wandb.ai/purinyun/Jellyfish/sweeps/tt22svqz' target=\"_blank\">https://wandb.ai/purinyun/Jellyfish/sweeps/tt22svqz</a>"
      ],
      "text/plain": [
       "<IPython.core.display.HTML object>"
      ]
     },
     "metadata": {},
     "output_type": "display_data"
    },
    {
     "data": {
      "text/html": [
       " View run at <a href='https://wandb.ai/purinyun/Jellyfish/runs/46rk6a0w' target=\"_blank\">https://wandb.ai/purinyun/Jellyfish/runs/46rk6a0w</a>"
      ],
      "text/plain": [
       "<IPython.core.display.HTML object>"
      ]
     },
     "metadata": {},
     "output_type": "display_data"
    },
    {
     "name": "stdout",
     "output_type": "stream",
     "text": [
      "Epoch 1/5\n",
      "1875/1875 [==============================] - 8s 4ms/step - loss: 0.5784 - accuracy: 0.8147 - val_loss: 0.4548 - val_accuracy: 0.8526\n",
      "INFO:tensorflow:Assets written to: /aiffel/aiffel/wandb/run-20240110_023728-46rk6a0w/files/model-best/assets\n"
     ]
    },
    {
     "name": "stderr",
     "output_type": "stream",
     "text": [
      "\u001b[34m\u001b[1mwandb\u001b[0m: Adding directory to artifact (/aiffel/aiffel/wandb/run-20240110_023728-46rk6a0w/files/model-best)... Done. 0.0s\n"
     ]
    },
    {
     "name": "stdout",
     "output_type": "stream",
     "text": [
      "Epoch 2/5\n",
      "1875/1875 [==============================] - 7s 4ms/step - loss: 0.4770 - accuracy: 0.8489 - val_loss: 0.4695 - val_accuracy: 0.8630\n",
      "Epoch 3/5\n",
      "1875/1875 [==============================] - 7s 4ms/step - loss: 0.4762 - accuracy: 0.8517 - val_loss: 0.4529 - val_accuracy: 0.8500\n",
      "INFO:tensorflow:Assets written to: /aiffel/aiffel/wandb/run-20240110_023728-46rk6a0w/files/model-best/assets\n"
     ]
    },
    {
     "name": "stderr",
     "output_type": "stream",
     "text": [
      "\u001b[34m\u001b[1mwandb\u001b[0m: Adding directory to artifact (/aiffel/aiffel/wandb/run-20240110_023728-46rk6a0w/files/model-best)... Done. 0.0s\n"
     ]
    },
    {
     "name": "stdout",
     "output_type": "stream",
     "text": [
      "Epoch 4/5\n",
      "1875/1875 [==============================] - 7s 4ms/step - loss: 0.4671 - accuracy: 0.8543 - val_loss: 0.4092 - val_accuracy: 0.8682\n",
      "INFO:tensorflow:Assets written to: /aiffel/aiffel/wandb/run-20240110_023728-46rk6a0w/files/model-best/assets\n"
     ]
    },
    {
     "name": "stderr",
     "output_type": "stream",
     "text": [
      "\u001b[34m\u001b[1mwandb\u001b[0m: Adding directory to artifact (/aiffel/aiffel/wandb/run-20240110_023728-46rk6a0w/files/model-best)... Done. 0.0s\n"
     ]
    },
    {
     "name": "stdout",
     "output_type": "stream",
     "text": [
      "Epoch 5/5\n",
      "1875/1875 [==============================] - 6s 3ms/step - loss: 0.4652 - accuracy: 0.8549 - val_loss: 0.4327 - val_accuracy: 0.8636\n",
      "157/157 - 0s - loss: 0.4219 - accuracy: 0.8756\n"
     ]
    },
    {
     "data": {
      "application/vnd.jupyter.widget-view+json": {
       "model_id": "",
       "version_major": 2,
       "version_minor": 0
      },
      "text/plain": [
       "VBox(children=(Label(value='1.922 MB of 1.922 MB uploaded (0.029 MB deduped)\\r'), FloatProgress(value=1.0, max…"
      ]
     },
     "metadata": {},
     "output_type": "display_data"
    },
    {
     "data": {
      "text/html": [
       "W&B sync reduced upload amount by 1.5%             "
      ],
      "text/plain": [
       "<IPython.core.display.HTML object>"
      ]
     },
     "metadata": {},
     "output_type": "display_data"
    },
    {
     "data": {
      "text/html": [
       "<style>\n",
       "    table.wandb td:nth-child(1) { padding: 0 10px; text-align: left ; width: auto;} td:nth-child(2) {text-align: left ; width: 100%}\n",
       "    .wandb-row { display: flex; flex-direction: row; flex-wrap: wrap; justify-content: flex-start; width: 100% }\n",
       "    .wandb-col { display: flex; flex-direction: column; flex-basis: 100%; flex: 1; padding: 10px; }\n",
       "    </style>\n",
       "<div class=\"wandb-row\"><div class=\"wandb-col\"><h3>Run history:</h3><br/><table class=\"wandb\"><tr><td>Test Accuracy Rate: </td><td>▁</td></tr><tr><td>Test Error Rate: </td><td>▁</td></tr><tr><td>accuracy</td><td>▁▇▇██</td></tr><tr><td>epoch</td><td>▁▃▅▆█</td></tr><tr><td>loss</td><td>█▂▂▁▁</td></tr><tr><td>val_accuracy</td><td>▂▆▁█▆</td></tr><tr><td>val_loss</td><td>▆█▆▁▄</td></tr></table><br/></div><div class=\"wandb-col\"><h3>Run summary:</h3><br/><table class=\"wandb\"><tr><td>Test Accuracy Rate: </td><td>87.56</td></tr><tr><td>Test Error Rate: </td><td>12.44</td></tr><tr><td>accuracy</td><td>0.8549</td></tr><tr><td>best_epoch</td><td>3</td></tr><tr><td>best_val_loss</td><td>0.4092</td></tr><tr><td>epoch</td><td>4</td></tr><tr><td>loss</td><td>0.46518</td></tr><tr><td>val_accuracy</td><td>0.8636</td></tr><tr><td>val_loss</td><td>0.43268</td></tr></table><br/></div></div>"
      ],
      "text/plain": [
       "<IPython.core.display.HTML object>"
      ]
     },
     "metadata": {},
     "output_type": "display_data"
    },
    {
     "data": {
      "text/html": [
       " View run <strong style=\"color:#cdcd00\">fearless-sweep-4</strong> at: <a href='https://wandb.ai/purinyun/Jellyfish/runs/46rk6a0w' target=\"_blank\">https://wandb.ai/purinyun/Jellyfish/runs/46rk6a0w</a><br/>Synced 5 W&B file(s), 51 media file(s), 12 artifact file(s) and 1 other file(s)"
      ],
      "text/plain": [
       "<IPython.core.display.HTML object>"
      ]
     },
     "metadata": {},
     "output_type": "display_data"
    },
    {
     "data": {
      "text/html": [
       "Find logs at: <code>./wandb/run-20240110_023728-46rk6a0w/logs</code>"
      ],
      "text/plain": [
       "<IPython.core.display.HTML object>"
      ]
     },
     "metadata": {},
     "output_type": "display_data"
    },
    {
     "name": "stderr",
     "output_type": "stream",
     "text": [
      "\u001b[34m\u001b[1mwandb\u001b[0m: Agent Starting Run: nn20chqc with config:\n",
      "\u001b[34m\u001b[1mwandb\u001b[0m: \tepoch: 10\n",
      "\u001b[34m\u001b[1mwandb\u001b[0m: \tlearning_rate: 0.09636821846152412\n"
     ]
    },
    {
     "data": {
      "text/html": [
       "wandb version 0.16.2 is available!  To upgrade, please run:\n",
       " $ pip install wandb --upgrade"
      ],
      "text/plain": [
       "<IPython.core.display.HTML object>"
      ]
     },
     "metadata": {},
     "output_type": "display_data"
    },
    {
     "data": {
      "text/html": [
       "Tracking run with wandb version 0.16.0"
      ],
      "text/plain": [
       "<IPython.core.display.HTML object>"
      ]
     },
     "metadata": {},
     "output_type": "display_data"
    },
    {
     "data": {
      "text/html": [
       "Run data is saved locally in <code>/aiffel/aiffel/wandb/run-20240110_023820-nn20chqc</code>"
      ],
      "text/plain": [
       "<IPython.core.display.HTML object>"
      ]
     },
     "metadata": {},
     "output_type": "display_data"
    },
    {
     "data": {
      "text/html": [
       "Syncing run <strong><a href='https://wandb.ai/purinyun/Jellyfish/runs/nn20chqc' target=\"_blank\">valiant-sweep-5</a></strong> to <a href='https://wandb.ai/purinyun/Jellyfish' target=\"_blank\">Weights & Biases</a> (<a href='https://wandb.me/run' target=\"_blank\">docs</a>)<br/>Sweep page: <a href='https://wandb.ai/purinyun/Jellyfish/sweeps/tt22svqz' target=\"_blank\">https://wandb.ai/purinyun/Jellyfish/sweeps/tt22svqz</a>"
      ],
      "text/plain": [
       "<IPython.core.display.HTML object>"
      ]
     },
     "metadata": {},
     "output_type": "display_data"
    },
    {
     "data": {
      "text/html": [
       " View project at <a href='https://wandb.ai/purinyun/Jellyfish' target=\"_blank\">https://wandb.ai/purinyun/Jellyfish</a>"
      ],
      "text/plain": [
       "<IPython.core.display.HTML object>"
      ]
     },
     "metadata": {},
     "output_type": "display_data"
    },
    {
     "data": {
      "text/html": [
       " View sweep at <a href='https://wandb.ai/purinyun/Jellyfish/sweeps/tt22svqz' target=\"_blank\">https://wandb.ai/purinyun/Jellyfish/sweeps/tt22svqz</a>"
      ],
      "text/plain": [
       "<IPython.core.display.HTML object>"
      ]
     },
     "metadata": {},
     "output_type": "display_data"
    },
    {
     "data": {
      "text/html": [
       " View run at <a href='https://wandb.ai/purinyun/Jellyfish/runs/nn20chqc' target=\"_blank\">https://wandb.ai/purinyun/Jellyfish/runs/nn20chqc</a>"
      ],
      "text/plain": [
       "<IPython.core.display.HTML object>"
      ]
     },
     "metadata": {},
     "output_type": "display_data"
    },
    {
     "name": "stdout",
     "output_type": "stream",
     "text": [
      "Epoch 1/10\n",
      "1875/1875 [==============================] - 8s 4ms/step - loss: 2.3261 - accuracy: 0.1040 - val_loss: 2.3123 - val_accuracy: 0.1034\n",
      "INFO:tensorflow:Assets written to: /aiffel/aiffel/wandb/run-20240110_023820-nn20chqc/files/model-best/assets\n"
     ]
    },
    {
     "name": "stderr",
     "output_type": "stream",
     "text": [
      "\u001b[34m\u001b[1mwandb\u001b[0m: Adding directory to artifact (/aiffel/aiffel/wandb/run-20240110_023820-nn20chqc/files/model-best)... Done. 0.0s\n"
     ]
    },
    {
     "name": "stdout",
     "output_type": "stream",
     "text": [
      "Epoch 2/10\n",
      "1875/1875 [==============================] - 7s 4ms/step - loss: 2.3141 - accuracy: 0.1028 - val_loss: 2.3121 - val_accuracy: 0.1122\n",
      "INFO:tensorflow:Assets written to: /aiffel/aiffel/wandb/run-20240110_023820-nn20chqc/files/model-best/assets\n"
     ]
    },
    {
     "name": "stderr",
     "output_type": "stream",
     "text": [
      "\u001b[34m\u001b[1mwandb\u001b[0m: Adding directory to artifact (/aiffel/aiffel/wandb/run-20240110_023820-nn20chqc/files/model-best)... Done. 0.0s\n"
     ]
    },
    {
     "name": "stdout",
     "output_type": "stream",
     "text": [
      "Epoch 3/10\n",
      "1875/1875 [==============================] - 7s 4ms/step - loss: 2.3136 - accuracy: 0.1033 - val_loss: 2.3094 - val_accuracy: 0.1122\n",
      "INFO:tensorflow:Assets written to: /aiffel/aiffel/wandb/run-20240110_023820-nn20chqc/files/model-best/assets\n"
     ]
    },
    {
     "name": "stderr",
     "output_type": "stream",
     "text": [
      "\u001b[34m\u001b[1mwandb\u001b[0m: Adding directory to artifact (/aiffel/aiffel/wandb/run-20240110_023820-nn20chqc/files/model-best)... Done. 0.0s\n"
     ]
    },
    {
     "name": "stdout",
     "output_type": "stream",
     "text": [
      "Epoch 4/10\n",
      "1875/1875 [==============================] - 7s 4ms/step - loss: 2.3141 - accuracy: 0.1028 - val_loss: 2.3211 - val_accuracy: 0.1122\n",
      "Epoch 5/10\n",
      "1875/1875 [==============================] - 7s 4ms/step - loss: 2.3137 - accuracy: 0.1028 - val_loss: 2.3093 - val_accuracy: 0.1014\n",
      "INFO:tensorflow:Assets written to: /aiffel/aiffel/wandb/run-20240110_023820-nn20chqc/files/model-best/assets\n"
     ]
    },
    {
     "name": "stderr",
     "output_type": "stream",
     "text": [
      "\u001b[34m\u001b[1mwandb\u001b[0m: Adding directory to artifact (/aiffel/aiffel/wandb/run-20240110_023820-nn20chqc/files/model-best)... Done. 0.0s\n"
     ]
    },
    {
     "name": "stdout",
     "output_type": "stream",
     "text": [
      "Epoch 6/10\n",
      "1875/1875 [==============================] - 7s 4ms/step - loss: 2.3127 - accuracy: 0.1025 - val_loss: 2.3158 - val_accuracy: 0.1122\n",
      "Epoch 7/10\n",
      "1875/1875 [==============================] - 7s 4ms/step - loss: 2.3125 - accuracy: 0.1042 - val_loss: 2.3150 - val_accuracy: 0.1122\n",
      "Epoch 8/10\n",
      "1875/1875 [==============================] - 7s 4ms/step - loss: 2.3134 - accuracy: 0.1028 - val_loss: 2.3201 - val_accuracy: 0.0952\n",
      "Epoch 9/10\n",
      "1875/1875 [==============================] - 7s 4ms/step - loss: 2.3133 - accuracy: 0.1023 - val_loss: 2.3119 - val_accuracy: 0.1034\n",
      "Epoch 10/10\n",
      "1875/1875 [==============================] - 6s 3ms/step - loss: 2.3136 - accuracy: 0.1032 - val_loss: 2.3085 - val_accuracy: 0.1010\n",
      "INFO:tensorflow:Assets written to: /aiffel/aiffel/wandb/run-20240110_023820-nn20chqc/files/model-best/assets\n"
     ]
    },
    {
     "name": "stderr",
     "output_type": "stream",
     "text": [
      "\u001b[34m\u001b[1mwandb\u001b[0m: Adding directory to artifact (/aiffel/aiffel/wandb/run-20240110_023820-nn20chqc/files/model-best)... Done. 0.0s\n"
     ]
    },
    {
     "name": "stdout",
     "output_type": "stream",
     "text": [
      "157/157 - 0s - loss: 2.3112 - accuracy: 0.1010\n"
     ]
    },
    {
     "data": {
      "application/vnd.jupyter.widget-view+json": {
       "model_id": "",
       "version_major": 2,
       "version_minor": 0
      },
      "text/plain": [
       "VBox(children=(Label(value='2.942 MB of 2.942 MB uploaded (0.058 MB deduped)\\r'), FloatProgress(value=1.0, max…"
      ]
     },
     "metadata": {},
     "output_type": "display_data"
    },
    {
     "data": {
      "text/html": [
       "W&B sync reduced upload amount by 2.0%             "
      ],
      "text/plain": [
       "<IPython.core.display.HTML object>"
      ]
     },
     "metadata": {},
     "output_type": "display_data"
    },
    {
     "data": {
      "text/html": [
       "<style>\n",
       "    table.wandb td:nth-child(1) { padding: 0 10px; text-align: left ; width: auto;} td:nth-child(2) {text-align: left ; width: 100%}\n",
       "    .wandb-row { display: flex; flex-direction: row; flex-wrap: wrap; justify-content: flex-start; width: 100% }\n",
       "    .wandb-col { display: flex; flex-direction: column; flex-basis: 100%; flex: 1; padding: 10px; }\n",
       "    </style>\n",
       "<div class=\"wandb-row\"><div class=\"wandb-col\"><h3>Run history:</h3><br/><table class=\"wandb\"><tr><td>Test Accuracy Rate: </td><td>▁</td></tr><tr><td>Test Error Rate: </td><td>▁</td></tr><tr><td>accuracy</td><td>▇▃▅▃▃▂█▃▁▄</td></tr><tr><td>epoch</td><td>▁▂▃▃▄▅▆▆▇█</td></tr><tr><td>loss</td><td>█▂▂▂▂▁▁▁▁▂</td></tr><tr><td>val_accuracy</td><td>▄███▄██▁▄▃</td></tr><tr><td>val_loss</td><td>▃▃▂█▁▅▅▇▃▁</td></tr></table><br/></div><div class=\"wandb-col\"><h3>Run summary:</h3><br/><table class=\"wandb\"><tr><td>Test Accuracy Rate: </td><td>10.1</td></tr><tr><td>Test Error Rate: </td><td>89.9</td></tr><tr><td>accuracy</td><td>0.10322</td></tr><tr><td>best_epoch</td><td>9</td></tr><tr><td>best_val_loss</td><td>2.30845</td></tr><tr><td>epoch</td><td>9</td></tr><tr><td>loss</td><td>2.31362</td></tr><tr><td>val_accuracy</td><td>0.101</td></tr><tr><td>val_loss</td><td>2.30845</td></tr></table><br/></div></div>"
      ],
      "text/plain": [
       "<IPython.core.display.HTML object>"
      ]
     },
     "metadata": {},
     "output_type": "display_data"
    },
    {
     "data": {
      "text/html": [
       " View run <strong style=\"color:#cdcd00\">valiant-sweep-5</strong> at: <a href='https://wandb.ai/purinyun/Jellyfish/runs/nn20chqc' target=\"_blank\">https://wandb.ai/purinyun/Jellyfish/runs/nn20chqc</a><br/>Synced 5 W&B file(s), 101 media file(s), 20 artifact file(s) and 1 other file(s)"
      ],
      "text/plain": [
       "<IPython.core.display.HTML object>"
      ]
     },
     "metadata": {},
     "output_type": "display_data"
    },
    {
     "data": {
      "text/html": [
       "Find logs at: <code>./wandb/run-20240110_023820-nn20chqc/logs</code>"
      ],
      "text/plain": [
       "<IPython.core.display.HTML object>"
      ]
     },
     "metadata": {},
     "output_type": "display_data"
    },
    {
     "name": "stderr",
     "output_type": "stream",
     "text": [
      "\u001b[34m\u001b[1mwandb\u001b[0m: Agent Starting Run: 9ev802ce with config:\n",
      "\u001b[34m\u001b[1mwandb\u001b[0m: \tepoch: 5\n",
      "\u001b[34m\u001b[1mwandb\u001b[0m: \tlearning_rate: 0.0626601593365045\n"
     ]
    },
    {
     "data": {
      "text/html": [
       "wandb version 0.16.2 is available!  To upgrade, please run:\n",
       " $ pip install wandb --upgrade"
      ],
      "text/plain": [
       "<IPython.core.display.HTML object>"
      ]
     },
     "metadata": {},
     "output_type": "display_data"
    },
    {
     "data": {
      "text/html": [
       "Tracking run with wandb version 0.16.0"
      ],
      "text/plain": [
       "<IPython.core.display.HTML object>"
      ]
     },
     "metadata": {},
     "output_type": "display_data"
    },
    {
     "data": {
      "text/html": [
       "Run data is saved locally in <code>/aiffel/aiffel/wandb/run-20240110_023950-9ev802ce</code>"
      ],
      "text/plain": [
       "<IPython.core.display.HTML object>"
      ]
     },
     "metadata": {},
     "output_type": "display_data"
    },
    {
     "data": {
      "text/html": [
       "Syncing run <strong><a href='https://wandb.ai/purinyun/Jellyfish/runs/9ev802ce' target=\"_blank\">light-sweep-6</a></strong> to <a href='https://wandb.ai/purinyun/Jellyfish' target=\"_blank\">Weights & Biases</a> (<a href='https://wandb.me/run' target=\"_blank\">docs</a>)<br/>Sweep page: <a href='https://wandb.ai/purinyun/Jellyfish/sweeps/tt22svqz' target=\"_blank\">https://wandb.ai/purinyun/Jellyfish/sweeps/tt22svqz</a>"
      ],
      "text/plain": [
       "<IPython.core.display.HTML object>"
      ]
     },
     "metadata": {},
     "output_type": "display_data"
    },
    {
     "data": {
      "text/html": [
       " View project at <a href='https://wandb.ai/purinyun/Jellyfish' target=\"_blank\">https://wandb.ai/purinyun/Jellyfish</a>"
      ],
      "text/plain": [
       "<IPython.core.display.HTML object>"
      ]
     },
     "metadata": {},
     "output_type": "display_data"
    },
    {
     "data": {
      "text/html": [
       " View sweep at <a href='https://wandb.ai/purinyun/Jellyfish/sweeps/tt22svqz' target=\"_blank\">https://wandb.ai/purinyun/Jellyfish/sweeps/tt22svqz</a>"
      ],
      "text/plain": [
       "<IPython.core.display.HTML object>"
      ]
     },
     "metadata": {},
     "output_type": "display_data"
    },
    {
     "data": {
      "text/html": [
       " View run at <a href='https://wandb.ai/purinyun/Jellyfish/runs/9ev802ce' target=\"_blank\">https://wandb.ai/purinyun/Jellyfish/runs/9ev802ce</a>"
      ],
      "text/plain": [
       "<IPython.core.display.HTML object>"
      ]
     },
     "metadata": {},
     "output_type": "display_data"
    },
    {
     "name": "stdout",
     "output_type": "stream",
     "text": [
      "Epoch 1/5\n",
      "1875/1875 [==============================] - 8s 4ms/step - loss: 2.3110 - accuracy: 0.1050 - val_loss: 2.3051 - val_accuracy: 0.1014\n",
      "INFO:tensorflow:Assets written to: /aiffel/aiffel/wandb/run-20240110_023950-9ev802ce/files/model-best/assets\n"
     ]
    },
    {
     "name": "stderr",
     "output_type": "stream",
     "text": [
      "\u001b[34m\u001b[1mwandb\u001b[0m: Adding directory to artifact (/aiffel/aiffel/wandb/run-20240110_023950-9ev802ce/files/model-best)... Done. 0.0s\n"
     ]
    },
    {
     "name": "stdout",
     "output_type": "stream",
     "text": [
      "Epoch 2/5\n",
      "1875/1875 [==============================] - 7s 4ms/step - loss: 2.3097 - accuracy: 0.1027 - val_loss: 2.3101 - val_accuracy: 0.1014\n",
      "Epoch 3/5\n",
      "1875/1875 [==============================] - 7s 4ms/step - loss: 2.3095 - accuracy: 0.1025 - val_loss: 2.3130 - val_accuracy: 0.1010\n",
      "Epoch 4/5\n",
      "1875/1875 [==============================] - 7s 4ms/step - loss: 2.3097 - accuracy: 0.1028 - val_loss: 2.3079 - val_accuracy: 0.0986\n",
      "Epoch 5/5\n",
      "1875/1875 [==============================] - 7s 4ms/step - loss: 2.3096 - accuracy: 0.1032 - val_loss: 2.3094 - val_accuracy: 0.1122\n",
      "157/157 - 0s - loss: 2.3086 - accuracy: 0.1148\n"
     ]
    },
    {
     "data": {
      "application/vnd.jupyter.widget-view+json": {
       "model_id": "",
       "version_major": 2,
       "version_minor": 0
      },
      "text/plain": [
       "VBox(children=(Label(value='0.923 MB of 0.923 MB uploaded\\r'), FloatProgress(value=1.0, max=1.0)))"
      ]
     },
     "metadata": {},
     "output_type": "display_data"
    },
    {
     "data": {
      "text/html": [
       "<style>\n",
       "    table.wandb td:nth-child(1) { padding: 0 10px; text-align: left ; width: auto;} td:nth-child(2) {text-align: left ; width: 100%}\n",
       "    .wandb-row { display: flex; flex-direction: row; flex-wrap: wrap; justify-content: flex-start; width: 100% }\n",
       "    .wandb-col { display: flex; flex-direction: column; flex-basis: 100%; flex: 1; padding: 10px; }\n",
       "    </style>\n",
       "<div class=\"wandb-row\"><div class=\"wandb-col\"><h3>Run history:</h3><br/><table class=\"wandb\"><tr><td>Test Accuracy Rate: </td><td>▁</td></tr><tr><td>Test Error Rate: </td><td>▁</td></tr><tr><td>accuracy</td><td>█▁▁▂▃</td></tr><tr><td>epoch</td><td>▁▃▅▆█</td></tr><tr><td>loss</td><td>█▂▁▂▂</td></tr><tr><td>val_accuracy</td><td>▂▂▂▁█</td></tr><tr><td>val_loss</td><td>▁▅█▃▅</td></tr></table><br/></div><div class=\"wandb-col\"><h3>Run summary:</h3><br/><table class=\"wandb\"><tr><td>Test Accuracy Rate: </td><td>11.48</td></tr><tr><td>Test Error Rate: </td><td>88.52</td></tr><tr><td>accuracy</td><td>0.10315</td></tr><tr><td>best_epoch</td><td>0</td></tr><tr><td>best_val_loss</td><td>2.30513</td></tr><tr><td>epoch</td><td>4</td></tr><tr><td>loss</td><td>2.30963</td></tr><tr><td>val_accuracy</td><td>0.1122</td></tr><tr><td>val_loss</td><td>2.30938</td></tr></table><br/></div></div>"
      ],
      "text/plain": [
       "<IPython.core.display.HTML object>"
      ]
     },
     "metadata": {},
     "output_type": "display_data"
    },
    {
     "data": {
      "text/html": [
       " View run <strong style=\"color:#cdcd00\">light-sweep-6</strong> at: <a href='https://wandb.ai/purinyun/Jellyfish/runs/9ev802ce' target=\"_blank\">https://wandb.ai/purinyun/Jellyfish/runs/9ev802ce</a><br/>Synced 5 W&B file(s), 51 media file(s), 4 artifact file(s) and 1 other file(s)"
      ],
      "text/plain": [
       "<IPython.core.display.HTML object>"
      ]
     },
     "metadata": {},
     "output_type": "display_data"
    },
    {
     "data": {
      "text/html": [
       "Find logs at: <code>./wandb/run-20240110_023950-9ev802ce/logs</code>"
      ],
      "text/plain": [
       "<IPython.core.display.HTML object>"
      ]
     },
     "metadata": {},
     "output_type": "display_data"
    },
    {
     "name": "stderr",
     "output_type": "stream",
     "text": [
      "\u001b[34m\u001b[1mwandb\u001b[0m: Agent Starting Run: t9q8fjmd with config:\n",
      "\u001b[34m\u001b[1mwandb\u001b[0m: \tepoch: 9\n",
      "\u001b[34m\u001b[1mwandb\u001b[0m: \tlearning_rate: 0.028731747139058756\n"
     ]
    },
    {
     "data": {
      "text/html": [
       "wandb version 0.16.2 is available!  To upgrade, please run:\n",
       " $ pip install wandb --upgrade"
      ],
      "text/plain": [
       "<IPython.core.display.HTML object>"
      ]
     },
     "metadata": {},
     "output_type": "display_data"
    },
    {
     "data": {
      "text/html": [
       "Tracking run with wandb version 0.16.0"
      ],
      "text/plain": [
       "<IPython.core.display.HTML object>"
      ]
     },
     "metadata": {},
     "output_type": "display_data"
    },
    {
     "data": {
      "text/html": [
       "Run data is saved locally in <code>/aiffel/aiffel/wandb/run-20240110_024039-t9q8fjmd</code>"
      ],
      "text/plain": [
       "<IPython.core.display.HTML object>"
      ]
     },
     "metadata": {},
     "output_type": "display_data"
    },
    {
     "data": {
      "text/html": [
       "Syncing run <strong><a href='https://wandb.ai/purinyun/Jellyfish/runs/t9q8fjmd' target=\"_blank\">playful-sweep-7</a></strong> to <a href='https://wandb.ai/purinyun/Jellyfish' target=\"_blank\">Weights & Biases</a> (<a href='https://wandb.me/run' target=\"_blank\">docs</a>)<br/>Sweep page: <a href='https://wandb.ai/purinyun/Jellyfish/sweeps/tt22svqz' target=\"_blank\">https://wandb.ai/purinyun/Jellyfish/sweeps/tt22svqz</a>"
      ],
      "text/plain": [
       "<IPython.core.display.HTML object>"
      ]
     },
     "metadata": {},
     "output_type": "display_data"
    },
    {
     "data": {
      "text/html": [
       " View project at <a href='https://wandb.ai/purinyun/Jellyfish' target=\"_blank\">https://wandb.ai/purinyun/Jellyfish</a>"
      ],
      "text/plain": [
       "<IPython.core.display.HTML object>"
      ]
     },
     "metadata": {},
     "output_type": "display_data"
    },
    {
     "data": {
      "text/html": [
       " View sweep at <a href='https://wandb.ai/purinyun/Jellyfish/sweeps/tt22svqz' target=\"_blank\">https://wandb.ai/purinyun/Jellyfish/sweeps/tt22svqz</a>"
      ],
      "text/plain": [
       "<IPython.core.display.HTML object>"
      ]
     },
     "metadata": {},
     "output_type": "display_data"
    },
    {
     "data": {
      "text/html": [
       " View run at <a href='https://wandb.ai/purinyun/Jellyfish/runs/t9q8fjmd' target=\"_blank\">https://wandb.ai/purinyun/Jellyfish/runs/t9q8fjmd</a>"
      ],
      "text/plain": [
       "<IPython.core.display.HTML object>"
      ]
     },
     "metadata": {},
     "output_type": "display_data"
    },
    {
     "name": "stdout",
     "output_type": "stream",
     "text": [
      "Epoch 1/9\n",
      "1875/1875 [==============================] - 8s 4ms/step - loss: 0.4215 - accuracy: 0.8673 - val_loss: 0.3166 - val_accuracy: 0.8990\n",
      "INFO:tensorflow:Assets written to: /aiffel/aiffel/wandb/run-20240110_024039-t9q8fjmd/files/model-best/assets\n"
     ]
    },
    {
     "name": "stderr",
     "output_type": "stream",
     "text": [
      "\u001b[34m\u001b[1mwandb\u001b[0m: Adding directory to artifact (/aiffel/aiffel/wandb/run-20240110_024039-t9q8fjmd/files/model-best)... Done. 0.0s\n"
     ]
    },
    {
     "name": "stdout",
     "output_type": "stream",
     "text": [
      "Epoch 2/9\n",
      "1875/1875 [==============================] - 7s 4ms/step - loss: 0.3303 - accuracy: 0.8990 - val_loss: 0.2310 - val_accuracy: 0.9276\n",
      "INFO:tensorflow:Assets written to: /aiffel/aiffel/wandb/run-20240110_024039-t9q8fjmd/files/model-best/assets\n"
     ]
    },
    {
     "name": "stderr",
     "output_type": "stream",
     "text": [
      "\u001b[34m\u001b[1mwandb\u001b[0m: Adding directory to artifact (/aiffel/aiffel/wandb/run-20240110_024039-t9q8fjmd/files/model-best)... Done. 0.0s\n"
     ]
    },
    {
     "name": "stdout",
     "output_type": "stream",
     "text": [
      "Epoch 3/9\n",
      "1875/1875 [==============================] - 7s 4ms/step - loss: 0.3213 - accuracy: 0.9026 - val_loss: 0.2833 - val_accuracy: 0.9134\n",
      "Epoch 4/9\n",
      "1875/1875 [==============================] - 6s 3ms/step - loss: 0.3235 - accuracy: 0.9028 - val_loss: 0.3544 - val_accuracy: 0.8938\n",
      "Epoch 5/9\n",
      "1875/1875 [==============================] - 6s 3ms/step - loss: 0.3168 - accuracy: 0.9057 - val_loss: 0.3162 - val_accuracy: 0.8970\n",
      "Epoch 6/9\n",
      "1875/1875 [==============================] - 5s 3ms/step - loss: 0.3106 - accuracy: 0.9066 - val_loss: 0.2630 - val_accuracy: 0.9250\n",
      "Epoch 7/9\n",
      "1875/1875 [==============================] - 6s 3ms/step - loss: 0.3084 - accuracy: 0.9090 - val_loss: 0.2410 - val_accuracy: 0.9294\n",
      "Epoch 8/9\n",
      "1875/1875 [==============================] - 7s 4ms/step - loss: 0.3101 - accuracy: 0.9091 - val_loss: 0.3206 - val_accuracy: 0.9008\n",
      "Epoch 9/9\n",
      "1875/1875 [==============================] - 7s 4ms/step - loss: 0.3048 - accuracy: 0.9104 - val_loss: 0.2719 - val_accuracy: 0.9236\n",
      "157/157 - 0s - loss: 0.2392 - accuracy: 0.9286\n"
     ]
    },
    {
     "data": {
      "application/vnd.jupyter.widget-view+json": {
       "model_id": "",
       "version_major": 2,
       "version_minor": 0
      },
      "text/plain": [
       "VBox(children=(Label(value='1.429 MB of 1.429 MB uploaded (0.014 MB deduped)\\r'), FloatProgress(value=1.0, max…"
      ]
     },
     "metadata": {},
     "output_type": "display_data"
    },
    {
     "data": {
      "text/html": [
       "W&B sync reduced upload amount by 1.0%             "
      ],
      "text/plain": [
       "<IPython.core.display.HTML object>"
      ]
     },
     "metadata": {},
     "output_type": "display_data"
    },
    {
     "data": {
      "text/html": [
       "<style>\n",
       "    table.wandb td:nth-child(1) { padding: 0 10px; text-align: left ; width: auto;} td:nth-child(2) {text-align: left ; width: 100%}\n",
       "    .wandb-row { display: flex; flex-direction: row; flex-wrap: wrap; justify-content: flex-start; width: 100% }\n",
       "    .wandb-col { display: flex; flex-direction: column; flex-basis: 100%; flex: 1; padding: 10px; }\n",
       "    </style>\n",
       "<div class=\"wandb-row\"><div class=\"wandb-col\"><h3>Run history:</h3><br/><table class=\"wandb\"><tr><td>Test Accuracy Rate: </td><td>▁</td></tr><tr><td>Test Error Rate: </td><td>▁</td></tr><tr><td>accuracy</td><td>▁▆▇▇▇▇███</td></tr><tr><td>epoch</td><td>▁▂▃▄▅▅▆▇█</td></tr><tr><td>loss</td><td>█▃▂▂▂▁▁▁▁</td></tr><tr><td>val_accuracy</td><td>▂█▅▁▂▇█▂▇</td></tr><tr><td>val_loss</td><td>▆▁▄█▆▃▂▆▃</td></tr></table><br/></div><div class=\"wandb-col\"><h3>Run summary:</h3><br/><table class=\"wandb\"><tr><td>Test Accuracy Rate: </td><td>92.86</td></tr><tr><td>Test Error Rate: </td><td>7.14</td></tr><tr><td>accuracy</td><td>0.91038</td></tr><tr><td>best_epoch</td><td>1</td></tr><tr><td>best_val_loss</td><td>0.23097</td></tr><tr><td>epoch</td><td>8</td></tr><tr><td>loss</td><td>0.30476</td></tr><tr><td>val_accuracy</td><td>0.9236</td></tr><tr><td>val_loss</td><td>0.27187</td></tr></table><br/></div></div>"
      ],
      "text/plain": [
       "<IPython.core.display.HTML object>"
      ]
     },
     "metadata": {},
     "output_type": "display_data"
    },
    {
     "data": {
      "text/html": [
       " View run <strong style=\"color:#cdcd00\">playful-sweep-7</strong> at: <a href='https://wandb.ai/purinyun/Jellyfish/runs/t9q8fjmd' target=\"_blank\">https://wandb.ai/purinyun/Jellyfish/runs/t9q8fjmd</a><br/>Synced 5 W&B file(s), 91 media file(s), 8 artifact file(s) and 1 other file(s)"
      ],
      "text/plain": [
       "<IPython.core.display.HTML object>"
      ]
     },
     "metadata": {},
     "output_type": "display_data"
    },
    {
     "data": {
      "text/html": [
       "Find logs at: <code>./wandb/run-20240110_024039-t9q8fjmd/logs</code>"
      ],
      "text/plain": [
       "<IPython.core.display.HTML object>"
      ]
     },
     "metadata": {},
     "output_type": "display_data"
    },
    {
     "name": "stderr",
     "output_type": "stream",
     "text": [
      "\u001b[34m\u001b[1mwandb\u001b[0m: Agent Starting Run: 7umfksay with config:\n",
      "\u001b[34m\u001b[1mwandb\u001b[0m: \tepoch: 6\n",
      "\u001b[34m\u001b[1mwandb\u001b[0m: \tlearning_rate: 0.08608040449094705\n"
     ]
    },
    {
     "data": {
      "text/html": [
       "wandb version 0.16.2 is available!  To upgrade, please run:\n",
       " $ pip install wandb --upgrade"
      ],
      "text/plain": [
       "<IPython.core.display.HTML object>"
      ]
     },
     "metadata": {},
     "output_type": "display_data"
    },
    {
     "data": {
      "text/html": [
       "Tracking run with wandb version 0.16.0"
      ],
      "text/plain": [
       "<IPython.core.display.HTML object>"
      ]
     },
     "metadata": {},
     "output_type": "display_data"
    },
    {
     "data": {
      "text/html": [
       "Run data is saved locally in <code>/aiffel/aiffel/wandb/run-20240110_024155-7umfksay</code>"
      ],
      "text/plain": [
       "<IPython.core.display.HTML object>"
      ]
     },
     "metadata": {},
     "output_type": "display_data"
    },
    {
     "data": {
      "text/html": [
       "Syncing run <strong><a href='https://wandb.ai/purinyun/Jellyfish/runs/7umfksay' target=\"_blank\">noble-sweep-8</a></strong> to <a href='https://wandb.ai/purinyun/Jellyfish' target=\"_blank\">Weights & Biases</a> (<a href='https://wandb.me/run' target=\"_blank\">docs</a>)<br/>Sweep page: <a href='https://wandb.ai/purinyun/Jellyfish/sweeps/tt22svqz' target=\"_blank\">https://wandb.ai/purinyun/Jellyfish/sweeps/tt22svqz</a>"
      ],
      "text/plain": [
       "<IPython.core.display.HTML object>"
      ]
     },
     "metadata": {},
     "output_type": "display_data"
    },
    {
     "data": {
      "text/html": [
       " View project at <a href='https://wandb.ai/purinyun/Jellyfish' target=\"_blank\">https://wandb.ai/purinyun/Jellyfish</a>"
      ],
      "text/plain": [
       "<IPython.core.display.HTML object>"
      ]
     },
     "metadata": {},
     "output_type": "display_data"
    },
    {
     "data": {
      "text/html": [
       " View sweep at <a href='https://wandb.ai/purinyun/Jellyfish/sweeps/tt22svqz' target=\"_blank\">https://wandb.ai/purinyun/Jellyfish/sweeps/tt22svqz</a>"
      ],
      "text/plain": [
       "<IPython.core.display.HTML object>"
      ]
     },
     "metadata": {},
     "output_type": "display_data"
    },
    {
     "data": {
      "text/html": [
       " View run at <a href='https://wandb.ai/purinyun/Jellyfish/runs/7umfksay' target=\"_blank\">https://wandb.ai/purinyun/Jellyfish/runs/7umfksay</a>"
      ],
      "text/plain": [
       "<IPython.core.display.HTML object>"
      ]
     },
     "metadata": {},
     "output_type": "display_data"
    },
    {
     "name": "stdout",
     "output_type": "stream",
     "text": [
      "Epoch 1/6\n",
      "1875/1875 [==============================] - 8s 4ms/step - loss: 2.3301 - accuracy: 0.1044 - val_loss: 2.3068 - val_accuracy: 0.1122\n",
      "INFO:tensorflow:Assets written to: /aiffel/aiffel/wandb/run-20240110_024155-7umfksay/files/model-best/assets\n"
     ]
    },
    {
     "name": "stderr",
     "output_type": "stream",
     "text": [
      "\u001b[34m\u001b[1mwandb\u001b[0m: Adding directory to artifact (/aiffel/aiffel/wandb/run-20240110_024155-7umfksay/files/model-best)... Done. 0.0s\n"
     ]
    },
    {
     "name": "stdout",
     "output_type": "stream",
     "text": [
      "Epoch 2/6\n",
      "1875/1875 [==============================] - 7s 4ms/step - loss: 2.3117 - accuracy: 0.1021 - val_loss: 2.3126 - val_accuracy: 0.0872\n",
      "Epoch 3/6\n",
      "1875/1875 [==============================] - 7s 4ms/step - loss: 2.3124 - accuracy: 0.1023 - val_loss: 2.3084 - val_accuracy: 0.0960\n",
      "Epoch 4/6\n",
      "1875/1875 [==============================] - 8s 4ms/step - loss: 2.3127 - accuracy: 0.1024 - val_loss: 2.3058 - val_accuracy: 0.1034\n",
      "INFO:tensorflow:Assets written to: /aiffel/aiffel/wandb/run-20240110_024155-7umfksay/files/model-best/assets\n"
     ]
    },
    {
     "name": "stderr",
     "output_type": "stream",
     "text": [
      "\u001b[34m\u001b[1mwandb\u001b[0m: Adding directory to artifact (/aiffel/aiffel/wandb/run-20240110_024155-7umfksay/files/model-best)... Done. 0.0s\n"
     ]
    },
    {
     "name": "stdout",
     "output_type": "stream",
     "text": [
      "Epoch 5/6\n",
      "1875/1875 [==============================] - 7s 4ms/step - loss: 2.3117 - accuracy: 0.1026 - val_loss: 2.3097 - val_accuracy: 0.1122\n",
      "Epoch 6/6\n",
      "1875/1875 [==============================] - 7s 4ms/step - loss: 2.3118 - accuracy: 0.1046 - val_loss: 2.3239 - val_accuracy: 0.1122\n",
      "157/157 - 0s - loss: 2.3210 - accuracy: 0.1148\n"
     ]
    },
    {
     "data": {
      "application/vnd.jupyter.widget-view+json": {
       "model_id": "",
       "version_major": 2,
       "version_minor": 0
      },
      "text/plain": [
       "VBox(children=(Label(value='1.420 MB of 1.420 MB uploaded (0.014 MB deduped)\\r'), FloatProgress(value=1.0, max…"
      ]
     },
     "metadata": {},
     "output_type": "display_data"
    },
    {
     "data": {
      "text/html": [
       "W&B sync reduced upload amount by 1.0%             "
      ],
      "text/plain": [
       "<IPython.core.display.HTML object>"
      ]
     },
     "metadata": {},
     "output_type": "display_data"
    },
    {
     "data": {
      "text/html": [
       "<style>\n",
       "    table.wandb td:nth-child(1) { padding: 0 10px; text-align: left ; width: auto;} td:nth-child(2) {text-align: left ; width: 100%}\n",
       "    .wandb-row { display: flex; flex-direction: row; flex-wrap: wrap; justify-content: flex-start; width: 100% }\n",
       "    .wandb-col { display: flex; flex-direction: column; flex-basis: 100%; flex: 1; padding: 10px; }\n",
       "    </style>\n",
       "<div class=\"wandb-row\"><div class=\"wandb-col\"><h3>Run history:</h3><br/><table class=\"wandb\"><tr><td>Test Accuracy Rate: </td><td>▁</td></tr><tr><td>Test Error Rate: </td><td>▁</td></tr><tr><td>accuracy</td><td>▇▁▂▂▂█</td></tr><tr><td>epoch</td><td>▁▂▄▅▇█</td></tr><tr><td>loss</td><td>█▁▁▁▁▁</td></tr><tr><td>val_accuracy</td><td>█▁▃▆██</td></tr><tr><td>val_loss</td><td>▁▄▂▁▃█</td></tr></table><br/></div><div class=\"wandb-col\"><h3>Run summary:</h3><br/><table class=\"wandb\"><tr><td>Test Accuracy Rate: </td><td>11.48</td></tr><tr><td>Test Error Rate: </td><td>88.52</td></tr><tr><td>accuracy</td><td>0.10465</td></tr><tr><td>best_epoch</td><td>3</td></tr><tr><td>best_val_loss</td><td>2.30575</td></tr><tr><td>epoch</td><td>5</td></tr><tr><td>loss</td><td>2.31183</td></tr><tr><td>val_accuracy</td><td>0.1122</td></tr><tr><td>val_loss</td><td>2.32388</td></tr></table><br/></div></div>"
      ],
      "text/plain": [
       "<IPython.core.display.HTML object>"
      ]
     },
     "metadata": {},
     "output_type": "display_data"
    },
    {
     "data": {
      "text/html": [
       " View run <strong style=\"color:#cdcd00\">noble-sweep-8</strong> at: <a href='https://wandb.ai/purinyun/Jellyfish/runs/7umfksay' target=\"_blank\">https://wandb.ai/purinyun/Jellyfish/runs/7umfksay</a><br/>Synced 5 W&B file(s), 61 media file(s), 8 artifact file(s) and 1 other file(s)"
      ],
      "text/plain": [
       "<IPython.core.display.HTML object>"
      ]
     },
     "metadata": {},
     "output_type": "display_data"
    },
    {
     "data": {
      "text/html": [
       "Find logs at: <code>./wandb/run-20240110_024155-7umfksay/logs</code>"
      ],
      "text/plain": [
       "<IPython.core.display.HTML object>"
      ]
     },
     "metadata": {},
     "output_type": "display_data"
    },
    {
     "name": "stderr",
     "output_type": "stream",
     "text": [
      "\u001b[34m\u001b[1mwandb\u001b[0m: Agent Starting Run: q48guv7k with config:\n",
      "\u001b[34m\u001b[1mwandb\u001b[0m: \tepoch: 6\n",
      "\u001b[34m\u001b[1mwandb\u001b[0m: \tlearning_rate: 0.04313481318995518\n"
     ]
    },
    {
     "data": {
      "text/html": [
       "wandb version 0.16.2 is available!  To upgrade, please run:\n",
       " $ pip install wandb --upgrade"
      ],
      "text/plain": [
       "<IPython.core.display.HTML object>"
      ]
     },
     "metadata": {},
     "output_type": "display_data"
    },
    {
     "data": {
      "text/html": [
       "Tracking run with wandb version 0.16.0"
      ],
      "text/plain": [
       "<IPython.core.display.HTML object>"
      ]
     },
     "metadata": {},
     "output_type": "display_data"
    },
    {
     "data": {
      "text/html": [
       "Run data is saved locally in <code>/aiffel/aiffel/wandb/run-20240110_024251-q48guv7k</code>"
      ],
      "text/plain": [
       "<IPython.core.display.HTML object>"
      ]
     },
     "metadata": {},
     "output_type": "display_data"
    },
    {
     "data": {
      "text/html": [
       "Syncing run <strong><a href='https://wandb.ai/purinyun/Jellyfish/runs/q48guv7k' target=\"_blank\">vocal-sweep-9</a></strong> to <a href='https://wandb.ai/purinyun/Jellyfish' target=\"_blank\">Weights & Biases</a> (<a href='https://wandb.me/run' target=\"_blank\">docs</a>)<br/>Sweep page: <a href='https://wandb.ai/purinyun/Jellyfish/sweeps/tt22svqz' target=\"_blank\">https://wandb.ai/purinyun/Jellyfish/sweeps/tt22svqz</a>"
      ],
      "text/plain": [
       "<IPython.core.display.HTML object>"
      ]
     },
     "metadata": {},
     "output_type": "display_data"
    },
    {
     "data": {
      "text/html": [
       " View project at <a href='https://wandb.ai/purinyun/Jellyfish' target=\"_blank\">https://wandb.ai/purinyun/Jellyfish</a>"
      ],
      "text/plain": [
       "<IPython.core.display.HTML object>"
      ]
     },
     "metadata": {},
     "output_type": "display_data"
    },
    {
     "data": {
      "text/html": [
       " View sweep at <a href='https://wandb.ai/purinyun/Jellyfish/sweeps/tt22svqz' target=\"_blank\">https://wandb.ai/purinyun/Jellyfish/sweeps/tt22svqz</a>"
      ],
      "text/plain": [
       "<IPython.core.display.HTML object>"
      ]
     },
     "metadata": {},
     "output_type": "display_data"
    },
    {
     "data": {
      "text/html": [
       " View run at <a href='https://wandb.ai/purinyun/Jellyfish/runs/q48guv7k' target=\"_blank\">https://wandb.ai/purinyun/Jellyfish/runs/q48guv7k</a>"
      ],
      "text/plain": [
       "<IPython.core.display.HTML object>"
      ]
     },
     "metadata": {},
     "output_type": "display_data"
    },
    {
     "name": "stdout",
     "output_type": "stream",
     "text": [
      "Epoch 1/6\n",
      "1875/1875 [==============================] - 7s 3ms/step - loss: 2.3084 - accuracy: 0.1050 - val_loss: 2.3038 - val_accuracy: 0.1122\n",
      "INFO:tensorflow:Assets written to: /aiffel/aiffel/wandb/run-20240110_024251-q48guv7k/files/model-best/assets\n"
     ]
    },
    {
     "name": "stderr",
     "output_type": "stream",
     "text": [
      "\u001b[34m\u001b[1mwandb\u001b[0m: Adding directory to artifact (/aiffel/aiffel/wandb/run-20240110_024251-q48guv7k/files/model-best)... Done. 0.0s\n"
     ]
    },
    {
     "name": "stdout",
     "output_type": "stream",
     "text": [
      "Epoch 2/6\n",
      "1875/1875 [==============================] - 7s 4ms/step - loss: 2.3069 - accuracy: 0.1050 - val_loss: 2.3056 - val_accuracy: 0.0960\n",
      "Epoch 3/6\n",
      "1875/1875 [==============================] - 7s 4ms/step - loss: 2.3074 - accuracy: 0.1031 - val_loss: 2.3057 - val_accuracy: 0.1122\n",
      "Epoch 4/6\n",
      "1875/1875 [==============================] - 7s 4ms/step - loss: 2.3069 - accuracy: 0.1068 - val_loss: 2.3146 - val_accuracy: 0.0986\n",
      "Epoch 5/6\n",
      "1875/1875 [==============================] - 7s 4ms/step - loss: 2.3074 - accuracy: 0.1033 - val_loss: 2.3036 - val_accuracy: 0.1122\n",
      "INFO:tensorflow:Assets written to: /aiffel/aiffel/wandb/run-20240110_024251-q48guv7k/files/model-best/assets\n"
     ]
    },
    {
     "name": "stderr",
     "output_type": "stream",
     "text": [
      "\u001b[34m\u001b[1mwandb\u001b[0m: Adding directory to artifact (/aiffel/aiffel/wandb/run-20240110_024251-q48guv7k/files/model-best)... Done. 0.0s\n"
     ]
    },
    {
     "name": "stdout",
     "output_type": "stream",
     "text": [
      "Epoch 6/6\n",
      "1875/1875 [==============================] - 7s 4ms/step - loss: 2.3066 - accuracy: 0.1043 - val_loss: 2.3045 - val_accuracy: 0.1122\n",
      "157/157 - 0s - loss: 2.3078 - accuracy: 0.1148\n"
     ]
    },
    {
     "data": {
      "application/vnd.jupyter.widget-view+json": {
       "model_id": "",
       "version_major": 2,
       "version_minor": 0
      },
      "text/plain": [
       "VBox(children=(Label(value='1.421 MB of 1.421 MB uploaded (0.014 MB deduped)\\r'), FloatProgress(value=1.0, max…"
      ]
     },
     "metadata": {},
     "output_type": "display_data"
    },
    {
     "data": {
      "text/html": [
       "W&B sync reduced upload amount by 1.0%             "
      ],
      "text/plain": [
       "<IPython.core.display.HTML object>"
      ]
     },
     "metadata": {},
     "output_type": "display_data"
    },
    {
     "data": {
      "text/html": [
       "<style>\n",
       "    table.wandb td:nth-child(1) { padding: 0 10px; text-align: left ; width: auto;} td:nth-child(2) {text-align: left ; width: 100%}\n",
       "    .wandb-row { display: flex; flex-direction: row; flex-wrap: wrap; justify-content: flex-start; width: 100% }\n",
       "    .wandb-col { display: flex; flex-direction: column; flex-basis: 100%; flex: 1; padding: 10px; }\n",
       "    </style>\n",
       "<div class=\"wandb-row\"><div class=\"wandb-col\"><h3>Run history:</h3><br/><table class=\"wandb\"><tr><td>Test Accuracy Rate: </td><td>▁</td></tr><tr><td>Test Error Rate: </td><td>▁</td></tr><tr><td>accuracy</td><td>▅▅▁█▂▃</td></tr><tr><td>epoch</td><td>▁▂▄▅▇█</td></tr><tr><td>loss</td><td>█▂▄▂▄▁</td></tr><tr><td>val_accuracy</td><td>█▁█▂██</td></tr><tr><td>val_loss</td><td>▁▂▂█▁▂</td></tr></table><br/></div><div class=\"wandb-col\"><h3>Run summary:</h3><br/><table class=\"wandb\"><tr><td>Test Accuracy Rate: </td><td>11.48</td></tr><tr><td>Test Error Rate: </td><td>88.52</td></tr><tr><td>accuracy</td><td>0.10428</td></tr><tr><td>best_epoch</td><td>4</td></tr><tr><td>best_val_loss</td><td>2.30359</td></tr><tr><td>epoch</td><td>5</td></tr><tr><td>loss</td><td>2.30657</td></tr><tr><td>val_accuracy</td><td>0.1122</td></tr><tr><td>val_loss</td><td>2.30453</td></tr></table><br/></div></div>"
      ],
      "text/plain": [
       "<IPython.core.display.HTML object>"
      ]
     },
     "metadata": {},
     "output_type": "display_data"
    },
    {
     "data": {
      "text/html": [
       " View run <strong style=\"color:#cdcd00\">vocal-sweep-9</strong> at: <a href='https://wandb.ai/purinyun/Jellyfish/runs/q48guv7k' target=\"_blank\">https://wandb.ai/purinyun/Jellyfish/runs/q48guv7k</a><br/>Synced 5 W&B file(s), 61 media file(s), 8 artifact file(s) and 1 other file(s)"
      ],
      "text/plain": [
       "<IPython.core.display.HTML object>"
      ]
     },
     "metadata": {},
     "output_type": "display_data"
    },
    {
     "data": {
      "text/html": [
       "Find logs at: <code>./wandb/run-20240110_024251-q48guv7k/logs</code>"
      ],
      "text/plain": [
       "<IPython.core.display.HTML object>"
      ]
     },
     "metadata": {},
     "output_type": "display_data"
    },
    {
     "name": "stderr",
     "output_type": "stream",
     "text": [
      "\u001b[34m\u001b[1mwandb\u001b[0m: Sweep Agent: Waiting for job.\n",
      "\u001b[34m\u001b[1mwandb\u001b[0m: Job received.\n",
      "\u001b[34m\u001b[1mwandb\u001b[0m: Agent Starting Run: gnjh32vt with config:\n",
      "\u001b[34m\u001b[1mwandb\u001b[0m: \tepoch: 7\n",
      "\u001b[34m\u001b[1mwandb\u001b[0m: \tlearning_rate: 0.06259744017028708\n"
     ]
    },
    {
     "data": {
      "text/html": [
       "wandb version 0.16.2 is available!  To upgrade, please run:\n",
       " $ pip install wandb --upgrade"
      ],
      "text/plain": [
       "<IPython.core.display.HTML object>"
      ]
     },
     "metadata": {},
     "output_type": "display_data"
    },
    {
     "data": {
      "text/html": [
       "Tracking run with wandb version 0.16.0"
      ],
      "text/plain": [
       "<IPython.core.display.HTML object>"
      ]
     },
     "metadata": {},
     "output_type": "display_data"
    },
    {
     "data": {
      "text/html": [
       "Run data is saved locally in <code>/aiffel/aiffel/wandb/run-20240110_024358-gnjh32vt</code>"
      ],
      "text/plain": [
       "<IPython.core.display.HTML object>"
      ]
     },
     "metadata": {},
     "output_type": "display_data"
    },
    {
     "data": {
      "text/html": [
       "Syncing run <strong><a href='https://wandb.ai/purinyun/Jellyfish/runs/gnjh32vt' target=\"_blank\">dark-sweep-10</a></strong> to <a href='https://wandb.ai/purinyun/Jellyfish' target=\"_blank\">Weights & Biases</a> (<a href='https://wandb.me/run' target=\"_blank\">docs</a>)<br/>Sweep page: <a href='https://wandb.ai/purinyun/Jellyfish/sweeps/tt22svqz' target=\"_blank\">https://wandb.ai/purinyun/Jellyfish/sweeps/tt22svqz</a>"
      ],
      "text/plain": [
       "<IPython.core.display.HTML object>"
      ]
     },
     "metadata": {},
     "output_type": "display_data"
    },
    {
     "data": {
      "text/html": [
       " View project at <a href='https://wandb.ai/purinyun/Jellyfish' target=\"_blank\">https://wandb.ai/purinyun/Jellyfish</a>"
      ],
      "text/plain": [
       "<IPython.core.display.HTML object>"
      ]
     },
     "metadata": {},
     "output_type": "display_data"
    },
    {
     "data": {
      "text/html": [
       " View sweep at <a href='https://wandb.ai/purinyun/Jellyfish/sweeps/tt22svqz' target=\"_blank\">https://wandb.ai/purinyun/Jellyfish/sweeps/tt22svqz</a>"
      ],
      "text/plain": [
       "<IPython.core.display.HTML object>"
      ]
     },
     "metadata": {},
     "output_type": "display_data"
    },
    {
     "data": {
      "text/html": [
       " View run at <a href='https://wandb.ai/purinyun/Jellyfish/runs/gnjh32vt' target=\"_blank\">https://wandb.ai/purinyun/Jellyfish/runs/gnjh32vt</a>"
      ],
      "text/plain": [
       "<IPython.core.display.HTML object>"
      ]
     },
     "metadata": {},
     "output_type": "display_data"
    },
    {
     "name": "stdout",
     "output_type": "stream",
     "text": [
      "Epoch 1/7\n",
      "1875/1875 [==============================] - 8s 4ms/step - loss: 2.3127 - accuracy: 0.1043 - val_loss: 2.3035 - val_accuracy: 0.1122\n",
      "INFO:tensorflow:Assets written to: /aiffel/aiffel/wandb/run-20240110_024358-gnjh32vt/files/model-best/assets\n"
     ]
    },
    {
     "name": "stderr",
     "output_type": "stream",
     "text": [
      "\u001b[34m\u001b[1mwandb\u001b[0m: Adding directory to artifact (/aiffel/aiffel/wandb/run-20240110_024358-gnjh32vt/files/model-best)... Done. 0.0s\n"
     ]
    },
    {
     "name": "stdout",
     "output_type": "stream",
     "text": [
      "Epoch 2/7\n",
      "1875/1875 [==============================] - 6s 3ms/step - loss: 2.3095 - accuracy: 0.1043 - val_loss: 2.3104 - val_accuracy: 0.1034\n",
      "Epoch 3/7\n",
      "1875/1875 [==============================] - 7s 3ms/step - loss: 2.3092 - accuracy: 0.1032 - val_loss: 2.3067 - val_accuracy: 0.0960\n",
      "Epoch 4/7\n",
      "1875/1875 [==============================] - 7s 4ms/step - loss: 2.3100 - accuracy: 0.1029 - val_loss: 2.3092 - val_accuracy: 0.1034\n",
      "Epoch 5/7\n",
      "1875/1875 [==============================] - 7s 4ms/step - loss: 2.3095 - accuracy: 0.1036 - val_loss: 2.3066 - val_accuracy: 0.1010\n",
      "Epoch 6/7\n",
      "1875/1875 [==============================] - 7s 4ms/step - loss: 2.3091 - accuracy: 0.1033 - val_loss: 2.3159 - val_accuracy: 0.1034\n",
      "Epoch 7/7\n",
      "1875/1875 [==============================] - 7s 4ms/step - loss: 2.3095 - accuracy: 0.1051 - val_loss: 2.3106 - val_accuracy: 0.0872\n",
      "157/157 - 0s - loss: 2.3089 - accuracy: 0.0912\n"
     ]
    },
    {
     "data": {
      "application/vnd.jupyter.widget-view+json": {
       "model_id": "",
       "version_major": 2,
       "version_minor": 0
      },
      "text/plain": [
       "VBox(children=(Label(value='0.920 MB of 0.920 MB uploaded\\r'), FloatProgress(value=1.0, max=1.0)))"
      ]
     },
     "metadata": {},
     "output_type": "display_data"
    },
    {
     "data": {
      "text/html": [
       "<style>\n",
       "    table.wandb td:nth-child(1) { padding: 0 10px; text-align: left ; width: auto;} td:nth-child(2) {text-align: left ; width: 100%}\n",
       "    .wandb-row { display: flex; flex-direction: row; flex-wrap: wrap; justify-content: flex-start; width: 100% }\n",
       "    .wandb-col { display: flex; flex-direction: column; flex-basis: 100%; flex: 1; padding: 10px; }\n",
       "    </style>\n",
       "<div class=\"wandb-row\"><div class=\"wandb-col\"><h3>Run history:</h3><br/><table class=\"wandb\"><tr><td>Test Accuracy Rate: </td><td>▁</td></tr><tr><td>Test Error Rate: </td><td>▁</td></tr><tr><td>accuracy</td><td>▆▆▂▁▃▂█</td></tr><tr><td>epoch</td><td>▁▂▃▅▆▇█</td></tr><tr><td>loss</td><td>█▂▁▃▂▁▂</td></tr><tr><td>val_accuracy</td><td>█▆▃▆▅▆▁</td></tr><tr><td>val_loss</td><td>▁▅▃▄▃█▅</td></tr></table><br/></div><div class=\"wandb-col\"><h3>Run summary:</h3><br/><table class=\"wandb\"><tr><td>Test Accuracy Rate: </td><td>9.12</td></tr><tr><td>Test Error Rate: </td><td>90.88</td></tr><tr><td>accuracy</td><td>0.10507</td></tr><tr><td>best_epoch</td><td>0</td></tr><tr><td>best_val_loss</td><td>2.30351</td></tr><tr><td>epoch</td><td>6</td></tr><tr><td>loss</td><td>2.30951</td></tr><tr><td>val_accuracy</td><td>0.0872</td></tr><tr><td>val_loss</td><td>2.31062</td></tr></table><br/></div></div>"
      ],
      "text/plain": [
       "<IPython.core.display.HTML object>"
      ]
     },
     "metadata": {},
     "output_type": "display_data"
    },
    {
     "data": {
      "text/html": [
       " View run <strong style=\"color:#cdcd00\">dark-sweep-10</strong> at: <a href='https://wandb.ai/purinyun/Jellyfish/runs/gnjh32vt' target=\"_blank\">https://wandb.ai/purinyun/Jellyfish/runs/gnjh32vt</a><br/>Synced 5 W&B file(s), 71 media file(s), 4 artifact file(s) and 1 other file(s)"
      ],
      "text/plain": [
       "<IPython.core.display.HTML object>"
      ]
     },
     "metadata": {},
     "output_type": "display_data"
    },
    {
     "data": {
      "text/html": [
       "Find logs at: <code>./wandb/run-20240110_024358-gnjh32vt/logs</code>"
      ],
      "text/plain": [
       "<IPython.core.display.HTML object>"
      ]
     },
     "metadata": {},
     "output_type": "display_data"
    }
   ],
   "source": [
    "# entity와 project에 본인의 아이디와 프로젝트명을 입력하세요\n",
    "\n",
    "sweep_id = wandb.sweep(sweep_config,\n",
    "                       entity = \"purinyun\",\n",
    "                       project = \"Jellyfish\")\n",
    "\n",
    "# run the sweep\n",
    "wandb.agent(sweep_id,\n",
    "            function=train,\n",
    "            count=10)"
   ]
  },
  {
   "cell_type": "code",
   "execution_count": 11,
   "id": "853264ed",
   "metadata": {},
   "outputs": [
    {
     "name": "stdout",
     "output_type": "stream",
     "text": [
      "Package                       Version\r\n",
      "----------------------------- ------------------\r\n",
      "absl-py                       0.12.0\r\n",
      "aiohttp                       3.8.1\r\n",
      "aiosignal                     1.2.0\r\n",
      "albumentations                1.1.0\r\n",
      "antlr4-python3-runtime        4.8\r\n",
      "anyio                         3.4.0\r\n",
      "appdirs                       1.4.4\r\n",
      "argon2-cffi                   21.1.0\r\n",
      "astunparse                    1.6.3\r\n",
      "async-generator               1.10\r\n",
      "async-timeout                 4.0.1\r\n",
      "attrs                         21.2.0\r\n",
      "audioread                     2.1.9\r\n",
      "backcall                      0.2.0\r\n",
      "backports.functools-lru-cache 1.6.4\r\n",
      "beautifulsoup4                4.6.0\r\n",
      "black                         21.12b0\r\n",
      "bleach                        4.1.0\r\n",
      "branca                        0.4.2\r\n",
      "brotlipy                      0.7.0\r\n",
      "cachetools                    4.2.4\r\n",
      "certifi                       2021.10.8\r\n",
      "cffi                          1.15.0\r\n",
      "chardet                       3.0.4\r\n",
      "charset-normalizer            2.0.8\r\n",
      "clang                         5.0\r\n",
      "click                         8.0.3\r\n",
      "click-plugins                 1.1.1\r\n",
      "cligj                         0.7.2\r\n",
      "cloudpickle                   2.0.0\r\n",
      "cmake                         3.21.3\r\n",
      "colorama                      0.4.4\r\n",
      "conda                         4.11.0\r\n",
      "conda-build                   3.21.7\r\n",
      "conda-package-handling        1.7.3\r\n",
      "cryptography                  36.0.0\r\n",
      "cssselect                     1.1.0\r\n",
      "customized-konlpy             0.0.64\r\n",
      "cycler                        0.11.0\r\n",
      "Cython                        0.29.24\r\n",
      "dataclasses                   0.6\r\n",
      "datasets                      1.14.0\r\n",
      "debugpy                       1.5.1\r\n",
      "decorator                     4.4.2\r\n",
      "defusedxml                    0.7.1\r\n",
      "delayed                       0.11.0b1\r\n",
      "Deprecated                    1.2.13\r\n",
      "dill                          0.3.4\r\n",
      "dlib                          19.22.1\r\n",
      "docker-pycreds                0.4.0\r\n",
      "docutils                      0.18.1\r\n",
      "editdistance                  0.6.0\r\n",
      "efficientnet                  1.0.0\r\n",
      "efficientnet-pytorch          0.7.1\r\n",
      "entrypoints                   0.3\r\n",
      "essential-generators          1.0\r\n",
      "face-recognition              1.3.0\r\n",
      "face-recognition-models       0.3.0\r\n",
      "feedfinder2                   0.0.4\r\n",
      "feedparser                    6.0.8\r\n",
      "filelock                      3.4.0\r\n",
      "Fiona                         1.8.20\r\n",
      "Flask                         2.0.2\r\n",
      "flask-ngrok                   0.0.25\r\n",
      "flatbuffers                   1.12\r\n",
      "folium                        0.12.1\r\n",
      "fonttools                     4.28.3\r\n",
      "frozenlist                    1.2.0\r\n",
      "fsspec                        2021.11.1\r\n",
      "future                        0.18.2\r\n",
      "fvcore                        0.1.5.post20211023\r\n",
      "gast                          0.4.0\r\n",
      "gensim                        4.1.2\r\n",
      "geopandas                     0.10.1\r\n",
      "gitdb                         4.0.11\r\n",
      "GitPython                     3.1.40\r\n",
      "glob2                         0.7\r\n",
      "google-api-core               2.2.2\r\n",
      "google-api-python-client      2.26.1\r\n",
      "google-auth                   2.3.3\r\n",
      "google-auth-httplib2          0.1.0\r\n",
      "google-auth-oauthlib          0.4.6\r\n",
      "google-cloud-vision           2.5.0\r\n",
      "google-pasta                  0.2.0\r\n",
      "googleapis-common-protos      1.53.0\r\n",
      "googletrans                   3.0.0\r\n",
      "grpcio                        1.42.0\r\n",
      "grpcio-status                 1.42.0\r\n",
      "h11                           0.9.0\r\n",
      "h2                            3.2.0\r\n",
      "h3                            3.7.3\r\n",
      "h5py                          3.1.0\r\n",
      "hiredis                       2.0.0\r\n",
      "hpack                         3.0.0\r\n",
      "hstspreload                   2021.12.1\r\n",
      "httpcore                      0.9.1\r\n",
      "httplib2                      0.20.2\r\n",
      "httpx                         0.13.3\r\n",
      "huggingface-hub               0.0.19\r\n",
      "hydra-core                    1.1.1\r\n",
      "hyperframe                    5.2.0\r\n",
      "idna                          2.10\r\n",
      "imageio                       2.9.0\r\n",
      "imageio-ffmpeg                0.4.5\r\n",
      "imantics                      0.1.12\r\n",
      "imbalanced-learn              0.8.1\r\n",
      "imgaug                        0.4.0\r\n",
      "implicit                      0.4.8\r\n",
      "importlib-metadata            4.8.2\r\n",
      "importlib-resources           5.4.0\r\n",
      "iopath                        0.1.9\r\n",
      "ipykernel                     6.6.0\r\n",
      "ipython                       7.28.0\r\n",
      "ipython-genutils              0.2.0\r\n",
      "ipywidgets                    7.6.5\r\n",
      "itsdangerous                  2.0.1\r\n",
      "jedi                          0.18.1\r\n",
      "jieba3k                       0.35.1\r\n",
      "Jinja2                        3.0.3\r\n",
      "joblib                        1.1.0\r\n",
      "JPype1                        1.3.0\r\n",
      "jsonpickle                    2.0.0\r\n",
      "jsonschema                    4.2.1\r\n",
      "jupyter-client                7.1.0\r\n",
      "jupyter-core                  4.9.1\r\n",
      "jupyter-desktop-server        0.1.3\r\n",
      "jupyter-server                1.13.1\r\n",
      "jupyter-server-proxy          3.2.0\r\n",
      "jupyterlab-pygments           0.1.2\r\n",
      "jupyterlab-widgets            1.0.2\r\n",
      "kaggle                        1.6.2\r\n",
      "keras                         2.6.0\r\n",
      "Keras-Applications            1.0.8\r\n",
      "keras-ocr                     0.8.8\r\n",
      "Keras-Preprocessing           1.1.2\r\n",
      "kiwisolver                    1.3.2\r\n",
      "konlpy                        0.5.2\r\n",
      "labelme2coco                  0.1.2\r\n",
      "libarchive-c                  3.2\r\n",
      "librosa                       0.8.1\r\n",
      "lightgbm                      3.3.0\r\n",
      "llvmlite                      0.36.0\r\n",
      "lmdb                          1.2.1\r\n",
      "loguru                        0.5.3\r\n",
      "lxml                          4.6.3\r\n",
      "Markdown                      3.3.6\r\n",
      "MarkupSafe                    2.0.1\r\n",
      "matplotlib                    3.4.3\r\n",
      "matplotlib-inline             0.1.3\r\n",
      "matplotlib-venn               0.11.6\r\n",
      "mecab-python                  0.996-ko-0.9.2\r\n",
      "mido                          1.2.10\r\n",
      "missingno                     0.5.0\r\n",
      "mistune                       0.8.4\r\n",
      "moviepy                       1.0.3\r\n",
      "msgpack                       1.0.3\r\n",
      "multidict                     5.2.0\r\n",
      "multiprocess                  0.70.12.2\r\n",
      "munch                         2.5.0\r\n",
      "mypy-extensions               0.4.3\r\n",
      "nbclient                      0.5.9\r\n",
      "nbconvert                     6.3.0\r\n",
      "nbformat                      5.1.3\r\n",
      "nest-asyncio                  1.5.4\r\n",
      "networkx                      2.6.3\r\n",
      "newspaper3k                   0.2.8\r\n",
      "nltk                          3.6.5\r\n",
      "notebook                      6.1.6\r\n",
      "numba                         0.53.1\r\n",
      "numpy                         1.21.4\r\n",
      "oauthlib                      3.1.1\r\n",
      "omegaconf                     2.1.1\r\n",
      "opencv-contrib-python         4.5.3.56\r\n",
      "opencv-python                 4.5.3.56\r\n",
      "opencv-python-headless        4.5.4.60\r\n",
      "opt-einsum                    3.3.0\r\n",
      "outcome                       1.1.0\r\n",
      "packaging                     21.3\r\n",
      "pandas                        1.3.3\r\n",
      "pandocfilters                 1.5.0\r\n",
      "parso                         0.8.3\r\n",
      "pathspec                      0.9.0\r\n",
      "patsy                         0.5.2\r\n",
      "pexpect                       4.8.0\r\n",
      "pickleshare                   0.7.5\r\n",
      "Pillow                        8.3.2\r\n",
      "pip                           21.3.1\r\n",
      "pixellib                      0.7.1\r\n",
      "pkginfo                       1.8.1\r\n",
      "platformdirs                  2.4.0\r\n",
      "pmdarima                      1.8.3\r\n",
      "pooch                         1.5.2\r\n",
      "portalocker                   2.3.2\r\n",
      "proglog                       0.1.9\r\n",
      "prometheus-client             0.12.0\r\n",
      "promise                       2.3\r\n",
      "prompt-toolkit                3.0.22\r\n",
      "proto-plus                    1.19.8\r\n",
      "protobuf                      3.19.1\r\n",
      "psutil                        5.8.0\r\n",
      "ptyprocess                    0.7.0\r\n",
      "py4j                          0.10.9\r\n",
      "pyarrow                       6.0.1\r\n",
      "pyasn1                        0.4.8\r\n",
      "pyasn1-modules                0.2.8\r\n",
      "pyclipper                     1.3.0.post2\r\n",
      "pycosat                       0.6.3\r\n",
      "pycparser                     2.21\r\n",
      "pydot                         1.4.2\r\n",
      "pydotplus                     2.0.2\r\n",
      "Pygments                      2.10.0\r\n",
      "pyOpenSSL                     21.0.0\r\n",
      "pyparsing                     3.0.6\r\n",
      "pyproj                        3.2.1\r\n",
      "PyQt5                         5.15.6\r\n",
      "PyQt5-Qt5                     5.15.2\r\n",
      "PyQt5-sip                     12.9.0\r\n",
      "pyrsistent                    0.18.0\r\n",
      "PySocks                       1.7.1\r\n",
      "pyspark                       3.1.2\r\n",
      "pytesseract                   0.3.8\r\n",
      "python-dateutil               2.8.2\r\n",
      "python-Levenshtein            0.12.2\r\n",
      "python-slugify                8.0.1\r\n",
      "pytz                          2021.3\r\n",
      "pyvis                         0.1.9\r\n",
      "PyWavelets                    1.2.0\r\n",
      "PyYAML                        6.0\r\n",
      "pyzmq                         22.3.0\r\n",
      "qudida                        0.0.4\r\n",
      "ray                           1.7.0\r\n",
      "redis                         4.0.2\r\n",
      "regex                         2021.11.10\r\n",
      "requests                      2.26.0\r\n",
      "requests-file                 1.5.1\r\n",
      "requests-oauthlib             1.3.0\r\n",
      "resampy                       0.2.2\r\n",
      "rfc3986                       1.5.0\r\n",
      "rsa                           4.8\r\n",
      "ruamel-yaml-conda             0.15.80\r\n",
      "sacremoses                    0.0.46\r\n",
      "scikit-image                  0.18.3\r\n",
      "scikit-learn                  1.0\r\n",
      "scipy                         1.7.1\r\n",
      "seaborn                       0.11.2\r\n",
      "selenium                      4.0.0\r\n",
      "Send2Trash                    1.8.0\r\n",
      "sentencepiece                 0.1.96\r\n",
      "sentry-sdk                    1.39.1\r\n",
      "setproctitle                  1.3.3\r\n",
      "setuptools                    59.4.0\r\n",
      "sgmllib3k                     1.0.0\r\n",
      "Shapely                       1.7.1\r\n",
      "simpervisor                   0.4\r\n",
      "six                           1.16.0\r\n",
      "smart-open                    5.2.1\r\n",
      "smmap                         5.0.1\r\n",
      "sniffio                       1.2.0\r\n",
      "sortedcontainers              2.4.0\r\n",
      "SoundFile                     0.10.3.post1\r\n",
      "soupsieve                     2.3.1\r\n",
      "soynlp                        0.0.493\r\n",
      "statistics                    1.0.3.5\r\n",
      "statsmodels                   0.13.0\r\n",
      "summa                         1.2.0\r\n",
      "tabulate                      0.8.9\r\n",
      "tensorboard                   2.7.0\r\n",
      "tensorboard-data-server       0.6.1\r\n",
      "tensorboard-plugin-wit        1.8.0\r\n",
      "tensorflow-addons             0.14.0\r\n",
      "tensorflow-datasets           4.4.0\r\n",
      "tensorflow-estimator          2.7.0\r\n",
      "tensorflow-gpu                2.6.0\r\n",
      "tensorflow-hub                0.12.0\r\n",
      "tensorflow-metadata           1.5.0\r\n",
      "termcolor                     1.1.0\r\n",
      "terminado                     0.12.1\r\n",
      "testpath                      0.5.0\r\n",
      "text-unidecode                1.3\r\n",
      "threadpoolctl                 3.0.0\r\n",
      "tifffile                      2021.11.2\r\n",
      "tinysegmenter                 0.3\r\n",
      "tldextract                    3.1.2\r\n",
      "tokenizers                    0.10.3\r\n",
      "tomli                         1.2.2\r\n",
      "torch                         1.9.1+cu111\r\n",
      "torchaudio                    0.9.1\r\n",
      "torchvision                   0.10.1+cu111\r\n",
      "tornado                       6.1\r\n",
      "tqdm                          4.62.3\r\n",
      "traitlets                     5.1.1\r\n",
      "transformers                  4.11.3\r\n",
      "trio                          0.19.0\r\n",
      "trio-websocket                0.9.2\r\n",
      "tweepy                        3.10.0\r\n",
      "typeguard                     2.13.2\r\n",
      "typing_extensions             4.0.1\r\n",
      "uritemplate                   4.1.1\r\n",
      "urllib3                       1.26.18\r\n",
      "validators                    0.18.2\r\n",
      "wandb                         0.16.0\r\n",
      "wcwidth                       0.2.5\r\n",
      "webencodings                  0.5.1\r\n",
      "websocket-client              1.2.3\r\n",
      "websockify                    0.10.0\r\n",
      "Werkzeug                      2.0.2\r\n",
      "wget                          3.2\r\n",
      "wheel                         0.37.0\r\n",
      "widgetsnbextension            3.5.2\r\n",
      "wordcloud                     1.8.1\r\n",
      "wrapt                         1.12.1\r\n",
      "wsproto                       1.0.0\r\n",
      "xgboost                       1.4.2\r\n",
      "xmljson                       0.2.1\r\n",
      "xxhash                        2.0.2\r\n",
      "yacs                          0.1.8\r\n",
      "yarl                          1.7.2\r\n",
      "zipp                          3.6.0\r\n"
     ]
    }
   ],
   "source": [
    "!pip list"
   ]
  },
  {
   "cell_type": "code",
   "execution_count": 12,
   "id": "5164872d",
   "metadata": {},
   "outputs": [
    {
     "name": "stdout",
     "output_type": "stream",
     "text": [
      "Wed Jan 10 02:49:07 2024       \r\n",
      "+-----------------------------------------------------------------------------+\r\n",
      "| NVIDIA-SMI 470.182.03   Driver Version: 470.182.03   CUDA Version: 11.4     |\r\n",
      "|-------------------------------+----------------------+----------------------+\r\n",
      "| GPU  Name        Persistence-M| Bus-Id        Disp.A | Volatile Uncorr. ECC |\r\n",
      "| Fan  Temp  Perf  Pwr:Usage/Cap|         Memory-Usage | GPU-Util  Compute M. |\r\n",
      "|                               |                      |               MIG M. |\r\n",
      "|===============================+======================+======================|\r\n",
      "|   0  Tesla T4            Off  | 00000000:00:04.0 Off |                    0 |\r\n",
      "| N/A   78C    P0    32W /  70W |   3805MiB / 15109MiB |      0%      Default |\r\n",
      "|                               |                      |                  N/A |\r\n",
      "+-------------------------------+----------------------+----------------------+\r\n",
      "                                                                               \r\n",
      "+-----------------------------------------------------------------------------+\r\n",
      "| Processes:                                                                  |\r\n",
      "|  GPU   GI   CI        PID   Type   Process name                  GPU Memory |\r\n",
      "|        ID   ID                                                   Usage      |\r\n",
      "|=============================================================================|\r\n",
      "+-----------------------------------------------------------------------------+\r\n"
     ]
    }
   ],
   "source": [
    "!nvidia-smi"
   ]
  },
  {
   "cell_type": "code",
   "execution_count": null,
   "id": "bbed0ddf",
   "metadata": {},
   "outputs": [],
   "source": []
  },
  {
   "cell_type": "code",
   "execution_count": null,
   "id": "24eaee42",
   "metadata": {},
   "outputs": [],
   "source": []
  },
  {
   "cell_type": "code",
   "execution_count": null,
   "id": "06e7b3d1",
   "metadata": {},
   "outputs": [],
   "source": []
  },
  {
   "cell_type": "code",
   "execution_count": null,
   "id": "1611f9f6",
   "metadata": {},
   "outputs": [],
   "source": []
  },
  {
   "cell_type": "code",
   "execution_count": null,
   "id": "dcc309af",
   "metadata": {},
   "outputs": [],
   "source": []
  },
  {
   "cell_type": "code",
   "execution_count": null,
   "id": "de4a8cfe",
   "metadata": {},
   "outputs": [],
   "source": []
  },
  {
   "cell_type": "code",
   "execution_count": null,
   "id": "3542cd49",
   "metadata": {},
   "outputs": [],
   "source": []
  },
  {
   "cell_type": "code",
   "execution_count": null,
   "id": "19cd6600",
   "metadata": {},
   "outputs": [],
   "source": []
  }
 ],
 "metadata": {
  "kernelspec": {
   "display_name": "Python 3 (ipykernel)",
   "language": "python",
   "name": "python3"
  },
  "language_info": {
   "codemirror_mode": {
    "name": "ipython",
    "version": 3
   },
   "file_extension": ".py",
   "mimetype": "text/x-python",
   "name": "python",
   "nbconvert_exporter": "python",
   "pygments_lexer": "ipython3",
   "version": "3.9.7"
  }
 },
 "nbformat": 4,
 "nbformat_minor": 5
}
